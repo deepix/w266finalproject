{
 "cells": [
  {
   "cell_type": "markdown",
   "metadata": {},
   "source": [
    "The Perez-Rosas2018 data is in the format of one text file per record. The following script will merge the data."
   ]
  },
  {
   "cell_type": "code",
   "execution_count": 1,
   "metadata": {},
   "outputs": [],
   "source": [
    "import os\n",
    "\n",
    "news_source = ['celebrityDataset', 'fakeNewsDataset']\n",
    "news_type = ['fake', 'legit']\n",
    "\n",
    "merged_source = []\n",
    "merged_type = []\n",
    "merged_data = []\n"
   ]
  },
  {
   "cell_type": "code",
   "execution_count": 8,
   "metadata": {},
   "outputs": [
    {
     "name": "stdout",
     "output_type": "stream",
     "text": [
      "Start!\n",
      "Finished!\n"
     ]
    }
   ],
   "source": [
    "print('Start!')\n",
    "\n",
    "for s in news_source:\n",
    "    for t in news_type:\n",
    "        folder = s + '/' + t\n",
    "        for file in os.listdir(folder):\n",
    "            # Get data source\n",
    "            merged_source.append(s)\n",
    "            \n",
    "            # Get data classification\n",
    "            merged_type.append(t)\n",
    "            \n",
    "            # Get data from file\n",
    "            filepath = os.path.join(folder, file)\n",
    "            f = open(filepath, 'r', encoding=\"utf8\")\n",
    "            merged_data.append(f.read())\n",
    "            f.close()\n",
    "            \n",
    "print('Finished!')"
   ]
  },
  {
   "cell_type": "code",
   "execution_count": 10,
   "metadata": {},
   "outputs": [
    {
     "name": "stdout",
     "output_type": "stream",
     "text": [
      "Length of merged data: 1082\n",
      "Data source: celebrityDataset\n",
      "Classification fake\n",
      "Brad Pitt Texts Jennifer Aniston Nonstop: Seeks Intense Emotional Support After Angelina Jolie Divorce! | Celeb Dirty Laundry\n",
      "\n",
      "Brad Pitt and Jennifer Aniston have reportedly gotten back in touch through texting, even though sources from both sides are falling over themselves to clarify that it's 'just texting' and not anything more serious.\n",
      "\n",
      "Oh, Jen. She's probably so happy inside, even though she would never admit it for fear of coming across as petty. Think about it – this is the same man who humiliated her by dumping her for another woman, and now he's the single one while she's happily (or seemingly happily) married. AND he's texting her! It's all her dreams coming true.\n",
      "\n",
      "Anyway, sources claim that Jennifer and Brad have been casually texting over the past few days, and Brad has been discussing how difficult the divorce has been for him. Apparently, Jennifer has been helping him through this, which is a little suspicious. Being magnanimous, fine, but offering support and advice to an ex-husband that you spent more than a decade getting over? Um... no.\n",
      "\n",
      "It's been several months since Angelina Jolie filed for divorce and took their kids with her, and it doesn't take a rocket scientist to figure out that Brad Pitt has been having a tough time since then. He's withdrawn from the spotlight, and we probably wouldn't have seen or heard from him at all if it were not for the fact that he produced Moonlight, one of the most visible films on this year's awards circuit and the eventual winner of this year's Best Picture Oscar.\n",
      "\n",
      "Regardless, for whatever reasons, Brad Pitt and Jennifer Aniston are back in touch – and how does Angelina Jolie feel about this? Well, apparently, not very happy. Again, not much of a surprise. Angelina may have been the one to call it quits, but that doesn't mean that she's over her ex-husband, the same way he's not over her.\n",
      "\n",
      "She didn't leave because she fell out of love with him, she left because of his 'issues', whatever those issues were. And now, to hear that he's talking with his ex-wife, the woman that he left for her? Let's just say – if Brad Pitt and Angelina Jolie weren't already broken up, that might have done the trick.\n",
      "\n",
      "What do you guys think of Brad Pitt and Jennifer Aniston texting again, and do you think Angelina Jolie is jealous about it? Let us know your thoughts in the comments below.\n",
      "\n"
     ]
    }
   ],
   "source": [
    "# View merged results\n",
    "print('Length of merged data:', len(merged_source))\n",
    "print('Data source:', merged_source[101])\n",
    "print('Classification', merged_type[101])\n",
    "print(merged_data[101])\n"
   ]
  },
  {
   "cell_type": "code",
   "execution_count": null,
   "metadata": {},
   "outputs": [],
   "source": []
  }
 ],
 "metadata": {
  "kernelspec": {
   "display_name": "Python 3",
   "language": "python",
   "name": "python3"
  },
  "language_info": {
   "codemirror_mode": {
    "name": "ipython",
    "version": 3
   },
   "file_extension": ".py",
   "mimetype": "text/x-python",
   "name": "python",
   "nbconvert_exporter": "python",
   "pygments_lexer": "ipython3",
   "version": "3.6.5"
  }
 },
 "nbformat": 4,
 "nbformat_minor": 2
}
