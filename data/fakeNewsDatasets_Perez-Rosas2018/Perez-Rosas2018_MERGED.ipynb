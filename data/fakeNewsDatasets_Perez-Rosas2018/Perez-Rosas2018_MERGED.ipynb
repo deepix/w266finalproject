{
 "cells": [
  {
   "cell_type": "markdown",
   "metadata": {},
   "source": [
    "The Perez-Rosas2018 data is in the format of one text file per record. The following code will merge the data into a single dataframe."
   ]
  },
  {
   "cell_type": "code",
   "execution_count": 19,
   "metadata": {},
   "outputs": [],
   "source": [
    "import pandas as pd\n",
    "import re\n",
    "import os\n",
    "import matplotlib.pyplot as plt\n",
    "\n",
    "def remove_numbers(in_str):\n",
    "    return re.sub(r'[0-9]+', '', in_str)\n",
    "    \n",
    "def tabulate_data(dataset_name):\n",
    "    \"\"\"Create a Pandas dataframe out of input Perez-Rosas dataset files\n",
    "    @param dataset_name: Name of the dataset (fakenews or celebrity)\n",
    "    @returns Pandas dataframe with columns:\n",
    "        dataset_name, news_type, news_category, news_headline, news_content\n",
    "    \"\"\"\n",
    "    result_data_list = []\n",
    "    for news_type in ['fake', 'legit']:\n",
    "        folder = '%s/%s' % (dataset_name, news_type)\n",
    "        for fname in os.listdir(folder):\n",
    "            result_data = {}\n",
    "            result_data['dataset_name'] = dataset_name\n",
    "            result_data['news_type'] = news_type\n",
    "            if dataset_name == 'fakeNewsDataset':\n",
    "                result_data['news_category'] = remove_numbers(fname.split('.')[0])\n",
    "            result_data['file_name'] = fname\n",
    "            filepath = os.path.join(folder, fname)\n",
    "            with open(filepath, 'r', encoding=\"utf8\") as f:\n",
    "                file_data = f.read().split('\\n')\n",
    "                result_data['news_headline'] = file_data[0]\n",
    "                result_data['news_content'] = ' '.join(file_data[2:])\n",
    "                result_data['news_all'] = ' '.join(file_data[0:])\n",
    "            result_data['num_words'] = len(result_data['news_all'].split())\n",
    "            result_data_list.append(result_data)\n",
    "    df = pd.DataFrame(result_data_list)\n",
    "    return df\n"
   ]
  },
  {
   "cell_type": "markdown",
   "metadata": {},
   "source": [
    "Let us create dataframes for the two datasets and have a look."
   ]
  },
  {
   "cell_type": "code",
   "execution_count": 17,
   "metadata": {},
   "outputs": [
    {
     "data": {
      "text/html": [
       "<div>\n",
       "<style scoped>\n",
       "    .dataframe tbody tr th:only-of-type {\n",
       "        vertical-align: middle;\n",
       "    }\n",
       "\n",
       "    .dataframe tbody tr th {\n",
       "        vertical-align: top;\n",
       "    }\n",
       "\n",
       "    .dataframe thead th {\n",
       "        text-align: right;\n",
       "    }\n",
       "</style>\n",
       "<table border=\"1\" class=\"dataframe\">\n",
       "  <thead>\n",
       "    <tr style=\"text-align: right;\">\n",
       "      <th></th>\n",
       "      <th>dataset_name</th>\n",
       "      <th>file_name</th>\n",
       "      <th>news_all</th>\n",
       "      <th>news_category</th>\n",
       "      <th>news_content</th>\n",
       "      <th>news_headline</th>\n",
       "      <th>news_type</th>\n",
       "      <th>num_words</th>\n",
       "    </tr>\n",
       "  </thead>\n",
       "  <tbody>\n",
       "    <tr>\n",
       "      <th>0</th>\n",
       "      <td>fakeNewsDataset</td>\n",
       "      <td>biz01.fake.txt</td>\n",
       "      <td>Alex Jones Vindicated in \"Pizzagate\" Controver...</td>\n",
       "      <td>biz</td>\n",
       "      <td>\"Alex Jones, purveyor of the independent inves...</td>\n",
       "      <td>Alex Jones Vindicated in \"Pizzagate\" Controversy</td>\n",
       "      <td>fake</td>\n",
       "      <td>213</td>\n",
       "    </tr>\n",
       "    <tr>\n",
       "      <th>1</th>\n",
       "      <td>fakeNewsDataset</td>\n",
       "      <td>biz02.fake.txt</td>\n",
       "      <td>THE BIG DATA CONSPIRACY  Government and Silico...</td>\n",
       "      <td>biz</td>\n",
       "      <td>Government and Silicon Valley are looking to e...</td>\n",
       "      <td>THE BIG DATA CONSPIRACY</td>\n",
       "      <td>fake</td>\n",
       "      <td>101</td>\n",
       "    </tr>\n",
       "    <tr>\n",
       "      <th>2</th>\n",
       "      <td>fakeNewsDataset</td>\n",
       "      <td>biz03.fake.txt</td>\n",
       "      <td>California Surprisingly Lenient on Auto Emissi...</td>\n",
       "      <td>biz</td>\n",
       "      <td>Setting Up Face-Off With Trump \"California's c...</td>\n",
       "      <td>California Surprisingly Lenient on Auto Emissi...</td>\n",
       "      <td>fake</td>\n",
       "      <td>101</td>\n",
       "    </tr>\n",
       "    <tr>\n",
       "      <th>3</th>\n",
       "      <td>fakeNewsDataset</td>\n",
       "      <td>biz04.fake.txt</td>\n",
       "      <td>Mexicans Are Chomping at the Bit to Stop NAFTA...</td>\n",
       "      <td>biz</td>\n",
       "      <td>Mexico has been unfairly gaining from NAFTA as...</td>\n",
       "      <td>Mexicans Are Chomping at the Bit to Stop NAFTA...</td>\n",
       "      <td>fake</td>\n",
       "      <td>129</td>\n",
       "    </tr>\n",
       "    <tr>\n",
       "      <th>4</th>\n",
       "      <td>fakeNewsDataset</td>\n",
       "      <td>biz05.fake.txt</td>\n",
       "      <td>Breaking News: Snapchat to purchase Twitter fo...</td>\n",
       "      <td>biz</td>\n",
       "      <td>Yahoo and AOL could be extremely popular over ...</td>\n",
       "      <td>Breaking News: Snapchat to purchase Twitter fo...</td>\n",
       "      <td>fake</td>\n",
       "      <td>107</td>\n",
       "    </tr>\n",
       "  </tbody>\n",
       "</table>\n",
       "</div>"
      ],
      "text/plain": [
       "      dataset_name       file_name  \\\n",
       "0  fakeNewsDataset  biz01.fake.txt   \n",
       "1  fakeNewsDataset  biz02.fake.txt   \n",
       "2  fakeNewsDataset  biz03.fake.txt   \n",
       "3  fakeNewsDataset  biz04.fake.txt   \n",
       "4  fakeNewsDataset  biz05.fake.txt   \n",
       "\n",
       "                                            news_all news_category  \\\n",
       "0  Alex Jones Vindicated in \"Pizzagate\" Controver...           biz   \n",
       "1  THE BIG DATA CONSPIRACY  Government and Silico...           biz   \n",
       "2  California Surprisingly Lenient on Auto Emissi...           biz   \n",
       "3  Mexicans Are Chomping at the Bit to Stop NAFTA...           biz   \n",
       "4  Breaking News: Snapchat to purchase Twitter fo...           biz   \n",
       "\n",
       "                                        news_content  \\\n",
       "0  \"Alex Jones, purveyor of the independent inves...   \n",
       "1  Government and Silicon Valley are looking to e...   \n",
       "2  Setting Up Face-Off With Trump \"California's c...   \n",
       "3  Mexico has been unfairly gaining from NAFTA as...   \n",
       "4  Yahoo and AOL could be extremely popular over ...   \n",
       "\n",
       "                                       news_headline news_type  num_words  \n",
       "0   Alex Jones Vindicated in \"Pizzagate\" Controversy      fake        213  \n",
       "1                            THE BIG DATA CONSPIRACY      fake        101  \n",
       "2  California Surprisingly Lenient on Auto Emissi...      fake        101  \n",
       "3  Mexicans Are Chomping at the Bit to Stop NAFTA...      fake        129  \n",
       "4  Breaking News: Snapchat to purchase Twitter fo...      fake        107  "
      ]
     },
     "execution_count": 17,
     "metadata": {},
     "output_type": "execute_result"
    }
   ],
   "source": [
    "fakenews_df = tabulate_data('fakeNewsDataset')\n",
    "fakenews_df[0:5]"
   ]
  },
  {
   "cell_type": "code",
   "execution_count": 21,
   "metadata": {},
   "outputs": [
    {
     "data": {
      "text/plain": [
       "(array([ 27., 121., 159.,  88.,  45.,  17.,  18.,   0.,   4.,   1.]),\n",
       " array([ 58.,  81., 104., 127., 150., 173., 196., 219., 242., 265., 288.]),\n",
       " <a list of 10 Patch objects>)"
      ]
     },
     "execution_count": 21,
     "metadata": {},
     "output_type": "execute_result"
    },
    {
     "data": {
      "image/png": "[encoded data removed]",
      "text/plain": [
       "<Figure size 432x288 with 1 Axes>"
      ]
     },
     "metadata": {},
     "output_type": "display_data"
    }
   ],
   "source": [
    "# View histogram of number of words in news article. We will use this to decide the max length for our LSTM\n",
    "plt.hist(fakenews_df['num_words'])"
   ]
  },
  {
   "cell_type": "code",
   "execution_count": 22,
   "metadata": {},
   "outputs": [
    {
     "data": {
      "text/html": [
       "<div>\n",
       "<style scoped>\n",
       "    .dataframe tbody tr th:only-of-type {\n",
       "        vertical-align: middle;\n",
       "    }\n",
       "\n",
       "    .dataframe tbody tr th {\n",
       "        vertical-align: top;\n",
       "    }\n",
       "\n",
       "    .dataframe thead th {\n",
       "        text-align: right;\n",
       "    }\n",
       "</style>\n",
       "<table border=\"1\" class=\"dataframe\">\n",
       "  <thead>\n",
       "    <tr style=\"text-align: right;\">\n",
       "      <th></th>\n",
       "      <th>dataset_name</th>\n",
       "      <th>file_name</th>\n",
       "      <th>news_all</th>\n",
       "      <th>news_content</th>\n",
       "      <th>news_headline</th>\n",
       "      <th>news_type</th>\n",
       "      <th>num_words</th>\n",
       "    </tr>\n",
       "  </thead>\n",
       "  <tbody>\n",
       "    <tr>\n",
       "      <th>0</th>\n",
       "      <td>celebrityDataset</td>\n",
       "      <td>001fake.txt</td>\n",
       "      <td>JENNIFER ANISTON HINTS AT FRIENDS REUNION  Jen...</td>\n",
       "      <td>Jennifer Aniston is making Friends fans very h...</td>\n",
       "      <td>JENNIFER ANISTON HINTS AT FRIENDS REUNION</td>\n",
       "      <td>fake</td>\n",
       "      <td>82</td>\n",
       "    </tr>\n",
       "    <tr>\n",
       "      <th>1</th>\n",
       "      <td>celebrityDataset</td>\n",
       "      <td>002fake.txt</td>\n",
       "      <td>Brad Pitt Texts Jennifer Aniston Nonstop: Seek...</td>\n",
       "      <td>Brad Pitt and Jennifer Aniston have reportedly...</td>\n",
       "      <td>Brad Pitt Texts Jennifer Aniston Nonstop: Seek...</td>\n",
       "      <td>fake</td>\n",
       "      <td>413</td>\n",
       "    </tr>\n",
       "    <tr>\n",
       "      <th>2</th>\n",
       "      <td>celebrityDataset</td>\n",
       "      <td>003fake.txt</td>\n",
       "      <td>Jennifer Aniston Pregnant With 'Miracle Baby' ...</td>\n",
       "      <td>Jennifer Aniston, 47, has dreamed of becoming ...</td>\n",
       "      <td>Jennifer Aniston Pregnant With 'Miracle Baby' ...</td>\n",
       "      <td>fake</td>\n",
       "      <td>386</td>\n",
       "    </tr>\n",
       "    <tr>\n",
       "      <th>3</th>\n",
       "      <td>celebrityDataset</td>\n",
       "      <td>004fake.txt</td>\n",
       "      <td>Heartbroken Jennifer Aniston Runs For The Bord...</td>\n",
       "      <td>Jennifer Aniston is looking to adopt a baby fr...</td>\n",
       "      <td>Heartbroken Jennifer Aniston Runs For The Bord...</td>\n",
       "      <td>fake</td>\n",
       "      <td>277</td>\n",
       "    </tr>\n",
       "    <tr>\n",
       "      <th>4</th>\n",
       "      <td>celebrityDataset</td>\n",
       "      <td>005fake.txt</td>\n",
       "      <td>Jennifer Aniston Cheated On Brad Pitt With Mat...</td>\n",
       "      <td>Brad Pitt, 51, may not have been the only one ...</td>\n",
       "      <td>Jennifer Aniston Cheated On Brad Pitt With Mat...</td>\n",
       "      <td>fake</td>\n",
       "      <td>329</td>\n",
       "    </tr>\n",
       "  </tbody>\n",
       "</table>\n",
       "</div>"
      ],
      "text/plain": [
       "       dataset_name    file_name  \\\n",
       "0  celebrityDataset  001fake.txt   \n",
       "1  celebrityDataset  002fake.txt   \n",
       "2  celebrityDataset  003fake.txt   \n",
       "3  celebrityDataset  004fake.txt   \n",
       "4  celebrityDataset  005fake.txt   \n",
       "\n",
       "                                            news_all  \\\n",
       "0  JENNIFER ANISTON HINTS AT FRIENDS REUNION  Jen...   \n",
       "1  Brad Pitt Texts Jennifer Aniston Nonstop: Seek...   \n",
       "2  Jennifer Aniston Pregnant With 'Miracle Baby' ...   \n",
       "3  Heartbroken Jennifer Aniston Runs For The Bord...   \n",
       "4  Jennifer Aniston Cheated On Brad Pitt With Mat...   \n",
       "\n",
       "                                        news_content  \\\n",
       "0  Jennifer Aniston is making Friends fans very h...   \n",
       "1  Brad Pitt and Jennifer Aniston have reportedly...   \n",
       "2  Jennifer Aniston, 47, has dreamed of becoming ...   \n",
       "3  Jennifer Aniston is looking to adopt a baby fr...   \n",
       "4  Brad Pitt, 51, may not have been the only one ...   \n",
       "\n",
       "                                       news_headline news_type  num_words  \n",
       "0          JENNIFER ANISTON HINTS AT FRIENDS REUNION      fake         82  \n",
       "1  Brad Pitt Texts Jennifer Aniston Nonstop: Seek...      fake        413  \n",
       "2  Jennifer Aniston Pregnant With 'Miracle Baby' ...      fake        386  \n",
       "3  Heartbroken Jennifer Aniston Runs For The Bord...      fake        277  \n",
       "4  Jennifer Aniston Cheated On Brad Pitt With Mat...      fake        329  "
      ]
     },
     "execution_count": 22,
     "metadata": {},
     "output_type": "execute_result"
    }
   ],
   "source": [
    "celebrity_df = tabulate_data('celebrityDataset')\n",
    "celebrity_df[0:5]"
   ]
  },
  {
   "cell_type": "code",
   "execution_count": 31,
   "metadata": {},
   "outputs": [
    {
     "data": {
      "text/plain": [
       "(array([488.,   8.,   2.,   1.,   0.,   0.,   0.,   0.,   0.,   1.]),\n",
       " array([   28. ,  1502.9,  2977.8,  4452.7,  5927.6,  7402.5,  8877.4,\n",
       "        10352.3, 11827.2, 13302.1, 14777. ]),\n",
       " <a list of 10 Patch objects>)"
      ]
     },
     "execution_count": 31,
     "metadata": {},
     "output_type": "execute_result"
    },
    {
     "data": {
      "image/png": "[encoded data removed]",
      "text/plain": [
       "<Figure size 432x288 with 1 Axes>"
      ]
     },
     "metadata": {},
     "output_type": "display_data"
    }
   ],
   "source": [
    "# View histogram of number of words in news article. We will use this to decide the max length for our LSTM\n",
    "plt.hist(celebrity_df['num_words'])"
   ]
  },
  {
   "cell_type": "code",
   "execution_count": 30,
   "metadata": {},
   "outputs": [
    {
     "data": {
      "text/plain": [
       "dataset_name                                      celebrityDataset\n",
       "file_name                                             060legit.txt\n",
       "news_all         Paul McCartney Is Not Dead (And Neither Is the...\n",
       "news_content     This January marks the tenth anniversary of th...\n",
       "news_headline    Paul McCartney Is Not Dead (And Neither Is the...\n",
       "news_type                                                    legit\n",
       "num_words                                                    14777\n",
       "Name: 309, dtype: object"
      ]
     },
     "execution_count": 30,
     "metadata": {},
     "output_type": "execute_result"
    }
   ],
   "source": [
    "# There is one outlier record with 14,777 words. I reviewed this and it is actually that long.\n",
    "celebrity_df.iloc[celebrity_df['num_words'].idxmax()]"
   ]
  },
  {
   "cell_type": "code",
   "execution_count": 33,
   "metadata": {},
   "outputs": [
    {
     "data": {
      "text/plain": [
       "(array([134., 224.,  87.,  26.,   8.,   5.,   1.,   5.,   1.,   2.]),\n",
       " array([  28. ,  220.7,  413.4,  606.1,  798.8,  991.5, 1184.2, 1376.9,\n",
       "        1569.6, 1762.3, 1955. ]),\n",
       " <a list of 10 Patch objects>)"
      ]
     },
     "execution_count": 33,
     "metadata": {},
     "output_type": "execute_result"
    },
    {
     "data": {
      "image/png": "[encoded data removed]",
      "text/plain": [
       "<Figure size 432x288 with 1 Axes>"
      ]
     },
     "metadata": {},
     "output_type": "display_data"
    }
   ],
   "source": [
    "# The celebrity news articles are longer. We will need to consider that if we decide to use them\n",
    "plt.hist(celebrity_df[celebrity_df['num_words'] < 2000]['num_words'])"
   ]
  },
  {
   "cell_type": "code",
   "execution_count": null,
   "metadata": {},
   "outputs": [],
   "source": []
  }
 ],
 "metadata": {
  "kernelspec": {
   "display_name": "Python 3",
   "language": "python",
   "name": "python3"
  },
  "language_info": {
   "codemirror_mode": {
    "name": "ipython",
    "version": 3
   },
   "file_extension": ".py",
   "mimetype": "text/x-python",
   "name": "python",
   "nbconvert_exporter": "python",
   "pygments_lexer": "ipython3",
   "version": "3.6.5"
  }
 },
 "nbformat": 4,
 "nbformat_minor": 2
}
