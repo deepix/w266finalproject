{
 "cells": [
  {
   "cell_type": "markdown",
   "metadata": {},
   "source": [
    "## I. Import Libraries and Data"
   ]
  },
  {
   "cell_type": "code",
   "execution_count": 1,
   "metadata": {},
   "outputs": [],
   "source": [
    "import re\n",
    "import pandas as pd\n",
    "import numpy as np\n",
    "import os\n",
    "from sklearn.model_selection import train_test_split\n",
    "from sklearn.metrics import confusion_matrix\n",
    "from tpot import TPOTClassifier\n",
    "from sklearn.feature_extraction.text import CountVectorizer\n",
    "from scipy.sparse import coo_matrix, hstack\n",
    "from scipy.sparse import csr_matrix, hstack\n",
    "\n",
    "from sklearn.metrics import classification_report\n",
    "from sklearn import metrics\n",
    "from sklearn.feature_extraction.text import TfidfVectorizer\n",
    "import matplotlib.pyplot as plt\n",
    "import seaborn as sns\n",
    "import re\n",
    "from collections import Counter"
   ]
  },
  {
   "cell_type": "markdown",
   "metadata": {},
   "source": [
    "## II. Define Functions"
   ]
  },
  {
   "cell_type": "markdown",
   "metadata": {},
   "source": [
    "## A. Cleaning and Read Functions"
   ]
  },
  {
   "cell_type": "code",
   "execution_count": 2,
   "metadata": {},
   "outputs": [],
   "source": [
    "def cleanArticle(string):\n",
    "    strip_special_chars = re.compile(\"[^A-Za-z0-9' ]+\")\n",
    "    string = string.lower().replace(\"<br />\", \" \")\n",
    "    return re.sub(strip_special_chars, \"\", string.lower())\n",
    "\n",
    "def read_perez_dataset(dataset_name):\n",
    "    \n",
    "    def remove_numbers(in_str):\n",
    "        return re.sub(r'[0-9]+', '', in_str)\n",
    "    \n",
    "    print(\"Reading dataset\")\n",
    "    result_data_list = []\n",
    "    data_dir = PEREZ_DATASET_PATH\n",
    "    for news_type in ['fake', 'legit']:\n",
    "        folder = '%s/%s/%s' % (data_dir, dataset_name, news_type)\n",
    "        for fname in os.listdir(folder):\n",
    "            result_data = {}\n",
    "            result_data['dataset_name'] = dataset_name\n",
    "            result_data['news_type'] = news_type\n",
    "            if news_type == 'fake':\n",
    "                result_data['is_fake'] = 1\n",
    "            else:\n",
    "                result_data['is_fake'] = 0\n",
    "            if dataset_name == 'fakeNewsDataset':\n",
    "                result_data['news_category'] = remove_numbers(fname.split('.')[0])\n",
    "            result_data['file_name'] = fname\n",
    "            filepath = os.path.join(folder, fname)\n",
    "            with open(filepath, 'r', encoding=\"utf8\") as f:\n",
    "                file_data = f.read().split('\\n')\n",
    "                # Some articles don't have a headline, but only article body.\n",
    "                if len(file_data) > 1:\n",
    "                    news_content_data = ' '.join(file_data[2:])\n",
    "                    result_data['news_headline'] = file_data[0]\n",
    "                else:\n",
    "                    news_content_data = file_data[0]\n",
    "                    result_data['news_headline'] = ''\n",
    "                result_data['news_content'] = news_content_data\n",
    "                result_data['news_all'] = ' '.join(file_data[0:])\n",
    "                result_data_list.append(result_data)\n",
    "                \n",
    "    df = pd.DataFrame(result_data_list)\n",
    "    \n",
    "    df['news_all_clean'] = df['news_all'].apply(lambda a: cleanArticle(a))\n",
    "    \n",
    "    X_train, X_test, y_train, y_test = train_test_split(df.drop(['is_fake',\n",
    "                                                               'news_type','file_name'],\n",
    "                                                               axis = 1), \n",
    "                                                        df['is_fake'], \n",
    "                                                        test_size=.2, random_state=RANDOM_SEED)\n",
    "    \n",
    "    print(\"Finished reading dataset\")\n",
    "    return df, X_train, y_train, X_test, y_test\n",
    "\n",
    "def model_report(title, y_test, predictions, predictions_proba):\n",
    "\n",
    "    \"\"\"\n",
    "    Output: Classification report, confusion matrix, and ROC curve\n",
    "    \"\"\"\n",
    "    print(title)\n",
    "    print(\"---------\")\n",
    "    print(classification_report(y_test, predictions))\n",
    "\n",
    "    cm = metrics.confusion_matrix(y_test, predictions)\n",
    "    plt.figure(figsize=(3,3))\n",
    "    sns.heatmap(cm, annot=True, fmt=\".0f\", linewidths=.5, square = True, cmap = 'Blues_r');\n",
    "    plt.ylabel('Actual label');\n",
    "    plt.xlabel('Predicted label');\n",
    "    all_sample_title = 'Accuracy: {0}'.format(round(metrics.accuracy_score(y_test, predictions),2))\n",
    "    plt.title(all_sample_title, size = 15)\n",
    "    plt.show()\n",
    "    \n",
    "    fpr, tpr, threshold = metrics.roc_curve(y_test, predictions_proba)\n",
    "    roc_auc = metrics.auc(fpr, tpr)\n",
    "\n",
    "    plt.title('Receiver Operating Characteristic')\n",
    "    plt.plot(fpr, tpr, 'b', label = 'AUC = %0.2f' % roc_auc)\n",
    "    plt.legend(loc = 'lower right')\n",
    "    plt.plot([0, 1], [0, 1],'r--')\n",
    "    plt.xlim([0, 1])\n",
    "    plt.ylim([0, 1])\n",
    "    plt.ylabel('True Positive Rate')\n",
    "    plt.xlabel('False Positive Rate')\n",
    "    plt.show()"
   ]
  },
  {
   "cell_type": "markdown",
   "metadata": {},
   "source": [
    "## B. Linguistic-based feature creators"
   ]
  },
  {
   "cell_type": "markdown",
   "metadata": {},
   "source": [
    "### 1. Ngram & Punctuation"
   ]
  },
  {
   "cell_type": "code",
   "execution_count": 3,
   "metadata": {},
   "outputs": [],
   "source": [
    "def pad_punct(s):\n",
    "    \"\"\"\n",
    "    Add padding around specified punctuation.\n",
    "    \"\"\"\n",
    "    s = re.sub('([.,!?():])', r' \\1 ', s)\n",
    "    s = re.sub('\\s{2,}', ' ', s)\n",
    "    return s\n",
    "def tfidf_vectorizer_custom(train, test, ngram_range):\n",
    "    \"\"\"\n",
    "    Create a tfidf vectorized set for train and test data that counts punctuation.\n",
    "    Ngram range = (1,3)\n",
    "    \"\"\"\n",
    "    train = train.apply(pad_punct)\n",
    "    test = test.apply(pad_punct)\n",
    "    vect = TfidfVectorizer(token_pattern=r\"(?u)\\b\\w\\w+\\b|!|\\.|,|\\)|\\(|\\:|\\?|\\\"|\\'\", #pattern keep punctuation in vectorizer\n",
    "                          ngram_range = ngram_range).fit(train)\n",
    "    vocab = vect.vocabulary_.keys()\n",
    "    vocab = sorted(vocab, key=len)\n",
    "    print(\"Traing data info:\")\n",
    "    print('- Vocabulary len:', len(vect.get_feature_names()))\n",
    "    print('- Longest phrase:', max(vect.vocabulary_, key=len))\n",
    "    print('- Smallest 10 phrases:', vocab[0:10])\n",
    "    print('- Sample of features:',np.array(vect.get_feature_names()))\n",
    "    train_vectorized = vect.transform(train)\n",
    "    test_vectorized = vect.transform(test)\n",
    "    return train_vectorized, test_vectorized"
   ]
  },
  {
   "cell_type": "markdown",
   "metadata": {},
   "source": [
    "### 2. Psycholinguistic features"
   ]
  },
  {
   "cell_type": "code",
   "execution_count": 4,
   "metadata": {},
   "outputs": [],
   "source": [
    "def LIWC_counter(df, df_LIWC):\n",
    "    \"\"\"\n",
    "    Inputs: - Data set with field: news_all_clean\n",
    "            - Preprocessed LIWC lookup table\n",
    "    Ouput:  - Data set with 73 additional fields for LIWC count results (normalized over string word count)\n",
    "    \"\"\"\n",
    "    LIWC_vars = train_LIWC.drop('Word', axis = 1).columns.values\n",
    "    for i in LIWC_vars:\n",
    "        df[i] = 0\n",
    "        words = df_LIWC[df_LIWC[i] == 1]['Word']\n",
    "        for a in words:\n",
    "            df[i] = (df[i] + \n",
    "                df.news_all_clean.str.count(str(\" \" + a + \" \"))  + #free floating word\n",
    "                df.news_all_clean.str.count(str(\"^\" + a + \" \")) +  #start word\n",
    "                df.news_all_clean.str.count(str(\" \" + a + \"$\")))   #end word\n",
    "        df[i] = df[i] / df.news_all_clean.str.count(\" \") #normalize over word count\n",
    "    return df"
   ]
  },
  {
   "cell_type": "markdown",
   "metadata": {},
   "source": [
    "### 3. Readability"
   ]
  },
  {
   "cell_type": "code",
   "execution_count": null,
   "metadata": {},
   "outputs": [],
   "source": []
  },
  {
   "cell_type": "markdown",
   "metadata": {},
   "source": [
    "### 4. Syntax"
   ]
  },
  {
   "cell_type": "code",
   "execution_count": null,
   "metadata": {},
   "outputs": [],
   "source": []
  },
  {
   "cell_type": "markdown",
   "metadata": {},
   "source": [
    "## III. Read in Data, Define Test/Train Set"
   ]
  },
  {
   "cell_type": "code",
   "execution_count": 5,
   "metadata": {},
   "outputs": [
    {
     "name": "stdout",
     "output_type": "stream",
     "text": [
      "Reading dataset\n",
      "Finished reading dataset\n"
     ]
    },
    {
     "data": {
      "text/html": [
       "<div>\n",
       "<style scoped>\n",
       "    .dataframe tbody tr th:only-of-type {\n",
       "        vertical-align: middle;\n",
       "    }\n",
       "\n",
       "    .dataframe tbody tr th {\n",
       "        vertical-align: top;\n",
       "    }\n",
       "\n",
       "    .dataframe thead th {\n",
       "        text-align: right;\n",
       "    }\n",
       "</style>\n",
       "<table border=\"1\" class=\"dataframe\">\n",
       "  <thead>\n",
       "    <tr style=\"text-align: right;\">\n",
       "      <th></th>\n",
       "      <th>dataset_name</th>\n",
       "      <th>news_all</th>\n",
       "      <th>news_category</th>\n",
       "      <th>news_content</th>\n",
       "      <th>news_headline</th>\n",
       "      <th>news_all_clean</th>\n",
       "    </tr>\n",
       "  </thead>\n",
       "  <tbody>\n",
       "    <tr>\n",
       "      <th>132</th>\n",
       "      <td>fakeNewsDataset</td>\n",
       "      <td>Real Madrid is willing to pay £100m for Eden H...</td>\n",
       "      <td>sports</td>\n",
       "      <td>says Ramon Calderon \"Real Madrid are not in a ...</td>\n",
       "      <td>Real Madrid is willing to pay £100m for Eden H...</td>\n",
       "      <td>real madrid is willing to pay 100m for eden ha...</td>\n",
       "    </tr>\n",
       "    <tr>\n",
       "      <th>228</th>\n",
       "      <td>fakeNewsDataset</td>\n",
       "      <td>Women arrested  three times is Melania Trump  ...</td>\n",
       "      <td>polit</td>\n",
       "      <td>(CNN) A lady resembling Presidents Trump's wif...</td>\n",
       "      <td>Women arrested  three times is Melania Trump</td>\n",
       "      <td>women arrested  three times is melania trump  ...</td>\n",
       "    </tr>\n",
       "    <tr>\n",
       "      <th>473</th>\n",
       "      <td>fakeNewsDataset</td>\n",
       "      <td>Alec Baldwin says he nearly passed on playing...</td>\n",
       "      <td>entmt</td>\n",
       "      <td>Alec Baldwin has revealed that he almost passe...</td>\n",
       "      <td>Alec Baldwin says he nearly passed on playing...</td>\n",
       "      <td>alec baldwin says he nearly passed on playing...</td>\n",
       "    </tr>\n",
       "    <tr>\n",
       "      <th>42</th>\n",
       "      <td>fakeNewsDataset</td>\n",
       "      <td>Will Smith reunites with Fresh Prince Pals to ...</td>\n",
       "      <td>entmt</td>\n",
       "      <td>Will Smith is back together with the cast of T...</td>\n",
       "      <td>Will Smith reunites with Fresh Prince Pals to ...</td>\n",
       "      <td>will smith reunites with fresh prince pals to ...</td>\n",
       "    </tr>\n",
       "    <tr>\n",
       "      <th>360</th>\n",
       "      <td>fakeNewsDataset</td>\n",
       "      <td>Instagram adds two-factor authentication, secu...</td>\n",
       "      <td>tech</td>\n",
       "      <td>Instagram just made your account harder to hac...</td>\n",
       "      <td>Instagram adds two-factor authentication, secu...</td>\n",
       "      <td>instagram adds twofactor authentication securi...</td>\n",
       "    </tr>\n",
       "  </tbody>\n",
       "</table>\n",
       "</div>"
      ],
      "text/plain": [
       "        dataset_name                                           news_all  \\\n",
       "132  fakeNewsDataset  Real Madrid is willing to pay £100m for Eden H...   \n",
       "228  fakeNewsDataset  Women arrested  three times is Melania Trump  ...   \n",
       "473  fakeNewsDataset   Alec Baldwin says he nearly passed on playing...   \n",
       "42   fakeNewsDataset  Will Smith reunites with Fresh Prince Pals to ...   \n",
       "360  fakeNewsDataset  Instagram adds two-factor authentication, secu...   \n",
       "\n",
       "    news_category                                       news_content  \\\n",
       "132        sports  says Ramon Calderon \"Real Madrid are not in a ...   \n",
       "228         polit  (CNN) A lady resembling Presidents Trump's wif...   \n",
       "473         entmt  Alec Baldwin has revealed that he almost passe...   \n",
       "42          entmt  Will Smith is back together with the cast of T...   \n",
       "360          tech  Instagram just made your account harder to hac...   \n",
       "\n",
       "                                         news_headline  \\\n",
       "132  Real Madrid is willing to pay £100m for Eden H...   \n",
       "228      Women arrested  three times is Melania Trump    \n",
       "473   Alec Baldwin says he nearly passed on playing...   \n",
       "42   Will Smith reunites with Fresh Prince Pals to ...   \n",
       "360  Instagram adds two-factor authentication, secu...   \n",
       "\n",
       "                                        news_all_clean  \n",
       "132  real madrid is willing to pay 100m for eden ha...  \n",
       "228  women arrested  three times is melania trump  ...  \n",
       "473   alec baldwin says he nearly passed on playing...  \n",
       "42   will smith reunites with fresh prince pals to ...  \n",
       "360  instagram adds twofactor authentication securi...  "
      ]
     },
     "execution_count": 5,
     "metadata": {},
     "output_type": "execute_result"
    }
   ],
   "source": [
    "RANDOM_SEED = 42\n",
    "PEREZ_DATASET_PATH = \"../data/fakeNewsDatasets_Perez-Rosas2018\"\n",
    "np.random.seed(RANDOM_SEED)\n",
    "perez_full, train_data, train_labels, test_data, test_labels = read_perez_dataset('fakeNewsDataset')\n",
    "train_data.head()"
   ]
  },
  {
   "cell_type": "markdown",
   "metadata": {},
   "source": [
    "## IV. Run Train/Test Set through LIWC Rented License\n",
    "\n",
    "We rented the LIWC dataset (for 30 days), as seen here: https://store5.esellerate.net/store/checkout/CustomLayout.aspx?s=STR6622550055&pc=&page=OnePageMoreInfo.htm&SkuRefNum=SKU48070077205\n",
    "\n",
    "We downloaded the software, outputted the train/test set, ran the train/test set through the LIWC software, and uploaded the LIWC results.\n",
    "The software marks words to 73 LIWC categories in a binary format (with an 'X')"
   ]
  },
  {
   "cell_type": "code",
   "execution_count": 6,
   "metadata": {},
   "outputs": [],
   "source": [
    "train_data['news_all'].to_csv(\"train_data_news_all_forLIWC.txt\")\n",
    "test_data['news_all'].to_csv(\"test_data_news_all_forLIWC.txt\")\n",
    "train_LIWC = pd.read_csv(\n",
    "    \"LIWC2015 Results (train_data_news_all_clean_forLIWC).csv\").fillna(0).drop('Unnamed: 74', axis = 1).replace('X',1)\n",
    "test_LIWC = pd.read_csv(\n",
    "    \"LIWC2015 Results (test_data_news_all_clean_forLIWC).csv\").fillna(0).drop('Unnamed: 74', axis = 1).replace('X',1)"
   ]
  },
  {
   "cell_type": "code",
   "execution_count": 7,
   "metadata": {},
   "outputs": [
    {
     "data": {
      "text/html": [
       "<div>\n",
       "<style scoped>\n",
       "    .dataframe tbody tr th:only-of-type {\n",
       "        vertical-align: middle;\n",
       "    }\n",
       "\n",
       "    .dataframe tbody tr th {\n",
       "        vertical-align: top;\n",
       "    }\n",
       "\n",
       "    .dataframe thead th {\n",
       "        text-align: right;\n",
       "    }\n",
       "</style>\n",
       "<table border=\"1\" class=\"dataframe\">\n",
       "  <thead>\n",
       "    <tr style=\"text-align: right;\">\n",
       "      <th></th>\n",
       "      <th>Word</th>\n",
       "      <th>function</th>\n",
       "      <th>pronoun</th>\n",
       "      <th>ppron</th>\n",
       "      <th>i</th>\n",
       "      <th>we</th>\n",
       "      <th>you</th>\n",
       "      <th>shehe</th>\n",
       "      <th>they</th>\n",
       "      <th>ipron</th>\n",
       "      <th>...</th>\n",
       "      <th>home</th>\n",
       "      <th>money</th>\n",
       "      <th>relig</th>\n",
       "      <th>death</th>\n",
       "      <th>informal</th>\n",
       "      <th>swear</th>\n",
       "      <th>netspeak</th>\n",
       "      <th>assent</th>\n",
       "      <th>nonflu</th>\n",
       "      <th>filler</th>\n",
       "    </tr>\n",
       "  </thead>\n",
       "  <tbody>\n",
       "    <tr>\n",
       "      <th>0</th>\n",
       "      <td>he</td>\n",
       "      <td>1</td>\n",
       "      <td>1</td>\n",
       "      <td>1</td>\n",
       "      <td>0</td>\n",
       "      <td>0</td>\n",
       "      <td>0</td>\n",
       "      <td>1</td>\n",
       "      <td>0</td>\n",
       "      <td>0</td>\n",
       "      <td>...</td>\n",
       "      <td>0</td>\n",
       "      <td>0</td>\n",
       "      <td>0</td>\n",
       "      <td>0</td>\n",
       "      <td>0</td>\n",
       "      <td>0</td>\n",
       "      <td>0</td>\n",
       "      <td>0</td>\n",
       "      <td>0</td>\n",
       "      <td>0</td>\n",
       "    </tr>\n",
       "    <tr>\n",
       "      <th>1</th>\n",
       "      <td>he'd</td>\n",
       "      <td>1</td>\n",
       "      <td>1</td>\n",
       "      <td>1</td>\n",
       "      <td>0</td>\n",
       "      <td>0</td>\n",
       "      <td>0</td>\n",
       "      <td>1</td>\n",
       "      <td>0</td>\n",
       "      <td>0</td>\n",
       "      <td>...</td>\n",
       "      <td>0</td>\n",
       "      <td>0</td>\n",
       "      <td>0</td>\n",
       "      <td>0</td>\n",
       "      <td>0</td>\n",
       "      <td>0</td>\n",
       "      <td>0</td>\n",
       "      <td>0</td>\n",
       "      <td>0</td>\n",
       "      <td>0</td>\n",
       "    </tr>\n",
       "    <tr>\n",
       "      <th>2</th>\n",
       "      <td>he's</td>\n",
       "      <td>1</td>\n",
       "      <td>1</td>\n",
       "      <td>1</td>\n",
       "      <td>0</td>\n",
       "      <td>0</td>\n",
       "      <td>0</td>\n",
       "      <td>1</td>\n",
       "      <td>0</td>\n",
       "      <td>0</td>\n",
       "      <td>...</td>\n",
       "      <td>0</td>\n",
       "      <td>0</td>\n",
       "      <td>0</td>\n",
       "      <td>0</td>\n",
       "      <td>0</td>\n",
       "      <td>0</td>\n",
       "      <td>0</td>\n",
       "      <td>0</td>\n",
       "      <td>0</td>\n",
       "      <td>0</td>\n",
       "    </tr>\n",
       "    <tr>\n",
       "      <th>3</th>\n",
       "      <td>her</td>\n",
       "      <td>1</td>\n",
       "      <td>1</td>\n",
       "      <td>1</td>\n",
       "      <td>0</td>\n",
       "      <td>0</td>\n",
       "      <td>0</td>\n",
       "      <td>1</td>\n",
       "      <td>0</td>\n",
       "      <td>0</td>\n",
       "      <td>...</td>\n",
       "      <td>0</td>\n",
       "      <td>0</td>\n",
       "      <td>0</td>\n",
       "      <td>0</td>\n",
       "      <td>0</td>\n",
       "      <td>0</td>\n",
       "      <td>0</td>\n",
       "      <td>0</td>\n",
       "      <td>0</td>\n",
       "      <td>0</td>\n",
       "    </tr>\n",
       "    <tr>\n",
       "      <th>4</th>\n",
       "      <td>herself</td>\n",
       "      <td>1</td>\n",
       "      <td>1</td>\n",
       "      <td>1</td>\n",
       "      <td>0</td>\n",
       "      <td>0</td>\n",
       "      <td>0</td>\n",
       "      <td>1</td>\n",
       "      <td>0</td>\n",
       "      <td>0</td>\n",
       "      <td>...</td>\n",
       "      <td>0</td>\n",
       "      <td>0</td>\n",
       "      <td>0</td>\n",
       "      <td>0</td>\n",
       "      <td>0</td>\n",
       "      <td>0</td>\n",
       "      <td>0</td>\n",
       "      <td>0</td>\n",
       "      <td>0</td>\n",
       "      <td>0</td>\n",
       "    </tr>\n",
       "  </tbody>\n",
       "</table>\n",
       "<p>5 rows × 74 columns</p>\n",
       "</div>"
      ],
      "text/plain": [
       "      Word  function  pronoun  ppron  i  we  you  shehe  they  ipron   ...    \\\n",
       "0       he         1        1      1  0   0    0      1     0      0   ...     \n",
       "1     he'd         1        1      1  0   0    0      1     0      0   ...     \n",
       "2     he's         1        1      1  0   0    0      1     0      0   ...     \n",
       "3      her         1        1      1  0   0    0      1     0      0   ...     \n",
       "4  herself         1        1      1  0   0    0      1     0      0   ...     \n",
       "\n",
       "   home  money  relig  death  informal  swear  netspeak  assent  nonflu  \\\n",
       "0     0      0      0      0         0      0         0       0       0   \n",
       "1     0      0      0      0         0      0         0       0       0   \n",
       "2     0      0      0      0         0      0         0       0       0   \n",
       "3     0      0      0      0         0      0         0       0       0   \n",
       "4     0      0      0      0         0      0         0       0       0   \n",
       "\n",
       "   filler  \n",
       "0       0  \n",
       "1       0  \n",
       "2       0  \n",
       "3       0  \n",
       "4       0  \n",
       "\n",
       "[5 rows x 74 columns]"
      ]
     },
     "execution_count": 7,
     "metadata": {},
     "output_type": "execute_result"
    }
   ],
   "source": [
    "train_LIWC.head()"
   ]
  },
  {
   "cell_type": "code",
   "execution_count": 8,
   "metadata": {},
   "outputs": [
    {
     "data": {
      "text/html": [
       "<div>\n",
       "<style scoped>\n",
       "    .dataframe tbody tr th:only-of-type {\n",
       "        vertical-align: middle;\n",
       "    }\n",
       "\n",
       "    .dataframe tbody tr th {\n",
       "        vertical-align: top;\n",
       "    }\n",
       "\n",
       "    .dataframe thead th {\n",
       "        text-align: right;\n",
       "    }\n",
       "</style>\n",
       "<table border=\"1\" class=\"dataframe\">\n",
       "  <thead>\n",
       "    <tr style=\"text-align: right;\">\n",
       "      <th></th>\n",
       "      <th>Word</th>\n",
       "      <th>function</th>\n",
       "      <th>pronoun</th>\n",
       "      <th>ppron</th>\n",
       "      <th>i</th>\n",
       "      <th>we</th>\n",
       "      <th>you</th>\n",
       "      <th>shehe</th>\n",
       "      <th>they</th>\n",
       "      <th>ipron</th>\n",
       "      <th>...</th>\n",
       "      <th>home</th>\n",
       "      <th>money</th>\n",
       "      <th>relig</th>\n",
       "      <th>death</th>\n",
       "      <th>informal</th>\n",
       "      <th>swear</th>\n",
       "      <th>netspeak</th>\n",
       "      <th>assent</th>\n",
       "      <th>nonflu</th>\n",
       "      <th>filler</th>\n",
       "    </tr>\n",
       "  </thead>\n",
       "  <tbody>\n",
       "    <tr>\n",
       "      <th>0</th>\n",
       "      <td>73</td>\n",
       "      <td>0</td>\n",
       "      <td>0</td>\n",
       "      <td>0</td>\n",
       "      <td>0</td>\n",
       "      <td>0</td>\n",
       "      <td>0</td>\n",
       "      <td>0</td>\n",
       "      <td>0</td>\n",
       "      <td>0</td>\n",
       "      <td>...</td>\n",
       "      <td>0</td>\n",
       "      <td>0</td>\n",
       "      <td>0</td>\n",
       "      <td>0</td>\n",
       "      <td>0</td>\n",
       "      <td>0</td>\n",
       "      <td>0</td>\n",
       "      <td>0</td>\n",
       "      <td>0</td>\n",
       "      <td>0.0</td>\n",
       "    </tr>\n",
       "    <tr>\n",
       "      <th>1</th>\n",
       "      <td>first</td>\n",
       "      <td>0</td>\n",
       "      <td>0</td>\n",
       "      <td>0</td>\n",
       "      <td>0</td>\n",
       "      <td>0</td>\n",
       "      <td>0</td>\n",
       "      <td>0</td>\n",
       "      <td>0</td>\n",
       "      <td>0</td>\n",
       "      <td>...</td>\n",
       "      <td>0</td>\n",
       "      <td>0</td>\n",
       "      <td>0</td>\n",
       "      <td>0</td>\n",
       "      <td>0</td>\n",
       "      <td>0</td>\n",
       "      <td>0</td>\n",
       "      <td>0</td>\n",
       "      <td>0</td>\n",
       "      <td>0.0</td>\n",
       "    </tr>\n",
       "    <tr>\n",
       "      <th>2</th>\n",
       "      <td>amazon</td>\n",
       "      <td>0</td>\n",
       "      <td>0</td>\n",
       "      <td>0</td>\n",
       "      <td>0</td>\n",
       "      <td>0</td>\n",
       "      <td>0</td>\n",
       "      <td>0</td>\n",
       "      <td>0</td>\n",
       "      <td>0</td>\n",
       "      <td>...</td>\n",
       "      <td>0</td>\n",
       "      <td>0</td>\n",
       "      <td>0</td>\n",
       "      <td>0</td>\n",
       "      <td>0</td>\n",
       "      <td>0</td>\n",
       "      <td>0</td>\n",
       "      <td>0</td>\n",
       "      <td>0</td>\n",
       "      <td>0.0</td>\n",
       "    </tr>\n",
       "    <tr>\n",
       "      <th>3</th>\n",
       "      <td>prime</td>\n",
       "      <td>0</td>\n",
       "      <td>0</td>\n",
       "      <td>0</td>\n",
       "      <td>0</td>\n",
       "      <td>0</td>\n",
       "      <td>0</td>\n",
       "      <td>0</td>\n",
       "      <td>0</td>\n",
       "      <td>0</td>\n",
       "      <td>...</td>\n",
       "      <td>0</td>\n",
       "      <td>0</td>\n",
       "      <td>0</td>\n",
       "      <td>0</td>\n",
       "      <td>0</td>\n",
       "      <td>0</td>\n",
       "      <td>0</td>\n",
       "      <td>0</td>\n",
       "      <td>0</td>\n",
       "      <td>0.0</td>\n",
       "    </tr>\n",
       "    <tr>\n",
       "      <th>4</th>\n",
       "      <td>air</td>\n",
       "      <td>0</td>\n",
       "      <td>0</td>\n",
       "      <td>0</td>\n",
       "      <td>0</td>\n",
       "      <td>0</td>\n",
       "      <td>0</td>\n",
       "      <td>0</td>\n",
       "      <td>0</td>\n",
       "      <td>0</td>\n",
       "      <td>...</td>\n",
       "      <td>0</td>\n",
       "      <td>0</td>\n",
       "      <td>0</td>\n",
       "      <td>0</td>\n",
       "      <td>0</td>\n",
       "      <td>0</td>\n",
       "      <td>0</td>\n",
       "      <td>0</td>\n",
       "      <td>0</td>\n",
       "      <td>0.0</td>\n",
       "    </tr>\n",
       "  </tbody>\n",
       "</table>\n",
       "<p>5 rows × 74 columns</p>\n",
       "</div>"
      ],
      "text/plain": [
       "     Word  function  pronoun  ppron  i  we  you  shehe  they  ipron   ...    \\\n",
       "0      73         0        0      0  0   0    0      0     0      0   ...     \n",
       "1   first         0        0      0  0   0    0      0     0      0   ...     \n",
       "2  amazon         0        0      0  0   0    0      0     0      0   ...     \n",
       "3   prime         0        0      0  0   0    0      0     0      0   ...     \n",
       "4     air         0        0      0  0   0    0      0     0      0   ...     \n",
       "\n",
       "   home  money  relig  death  informal  swear  netspeak  assent  nonflu  \\\n",
       "0     0      0      0      0         0      0         0       0       0   \n",
       "1     0      0      0      0         0      0         0       0       0   \n",
       "2     0      0      0      0         0      0         0       0       0   \n",
       "3     0      0      0      0         0      0         0       0       0   \n",
       "4     0      0      0      0         0      0         0       0       0   \n",
       "\n",
       "   filler  \n",
       "0     0.0  \n",
       "1     0.0  \n",
       "2     0.0  \n",
       "3     0.0  \n",
       "4     0.0  \n",
       "\n",
       "[5 rows x 74 columns]"
      ]
     },
     "execution_count": 8,
     "metadata": {},
     "output_type": "execute_result"
    }
   ],
   "source": [
    "test_LIWC.head()"
   ]
  },
  {
   "cell_type": "markdown",
   "metadata": {},
   "source": [
    "## IV. Quick Look at Data"
   ]
  },
  {
   "cell_type": "code",
   "execution_count": 9,
   "metadata": {},
   "outputs": [
    {
     "data": {
      "text/plain": [
       "\"women arrested  three times is melania trump   cnn a lady resembling presidents trump's wife was arrested on multiple occasions when she was discovered without her makeup on the us secret service near the south grounds of the us treasury building was alerted to a women who looked like the presidents wife running away from the house it didn't take long for the washington metropolitan police department spokesman to announce that it was melania again and they escorted her back to her husband without incident\""
      ]
     },
     "execution_count": 9,
     "metadata": {},
     "output_type": "execute_result"
    }
   ],
   "source": [
    "train_data['news_all_clean'].iloc[1]"
   ]
  },
  {
   "cell_type": "code",
   "execution_count": 10,
   "metadata": {},
   "outputs": [
    {
     "name": "stdout",
     "output_type": "stream",
     "text": [
      "full perez size:  (480, 9)\n",
      "train size:  (384,)\n"
     ]
    }
   ],
   "source": [
    "print(\"full perez size: \", perez_full.shape)\n",
    "print(\"train size: \",train_labels.shape)"
   ]
  },
  {
   "cell_type": "code",
   "execution_count": 11,
   "metadata": {},
   "outputs": [
    {
     "data": {
      "image/png": "[encoded data removed]",
      "text/plain": [
       "<matplotlib.figure.Figure at 0x1a129e70f0>"
      ]
     },
     "metadata": {},
     "output_type": "display_data"
    }
   ],
   "source": [
    "sns.catplot(x=\"news_category\", kind = \"count\", hue=\"is_fake\", data=perez_full)\n",
    "plt.show()"
   ]
  },
  {
   "cell_type": "code",
   "execution_count": 12,
   "metadata": {},
   "outputs": [
    {
     "data": {
      "text/plain": [
       "news_category  is_fake\n",
       "biz            0          40\n",
       "               1          40\n",
       "edu            0          40\n",
       "               1          40\n",
       "entmt          0          40\n",
       "               1          40\n",
       "polit          0          40\n",
       "               1          40\n",
       "sports         0          40\n",
       "               1          40\n",
       "tech           0          40\n",
       "               1          40\n",
       "dtype: int64"
      ]
     },
     "execution_count": 12,
     "metadata": {},
     "output_type": "execute_result"
    }
   ],
   "source": [
    "perez_full.groupby(['news_category','is_fake']).size()"
   ]
  },
  {
   "cell_type": "markdown",
   "metadata": {},
   "source": [
    "## V. Create Feature-Enriched Training/Testing Datasets"
   ]
  },
  {
   "cell_type": "markdown",
   "metadata": {},
   "source": [
    "## A. Implement Feature Creating Functions"
   ]
  },
  {
   "cell_type": "markdown",
   "metadata": {},
   "source": [
    "#### 1. Ngram & Punctuation"
   ]
  },
  {
   "cell_type": "code",
   "execution_count": 13,
   "metadata": {},
   "outputs": [
    {
     "name": "stdout",
     "output_type": "stream",
     "text": [
      "Traing data info:\n",
      "- Vocabulary len: 79354\n",
      "- Longest phrase: httpeditioncnncom20170328footballfootballmessiargentinabanindexhtml argentina felt\n",
      "- Smallest 10 phrases: [\"'\", 'is', 'to', 'in', 'be', 'on', 'as', 'of', 'if', 'hq']\n",
      "- Sample of features: [\"'\" \"' '\" \"' ' basketball\" ... 'zuckerberg' 'zuckerberg is'\n",
      " 'zuckerberg is the']\n"
     ]
    }
   ],
   "source": [
    "train_data_vectorized, test_data_vectorized = tfidf_vectorizer_custom(\n",
    "    train_data['news_all_clean'], test_data['news_all_clean'], ngram_range = (1,3))"
   ]
  },
  {
   "cell_type": "markdown",
   "metadata": {},
   "source": [
    "#### 2. Psycholinguistic features"
   ]
  },
  {
   "cell_type": "code",
   "execution_count": 14,
   "metadata": {},
   "outputs": [
    {
     "data": {
      "text/html": [
       "<div>\n",
       "<style scoped>\n",
       "    .dataframe tbody tr th:only-of-type {\n",
       "        vertical-align: middle;\n",
       "    }\n",
       "\n",
       "    .dataframe tbody tr th {\n",
       "        vertical-align: top;\n",
       "    }\n",
       "\n",
       "    .dataframe thead th {\n",
       "        text-align: right;\n",
       "    }\n",
       "</style>\n",
       "<table border=\"1\" class=\"dataframe\">\n",
       "  <thead>\n",
       "    <tr style=\"text-align: right;\">\n",
       "      <th></th>\n",
       "      <th>dataset_name</th>\n",
       "      <th>news_all</th>\n",
       "      <th>news_category</th>\n",
       "      <th>news_content</th>\n",
       "      <th>news_headline</th>\n",
       "      <th>news_all_clean</th>\n",
       "      <th>function</th>\n",
       "      <th>pronoun</th>\n",
       "      <th>ppron</th>\n",
       "      <th>i</th>\n",
       "      <th>...</th>\n",
       "      <th>home</th>\n",
       "      <th>money</th>\n",
       "      <th>relig</th>\n",
       "      <th>death</th>\n",
       "      <th>informal</th>\n",
       "      <th>swear</th>\n",
       "      <th>netspeak</th>\n",
       "      <th>assent</th>\n",
       "      <th>nonflu</th>\n",
       "      <th>filler</th>\n",
       "    </tr>\n",
       "  </thead>\n",
       "  <tbody>\n",
       "    <tr>\n",
       "      <th>132</th>\n",
       "      <td>fakeNewsDataset</td>\n",
       "      <td>Real Madrid is willing to pay £100m for Eden H...</td>\n",
       "      <td>sports</td>\n",
       "      <td>says Ramon Calderon \"Real Madrid are not in a ...</td>\n",
       "      <td>Real Madrid is willing to pay £100m for Eden H...</td>\n",
       "      <td>real madrid is willing to pay 100m for eden ha...</td>\n",
       "      <td>0.462766</td>\n",
       "      <td>0.042553</td>\n",
       "      <td>0.021277</td>\n",
       "      <td>0.005319</td>\n",
       "      <td>...</td>\n",
       "      <td>0.000000</td>\n",
       "      <td>0.026596</td>\n",
       "      <td>0.0</td>\n",
       "      <td>0.000000</td>\n",
       "      <td>0.000000</td>\n",
       "      <td>0.0</td>\n",
       "      <td>0.000000</td>\n",
       "      <td>0.0</td>\n",
       "      <td>0.0</td>\n",
       "      <td>0.0</td>\n",
       "    </tr>\n",
       "    <tr>\n",
       "      <th>228</th>\n",
       "      <td>fakeNewsDataset</td>\n",
       "      <td>Women arrested  three times is Melania Trump  ...</td>\n",
       "      <td>polit</td>\n",
       "      <td>(CNN) A lady resembling Presidents Trump's wif...</td>\n",
       "      <td>Women arrested  three times is Melania Trump</td>\n",
       "      <td>women arrested  three times is melania trump  ...</td>\n",
       "      <td>0.488372</td>\n",
       "      <td>0.127907</td>\n",
       "      <td>0.081395</td>\n",
       "      <td>0.000000</td>\n",
       "      <td>...</td>\n",
       "      <td>0.011628</td>\n",
       "      <td>0.011628</td>\n",
       "      <td>0.0</td>\n",
       "      <td>0.000000</td>\n",
       "      <td>0.000000</td>\n",
       "      <td>0.0</td>\n",
       "      <td>0.000000</td>\n",
       "      <td>0.0</td>\n",
       "      <td>0.0</td>\n",
       "      <td>0.0</td>\n",
       "    </tr>\n",
       "    <tr>\n",
       "      <th>473</th>\n",
       "      <td>fakeNewsDataset</td>\n",
       "      <td>Alec Baldwin says he nearly passed on playing...</td>\n",
       "      <td>entmt</td>\n",
       "      <td>Alec Baldwin has revealed that he almost passe...</td>\n",
       "      <td>Alec Baldwin says he nearly passed on playing...</td>\n",
       "      <td>alec baldwin says he nearly passed on playing...</td>\n",
       "      <td>0.482143</td>\n",
       "      <td>0.138393</td>\n",
       "      <td>0.084821</td>\n",
       "      <td>0.035714</td>\n",
       "      <td>...</td>\n",
       "      <td>0.000000</td>\n",
       "      <td>0.013393</td>\n",
       "      <td>0.0</td>\n",
       "      <td>0.000000</td>\n",
       "      <td>0.000000</td>\n",
       "      <td>0.0</td>\n",
       "      <td>0.000000</td>\n",
       "      <td>0.0</td>\n",
       "      <td>0.0</td>\n",
       "      <td>0.0</td>\n",
       "    </tr>\n",
       "    <tr>\n",
       "      <th>42</th>\n",
       "      <td>fakeNewsDataset</td>\n",
       "      <td>Will Smith reunites with Fresh Prince Pals to ...</td>\n",
       "      <td>entmt</td>\n",
       "      <td>Will Smith is back together with the cast of T...</td>\n",
       "      <td>Will Smith reunites with Fresh Prince Pals to ...</td>\n",
       "      <td>will smith reunites with fresh prince pals to ...</td>\n",
       "      <td>0.422535</td>\n",
       "      <td>0.070423</td>\n",
       "      <td>0.035211</td>\n",
       "      <td>0.007042</td>\n",
       "      <td>...</td>\n",
       "      <td>0.007042</td>\n",
       "      <td>0.007042</td>\n",
       "      <td>0.0</td>\n",
       "      <td>0.007042</td>\n",
       "      <td>0.000000</td>\n",
       "      <td>0.0</td>\n",
       "      <td>0.000000</td>\n",
       "      <td>0.0</td>\n",
       "      <td>0.0</td>\n",
       "      <td>0.0</td>\n",
       "    </tr>\n",
       "    <tr>\n",
       "      <th>360</th>\n",
       "      <td>fakeNewsDataset</td>\n",
       "      <td>Instagram adds two-factor authentication, secu...</td>\n",
       "      <td>tech</td>\n",
       "      <td>Instagram just made your account harder to hac...</td>\n",
       "      <td>Instagram adds two-factor authentication, secu...</td>\n",
       "      <td>instagram adds twofactor authentication securi...</td>\n",
       "      <td>0.306452</td>\n",
       "      <td>0.064516</td>\n",
       "      <td>0.048387</td>\n",
       "      <td>0.000000</td>\n",
       "      <td>...</td>\n",
       "      <td>0.000000</td>\n",
       "      <td>0.016129</td>\n",
       "      <td>0.0</td>\n",
       "      <td>0.000000</td>\n",
       "      <td>0.016129</td>\n",
       "      <td>0.0</td>\n",
       "      <td>0.016129</td>\n",
       "      <td>0.0</td>\n",
       "      <td>0.0</td>\n",
       "      <td>0.0</td>\n",
       "    </tr>\n",
       "  </tbody>\n",
       "</table>\n",
       "<p>5 rows × 79 columns</p>\n",
       "</div>"
      ],
      "text/plain": [
       "        dataset_name                                           news_all  \\\n",
       "132  fakeNewsDataset  Real Madrid is willing to pay £100m for Eden H...   \n",
       "228  fakeNewsDataset  Women arrested  three times is Melania Trump  ...   \n",
       "473  fakeNewsDataset   Alec Baldwin says he nearly passed on playing...   \n",
       "42   fakeNewsDataset  Will Smith reunites with Fresh Prince Pals to ...   \n",
       "360  fakeNewsDataset  Instagram adds two-factor authentication, secu...   \n",
       "\n",
       "    news_category                                       news_content  \\\n",
       "132        sports  says Ramon Calderon \"Real Madrid are not in a ...   \n",
       "228         polit  (CNN) A lady resembling Presidents Trump's wif...   \n",
       "473         entmt  Alec Baldwin has revealed that he almost passe...   \n",
       "42          entmt  Will Smith is back together with the cast of T...   \n",
       "360          tech  Instagram just made your account harder to hac...   \n",
       "\n",
       "                                         news_headline  \\\n",
       "132  Real Madrid is willing to pay £100m for Eden H...   \n",
       "228      Women arrested  three times is Melania Trump    \n",
       "473   Alec Baldwin says he nearly passed on playing...   \n",
       "42   Will Smith reunites with Fresh Prince Pals to ...   \n",
       "360  Instagram adds two-factor authentication, secu...   \n",
       "\n",
       "                                        news_all_clean  function   pronoun  \\\n",
       "132  real madrid is willing to pay 100m for eden ha...  0.462766  0.042553   \n",
       "228  women arrested  three times is melania trump  ...  0.488372  0.127907   \n",
       "473   alec baldwin says he nearly passed on playing...  0.482143  0.138393   \n",
       "42   will smith reunites with fresh prince pals to ...  0.422535  0.070423   \n",
       "360  instagram adds twofactor authentication securi...  0.306452  0.064516   \n",
       "\n",
       "        ppron         i   ...        home     money  relig     death  \\\n",
       "132  0.021277  0.005319   ...    0.000000  0.026596    0.0  0.000000   \n",
       "228  0.081395  0.000000   ...    0.011628  0.011628    0.0  0.000000   \n",
       "473  0.084821  0.035714   ...    0.000000  0.013393    0.0  0.000000   \n",
       "42   0.035211  0.007042   ...    0.007042  0.007042    0.0  0.007042   \n",
       "360  0.048387  0.000000   ...    0.000000  0.016129    0.0  0.000000   \n",
       "\n",
       "     informal  swear  netspeak  assent  nonflu  filler  \n",
       "132  0.000000    0.0  0.000000     0.0     0.0     0.0  \n",
       "228  0.000000    0.0  0.000000     0.0     0.0     0.0  \n",
       "473  0.000000    0.0  0.000000     0.0     0.0     0.0  \n",
       "42   0.000000    0.0  0.000000     0.0     0.0     0.0  \n",
       "360  0.016129    0.0  0.016129     0.0     0.0     0.0  \n",
       "\n",
       "[5 rows x 79 columns]"
      ]
     },
     "execution_count": 14,
     "metadata": {},
     "output_type": "execute_result"
    }
   ],
   "source": [
    "train_data_LIWC = LIWC_counter(train_data, train_LIWC)\n",
    "test_data_LIWC = LIWC_counter(test_data, test_LIWC)\n",
    "train_data_LIWC.head()"
   ]
  },
  {
   "cell_type": "markdown",
   "metadata": {},
   "source": [
    "### B. Unify All Features in Single Dataset"
   ]
  },
  {
   "cell_type": "code",
   "execution_count": 15,
   "metadata": {},
   "outputs": [],
   "source": [
    "def add_feature(sparse, df_to_sparse, df_ignore):\n",
    "    \"\"\"\n",
    "    Returns sparse feature matrix with added feature.\n",
    "    \"\"\"\n",
    "    return hstack([coo_matrix(df_to_sparse.drop(df_ignore.columns.values, axis = 1)),sparse])"
   ]
  },
  {
   "cell_type": "code",
   "execution_count": 16,
   "metadata": {},
   "outputs": [],
   "source": [
    "#1. Combine ngram and LIWC\n",
    "train_ngram_LIWC = add_feature(train_data_vectorized, train_data_LIWC, train_data)\n",
    "test_ngram_LIWC = add_feature(test_data_vectorized, test_data_LIWC, test_data)\n",
    "\n",
    "#5. Add news category\n",
    "vectorizer = CountVectorizer()\n",
    "vectorizer.fit(train_data['news_category'])\n",
    "train_news_category_vec = vectorizer.transform(train_data['news_category'])\n",
    "test_news_category_vec  = vectorizer.transform(test_data['news_category'])\n",
    "train_final = hstack([train_ngram_LIWC,train_news_category_vec])\n",
    "test_final =  hstack([test_ngram_LIWC,test_news_category_vec])"
   ]
  },
  {
   "cell_type": "code",
   "execution_count": 17,
   "metadata": {},
   "outputs": [
    {
     "data": {
      "text/plain": [
       "<384x79360 sparse matrix of type '<class 'numpy.float64'>'\n",
       "\twith 121088 stored elements in COOrdinate format>"
      ]
     },
     "execution_count": 17,
     "metadata": {},
     "output_type": "execute_result"
    }
   ],
   "source": [
    "train_final"
   ]
  },
  {
   "cell_type": "markdown",
   "metadata": {},
   "source": [
    "## V. Classification Models with Automated Machine Learning (TPOT)"
   ]
  },
  {
   "cell_type": "markdown",
   "metadata": {},
   "source": [
    "#### 1. Run TPOT Optimizer"
   ]
  },
  {
   "cell_type": "code",
   "execution_count": 18,
   "metadata": {},
   "outputs": [],
   "source": [
    "pipeline_optimizer = TPOTClassifier(generations=5, population_size=20, cv=5,\n",
    "                                    random_state=42, verbosity=2,\n",
    "                                   config_dict = \"TPOT sparse\")\n",
    "#pipeline_optimizer.fit(train_final, train_labels) #This takes a couple hours to run"
   ]
  },
  {
   "cell_type": "markdown",
   "metadata": {},
   "source": [
    "#### 2. Output TPOT Algorithm"
   ]
  },
  {
   "cell_type": "code",
   "execution_count": 19,
   "metadata": {},
   "outputs": [],
   "source": [
    "#pipeline_optimizer.export('tpot_ngram_LIWC.py')"
   ]
  },
  {
   "cell_type": "markdown",
   "metadata": {},
   "source": [
    "#### 3. Implement TPOT Algorithm"
   ]
  },
  {
   "cell_type": "code",
   "execution_count": 20,
   "metadata": {},
   "outputs": [
    {
     "name": "stdout",
     "output_type": "stream",
     "text": [
      "accuracy on original test set:  0.6145833333333334\n"
     ]
    },
    {
     "name": "stderr",
     "output_type": "stream",
     "text": [
      "/anaconda3/lib/python3.6/site-packages/sklearn/preprocessing/label.py:151: DeprecationWarning: The truth value of an empty array is ambiguous. Returning False, but in future this will result in an error. Use `array.size > 0` to check that an array is not empty.\n",
      "  if diff:\n"
     ]
    }
   ],
   "source": [
    "import numpy as np\n",
    "import pandas as pd\n",
    "from sklearn.feature_selection import SelectPercentile, f_classif\n",
    "from sklearn.model_selection import train_test_split\n",
    "from sklearn.pipeline import make_pipeline\n",
    "from xgboost import XGBClassifier\n",
    "\n",
    "exported_pipeline = make_pipeline(\n",
    "    SelectPercentile(score_func=f_classif, percentile=21),\n",
    "    XGBClassifier(learning_rate=0.001, max_depth=2, min_child_weight=4, n_estimators=100, nthread=1, subsample=0.25)\n",
    ")\n",
    "\n",
    "\n",
    "exported_pipeline.fit(train_final, train_labels)\n",
    "ORIG_results = exported_pipeline.predict(test_final)\n",
    "ORIG_proba = exported_pipeline.predict_proba(test_final)\n",
    "print(\"accuracy on original test set: \",np.mean(ORIG_results == test_labels))"
   ]
  },
  {
   "cell_type": "markdown",
   "metadata": {},
   "source": [
    "#### 4. Output TPOT Model Report"
   ]
  },
  {
   "cell_type": "code",
   "execution_count": 21,
   "metadata": {},
   "outputs": [
    {
     "name": "stdout",
     "output_type": "stream",
     "text": [
      "Original Test Set Report\n",
      "---------\n",
      "             precision    recall  f1-score   support\n",
      "\n",
      "          0       0.62      0.61      0.62        49\n",
      "          1       0.60      0.62      0.61        47\n",
      "\n",
      "avg / total       0.61      0.61      0.61        96\n",
      "\n"
     ]
    },
    {
     "data": {
      "image/png": "[encoded data removed]",
      "text/plain": [
       "<matplotlib.figure.Figure at 0x1a1853bc18>"
      ]
     },
     "metadata": {},
     "output_type": "display_data"
    },
    {
     "data": {
      "image/png": "[encoded data removed]",
      "text/plain": [
       "<matplotlib.figure.Figure at 0x1a182f7e48>"
      ]
     },
     "metadata": {},
     "output_type": "display_data"
    }
   ],
   "source": [
    "model_report(\"Original Test Set Report\", test_labels, ORIG_results, ORIG_proba[:,1])"
   ]
  }
 ],
 "metadata": {
  "kernelspec": {
   "display_name": "Python 3",
   "language": "python",
   "name": "python3"
  },
  "language_info": {
   "codemirror_mode": {
    "name": "ipython",
    "version": 3
   },
   "file_extension": ".py",
   "mimetype": "text/x-python",
   "name": "python",
   "nbconvert_exporter": "python",
   "pygments_lexer": "ipython3",
   "version": "3.6.3"
  }
 },
 "nbformat": 4,
 "nbformat_minor": 2
}
