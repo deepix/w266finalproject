{
 "cells": [
  {
   "cell_type": "markdown",
   "metadata": {},
   "source": [
    "## I. Import Libraries and Data"
   ]
  },
  {
   "cell_type": "code",
   "execution_count": 1,
   "metadata": {},
   "outputs": [],
   "source": [
    "import re\n",
    "import pandas as pd\n",
    "import numpy as np\n",
    "import os\n",
    "from sklearn.model_selection import train_test_split\n",
    "from sklearn.metrics import confusion_matrix\n",
    "from tpot import TPOTClassifier\n",
    "from sklearn.feature_extraction.text import CountVectorizer\n",
    "from scipy.sparse import coo_matrix, hstack\n",
    "from scipy.sparse import csr_matrix, hstack\n",
    "\n",
    "from sklearn.metrics import classification_report\n",
    "from sklearn import metrics\n",
    "from sklearn.feature_extraction.text import TfidfVectorizer\n",
    "import matplotlib.pyplot as plt\n",
    "import seaborn as sns\n",
    "import re\n",
    "from collections import Counter\n",
    "\n",
    "#readability\n",
    "import textstat\n",
    "\n",
    "#sytax\n",
    "import nltk"
   ]
  },
  {
   "cell_type": "markdown",
   "metadata": {},
   "source": [
    "## II. Define Functions"
   ]
  },
  {
   "cell_type": "markdown",
   "metadata": {},
   "source": [
    "## A. Cleaning and Read Functions"
   ]
  },
  {
   "cell_type": "code",
   "execution_count": 2,
   "metadata": {},
   "outputs": [],
   "source": [
    "def cleanArticle(string):\n",
    "    strip_special_chars = re.compile(\"[^A-Za-z0-9' ]+\")\n",
    "    string = string.lower().replace(\"<br />\", \" \")\n",
    "    return re.sub(strip_special_chars, \"\", string.lower())\n",
    "\n",
    "def read_perez_dataset(dataset_name):\n",
    "    \n",
    "    def remove_numbers(in_str):\n",
    "        return re.sub(r'[0-9]+', '', in_str)\n",
    "    \n",
    "    print(\"Reading dataset\")\n",
    "    result_data_list = []\n",
    "    data_dir = PEREZ_DATASET_PATH\n",
    "    for news_type in ['fake', 'legit']:\n",
    "        folder = '%s/%s/%s' % (data_dir, dataset_name, news_type)\n",
    "        for fname in os.listdir(folder):\n",
    "            result_data = {}\n",
    "            result_data['dataset_name'] = dataset_name\n",
    "            result_data['news_type'] = news_type\n",
    "            if news_type == 'fake':\n",
    "                result_data['is_fake'] = 1\n",
    "            else:\n",
    "                result_data['is_fake'] = 0\n",
    "            if dataset_name == 'fakeNewsDataset':\n",
    "                result_data['news_category'] = remove_numbers(fname.split('.')[0])\n",
    "            result_data['file_name'] = fname\n",
    "            filepath = os.path.join(folder, fname)\n",
    "            with open(filepath, 'r', encoding=\"utf8\") as f:\n",
    "                file_data = f.read().split('\\n')\n",
    "                # Some articles don't have a headline, but only article body.\n",
    "                if len(file_data) > 1:\n",
    "                    news_content_data = ' '.join(file_data[2:])\n",
    "                    result_data['news_headline'] = file_data[0]\n",
    "                else:\n",
    "                    news_content_data = file_data[0]\n",
    "                    result_data['news_headline'] = ''\n",
    "                result_data['news_content'] = news_content_data\n",
    "                result_data['news_all'] = ' '.join(file_data[0:])\n",
    "                result_data_list.append(result_data)\n",
    "                \n",
    "    df = pd.DataFrame(result_data_list)\n",
    "    \n",
    "    df['news_all_clean'] = df['news_all'].apply(lambda a: cleanArticle(a))\n",
    "    \n",
    "    X_train, X_test, y_train, y_test = train_test_split(df.drop(['is_fake',\n",
    "                                                               'news_type','file_name'],\n",
    "                                                               axis = 1), \n",
    "                                                        df['is_fake'], \n",
    "                                                        test_size=.2, random_state=RANDOM_SEED)\n",
    "    \n",
    "    print(\"Finished reading dataset\")\n",
    "    return df, X_train.reset_index(drop = True), y_train.reset_index(drop = True), X_test.reset_index(drop = True), y_test.reset_index(drop = True)\n",
    "\n",
    "def model_report(title, y_test, predictions, predictions_proba):\n",
    "\n",
    "    \"\"\"\n",
    "    Output: Classification report, confusion matrix, and ROC curve\n",
    "    \"\"\"\n",
    "    print(title)\n",
    "    print(\"---------\")\n",
    "    print(classification_report(y_test, predictions))\n",
    "\n",
    "    cm = metrics.confusion_matrix(y_test, predictions)\n",
    "    plt.figure(figsize=(3,3))\n",
    "    sns.heatmap(cm, annot=True, fmt=\".0f\", linewidths=.5, square = True, cmap = 'Blues_r');\n",
    "    plt.ylabel('Actual label');\n",
    "    plt.xlabel('Predicted label');\n",
    "    all_sample_title = 'Accuracy: {0}'.format(round(metrics.accuracy_score(y_test, predictions),2))\n",
    "    plt.title(all_sample_title, size = 15)\n",
    "    plt.show()\n",
    "    \n",
    "    fpr, tpr, threshold = metrics.roc_curve(y_test, predictions_proba)\n",
    "    roc_auc = metrics.auc(fpr, tpr)\n",
    "\n",
    "    plt.title('Receiver Operating Characteristic')\n",
    "    plt.plot(fpr, tpr, 'b', label = 'AUC = %0.2f' % roc_auc)\n",
    "    plt.legend(loc = 'lower right')\n",
    "    plt.plot([0, 1], [0, 1],'r--')\n",
    "    plt.xlim([0, 1])\n",
    "    plt.ylim([0, 1])\n",
    "    plt.ylabel('True Positive Rate')\n",
    "    plt.xlabel('False Positive Rate')\n",
    "    plt.show()"
   ]
  },
  {
   "cell_type": "markdown",
   "metadata": {},
   "source": [
    "## B. Linguistic-based feature creators"
   ]
  },
  {
   "cell_type": "markdown",
   "metadata": {},
   "source": [
    "### 1. Ngram & Punctuation"
   ]
  },
  {
   "cell_type": "code",
   "execution_count": 104,
   "metadata": {},
   "outputs": [],
   "source": [
    "def pad_punct(s):\n",
    "    \"\"\"\n",
    "    Add padding around specified punctuation.\n",
    "    \"\"\"\n",
    "    s = re.sub('([.,!?():])', r' \\1 ', s)\n",
    "    s = re.sub('\\s{2,}', ' ', s)\n",
    "    return s\n",
    "def tfidf_vectorizer_custom(train, test, ngram_range):\n",
    "    \"\"\"\n",
    "    Create a tfidf vectorized set for train and test data that counts punctuation.\n",
    "    Ngram range = (1,3)\n",
    "    \"\"\"\n",
    "    train = train.apply(pad_punct)\n",
    "    test = test.apply(pad_punct)\n",
    "    vect = TfidfVectorizer(token_pattern=r\"(?u)\\b\\w\\w+\\b|!|\\.|,|\\)|\\(|\\:|\\?|\\\"|\\'\", #pattern keep punctuation in vectorizer\n",
    "                          ngram_range = ngram_range).fit(train)\n",
    "    vocab = vect.vocabulary_.keys()\n",
    "    vocab = sorted(vocab, key=len)\n",
    "    print(\"Traing data info:\")\n",
    "    print('- Vocabulary len:', len(vect.get_feature_names()))\n",
    "    print('- Longest phrase:', max(vect.vocabulary_, key=len))\n",
    "    print('- Smallest 10 phrases:', vocab[0:10])\n",
    "    print('- Sample of features:',np.array(vect.get_feature_names()))\n",
    "    train_vectorized = vect.transform(train)\n",
    "    test_vectorized = vect.transform(test)\n",
    "    return train_vectorized, test_vectorized, vect.get_feature_names()"
   ]
  },
  {
   "cell_type": "markdown",
   "metadata": {},
   "source": [
    "### 2. Psycholinguistic features"
   ]
  },
  {
   "cell_type": "code",
   "execution_count": 107,
   "metadata": {},
   "outputs": [],
   "source": [
    "def LIWC_counter(df1, df_LIWC, train_LIWC):\n",
    "    \"\"\"\n",
    "    Inputs: - Data set with field: news_all_clean\n",
    "            - Preprocessed LIWC lookup table\n",
    "    Ouput:  - Data set with 73 additional fields for LIWC count results (normalized over string word count)\n",
    "    \"\"\"\n",
    "    df = df1.copy()\n",
    "    LIWC_vars = train_LIWC.drop('Word', axis = 1).columns.values\n",
    "    for i in LIWC_vars:\n",
    "        df[i] = 0\n",
    "        words = df_LIWC[df_LIWC[i] == 1]['Word']\n",
    "        for a in words:\n",
    "            df[i] = (df[i] + \n",
    "                df.news_all_clean.str.count(str(\" \" + a + \" \"))  + #free floating word\n",
    "                df.news_all_clean.str.count(str(\"^\" + a + \" \")) +  #start word\n",
    "                df.news_all_clean.str.count(str(\" \" + a + \"$\")))   #end word\n",
    "        df[i] = df[i] / df.news_all_clean.str.count(\" \") #normalize over word count\n",
    "    return df, LIWC_vars"
   ]
  },
  {
   "cell_type": "markdown",
   "metadata": {},
   "source": [
    "### 3. Readability"
   ]
  },
  {
   "cell_type": "code",
   "execution_count": 196,
   "metadata": {},
   "outputs": [],
   "source": [
    "def readability_enricher(df1):\n",
    "    \"\"\"\n",
    "    Input: a dataframe with column \"news_all\" to be analyzed for a variety of readbility metrics.\n",
    "    Output: the inputted dataframe, enriched with all readbility metrics (there are a total of 10, one of which is categorical).\n",
    "    \"\"\"\n",
    "    df = df1.copy()\n",
    "    df_drop = df1.copy()\n",
    "    df[\"flesch_reading_ease\"]=0.0\n",
    "    df[\"smog_index\"]=0.0\n",
    "    df[\"flesch_kincaid_grade\"]=0.0\n",
    "    df[\"coleman_liau_index\"]=0.0\n",
    "    df[\"automated_readability_index\"]=0.0\n",
    "    df[\"dale_chall_readability_score\"]=0.0\n",
    "    df[\"difficult_words\"]=0.0\n",
    "    df[\"linsear_write_formula\"]=0.0\n",
    "    df[\"gunning_fog\"]=0.0\n",
    "    df[\"text_standard\"]=0.0\n",
    "\n",
    "    for i in range(df.shape[0]):\n",
    "        text = df['news_all'].iloc[i]\n",
    "        df.loc[i,(\"flesch_reading_ease\")]= textstat.flesch_reading_ease(text)\n",
    "        df.loc[i,(\"smog_index\")]= textstat.smog_index(text)\n",
    "        df.loc[i,(\"flesch_kincaid_grade\")]= textstat.flesch_kincaid_grade(text)\n",
    "        df.loc[i,(\"coleman_liau_index\")]= textstat.coleman_liau_index(text)\n",
    "        df.loc[i,(\"automated_readability_index\")]= textstat.automated_readability_index(text)\n",
    "        df.loc[i,(\"dale_chall_readability_score\")]= textstat.dale_chall_readability_score(text)\n",
    "        df.loc[i,(\"difficult_words\")]= textstat.difficult_words(text)\n",
    "        df.loc[i,(\"linsear_write_formula\")]= textstat.linsear_write_formula(text)\n",
    "        df.loc[i,(\"gunning_fog\")]= textstat.gunning_fog(text)\n",
    "        df.loc[i,(\"text_standard\")]= textstat.text_standard(text)\n",
    "    \n",
    "    return df, df.drop(df_drop.columns.values, axis = 1).drop([\"text_standard\"],axis = 1).columns.values"
   ]
  },
  {
   "cell_type": "markdown",
   "metadata": {},
   "source": [
    "### 4. Syntax"
   ]
  },
  {
   "cell_type": "code",
   "execution_count": 6,
   "metadata": {},
   "outputs": [],
   "source": [
    "def POS_tagger(text):\n",
    "    \"\"\"\n",
    "    Tag POS using nltk. Return a single \"sentence\" with the POS of each word treated like a \"word.\"\n",
    "    \"\"\"\n",
    "    tokens = nltk.word_tokenize(text)\n",
    "    text = nltk.Text(tokens)\n",
    "    tags = nltk.pos_tag(text)\n",
    "    return \" \".join([i[1] for i in tags])\n",
    "\n",
    "def POS_enricher(df1):\n",
    "    \"\"\"\n",
    "    Input: a dataframe with column \"news_headline\" and \"news_content\".\n",
    "    Output: the inputted dataframe, with the columns \"news_headline_POS\" and \"news_content_POS\" created which are a single sentence with the \n",
    "    POS of each word represented as word in that same position.\n",
    "    \"\"\"\n",
    "    df = df1.copy()\n",
    "    df[\"news_headline_POS\"]=\"\"\n",
    "    df[\"news_content_POS\"]=\"\"\n",
    "    \n",
    "    for i in range(df.shape[0]):\n",
    "        text_headline = cleanArticle(POS_tagger(df['news_headline'].apply(lambda a: cleanArticle(a)).iloc[i]))\n",
    "        text_content = cleanArticle(POS_tagger(df['news_content'].apply(lambda a: cleanArticle(a)).iloc[i]))\n",
    "        \n",
    "        df.loc[i,(\"news_headline_POS\")]= text_headline\n",
    "        df.loc[i,(\"news_content_POS\")]= text_content\n",
    "    \n",
    "    return df"
   ]
  },
  {
   "cell_type": "markdown",
   "metadata": {},
   "source": [
    "## III. Read in Data, Define Test/Train Set"
   ]
  },
  {
   "cell_type": "code",
   "execution_count": 7,
   "metadata": {},
   "outputs": [
    {
     "name": "stdout",
     "output_type": "stream",
     "text": [
      "Reading dataset\n",
      "Finished reading dataset\n"
     ]
    },
    {
     "data": {
      "text/html": [
       "<div>\n",
       "<style scoped>\n",
       "    .dataframe tbody tr th:only-of-type {\n",
       "        vertical-align: middle;\n",
       "    }\n",
       "\n",
       "    .dataframe tbody tr th {\n",
       "        vertical-align: top;\n",
       "    }\n",
       "\n",
       "    .dataframe thead th {\n",
       "        text-align: right;\n",
       "    }\n",
       "</style>\n",
       "<table border=\"1\" class=\"dataframe\">\n",
       "  <thead>\n",
       "    <tr style=\"text-align: right;\">\n",
       "      <th></th>\n",
       "      <th>dataset_name</th>\n",
       "      <th>news_all</th>\n",
       "      <th>news_category</th>\n",
       "      <th>news_content</th>\n",
       "      <th>news_headline</th>\n",
       "      <th>news_all_clean</th>\n",
       "    </tr>\n",
       "  </thead>\n",
       "  <tbody>\n",
       "    <tr>\n",
       "      <th>0</th>\n",
       "      <td>fakeNewsDataset</td>\n",
       "      <td>Real Madrid is willing to pay £100m for Eden H...</td>\n",
       "      <td>sports</td>\n",
       "      <td>says Ramon Calderon \"Real Madrid are not in a ...</td>\n",
       "      <td>Real Madrid is willing to pay £100m for Eden H...</td>\n",
       "      <td>real madrid is willing to pay 100m for eden ha...</td>\n",
       "    </tr>\n",
       "    <tr>\n",
       "      <th>1</th>\n",
       "      <td>fakeNewsDataset</td>\n",
       "      <td>Women arrested  three times is Melania Trump  ...</td>\n",
       "      <td>polit</td>\n",
       "      <td>(CNN) A lady resembling Presidents Trump's wif...</td>\n",
       "      <td>Women arrested  three times is Melania Trump</td>\n",
       "      <td>women arrested  three times is melania trump  ...</td>\n",
       "    </tr>\n",
       "    <tr>\n",
       "      <th>2</th>\n",
       "      <td>fakeNewsDataset</td>\n",
       "      <td>Alec Baldwin says he nearly passed on playing...</td>\n",
       "      <td>entmt</td>\n",
       "      <td>Alec Baldwin has revealed that he almost passe...</td>\n",
       "      <td>Alec Baldwin says he nearly passed on playing...</td>\n",
       "      <td>alec baldwin says he nearly passed on playing...</td>\n",
       "    </tr>\n",
       "    <tr>\n",
       "      <th>3</th>\n",
       "      <td>fakeNewsDataset</td>\n",
       "      <td>Will Smith reunites with Fresh Prince Pals to ...</td>\n",
       "      <td>entmt</td>\n",
       "      <td>Will Smith is back together with the cast of T...</td>\n",
       "      <td>Will Smith reunites with Fresh Prince Pals to ...</td>\n",
       "      <td>will smith reunites with fresh prince pals to ...</td>\n",
       "    </tr>\n",
       "    <tr>\n",
       "      <th>4</th>\n",
       "      <td>fakeNewsDataset</td>\n",
       "      <td>Instagram adds two-factor authentication, secu...</td>\n",
       "      <td>tech</td>\n",
       "      <td>Instagram just made your account harder to hac...</td>\n",
       "      <td>Instagram adds two-factor authentication, secu...</td>\n",
       "      <td>instagram adds twofactor authentication securi...</td>\n",
       "    </tr>\n",
       "  </tbody>\n",
       "</table>\n",
       "</div>"
      ],
      "text/plain": [
       "      dataset_name                                           news_all  \\\n",
       "0  fakeNewsDataset  Real Madrid is willing to pay £100m for Eden H...   \n",
       "1  fakeNewsDataset  Women arrested  three times is Melania Trump  ...   \n",
       "2  fakeNewsDataset   Alec Baldwin says he nearly passed on playing...   \n",
       "3  fakeNewsDataset  Will Smith reunites with Fresh Prince Pals to ...   \n",
       "4  fakeNewsDataset  Instagram adds two-factor authentication, secu...   \n",
       "\n",
       "  news_category                                       news_content  \\\n",
       "0        sports  says Ramon Calderon \"Real Madrid are not in a ...   \n",
       "1         polit  (CNN) A lady resembling Presidents Trump's wif...   \n",
       "2         entmt  Alec Baldwin has revealed that he almost passe...   \n",
       "3         entmt  Will Smith is back together with the cast of T...   \n",
       "4          tech  Instagram just made your account harder to hac...   \n",
       "\n",
       "                                       news_headline  \\\n",
       "0  Real Madrid is willing to pay £100m for Eden H...   \n",
       "1      Women arrested  three times is Melania Trump    \n",
       "2   Alec Baldwin says he nearly passed on playing...   \n",
       "3  Will Smith reunites with Fresh Prince Pals to ...   \n",
       "4  Instagram adds two-factor authentication, secu...   \n",
       "\n",
       "                                      news_all_clean  \n",
       "0  real madrid is willing to pay 100m for eden ha...  \n",
       "1  women arrested  three times is melania trump  ...  \n",
       "2   alec baldwin says he nearly passed on playing...  \n",
       "3  will smith reunites with fresh prince pals to ...  \n",
       "4  instagram adds twofactor authentication securi...  "
      ]
     },
     "execution_count": 7,
     "metadata": {},
     "output_type": "execute_result"
    }
   ],
   "source": [
    "RANDOM_SEED = 42\n",
    "PEREZ_DATASET_PATH = \"../data/fakeNewsDatasets_Perez-Rosas2018\"\n",
    "np.random.seed(RANDOM_SEED)\n",
    "perez_full, train_data, train_labels, test_data, test_labels = read_perez_dataset('fakeNewsDataset')\n",
    "train_data.head()"
   ]
  },
  {
   "cell_type": "code",
   "execution_count": null,
   "metadata": {},
   "outputs": [],
   "source": []
  },
  {
   "cell_type": "markdown",
   "metadata": {},
   "source": [
    "## IV. Run Train/Test Set through LIWC Rented License\n",
    "\n",
    "We rented the LIWC dataset (for 30 days), as seen here: https://store5.esellerate.net/store/checkout/CustomLayout.aspx?s=STR6622550055&pc=&page=OnePageMoreInfo.htm&SkuRefNum=SKU48070077205\n",
    "\n",
    "We downloaded the software, outputted the train/test set, ran the train/test set through the LIWC software, and uploaded the LIWC results.\n",
    "The software marks words to 73 LIWC categories in a binary format (with an 'X')"
   ]
  },
  {
   "cell_type": "code",
   "execution_count": 8,
   "metadata": {},
   "outputs": [],
   "source": [
    "#1. FakeNews Dataset\n",
    "train_data['news_all'].to_csv(\"train_data_news_all_forLIWC.txt\")\n",
    "test_data['news_all'].to_csv(\"test_data_news_all_forLIWC.txt\")\n",
    "train_LIWC = pd.read_csv(\n",
    "    \"LIWC2015 Results (train_data_news_all_clean_forLIWC).csv\").fillna(0).drop('Unnamed: 74', axis = 1).replace('X',1)\n",
    "test_LIWC = pd.read_csv(\n",
    "    \"LIWC2015 Results (test_data_news_all_clean_forLIWC).csv\").fillna(0).drop('Unnamed: 74', axis = 1).replace('X',1)\n",
    "\n",
    "#2. Celebrity Dataset\n",
    "train_data['news_all'].to_csv(\"train_data_news_all_forLIWC_celeb.txt\")\n",
    "test_data['news_all'].to_csv(\"test_data_news_all_forLIWC_celeb.txt\")\n",
    "train_LIWC = pd.read_csv(\n",
    "    \"LIWC2015 Results (train_data_news_all_forLIWC_celeb).csv\").fillna(0).drop('Unnamed: 74', axis = 1).replace('X',1)\n",
    "test_LIWC = pd.read_csv(\n",
    "    \"LIWC2015 Results (test_data_news_all_forLIWC_celeb).csv\").fillna(0).drop('Unnamed: 74', axis = 1).replace('X',1)"
   ]
  },
  {
   "cell_type": "code",
   "execution_count": 9,
   "metadata": {},
   "outputs": [
    {
     "data": {
      "text/html": [
       "<div>\n",
       "<style scoped>\n",
       "    .dataframe tbody tr th:only-of-type {\n",
       "        vertical-align: middle;\n",
       "    }\n",
       "\n",
       "    .dataframe tbody tr th {\n",
       "        vertical-align: top;\n",
       "    }\n",
       "\n",
       "    .dataframe thead th {\n",
       "        text-align: right;\n",
       "    }\n",
       "</style>\n",
       "<table border=\"1\" class=\"dataframe\">\n",
       "  <thead>\n",
       "    <tr style=\"text-align: right;\">\n",
       "      <th></th>\n",
       "      <th>Word</th>\n",
       "      <th>function</th>\n",
       "      <th>pronoun</th>\n",
       "      <th>ppron</th>\n",
       "      <th>i</th>\n",
       "      <th>we</th>\n",
       "      <th>you</th>\n",
       "      <th>shehe</th>\n",
       "      <th>they</th>\n",
       "      <th>ipron</th>\n",
       "      <th>...</th>\n",
       "      <th>home</th>\n",
       "      <th>money</th>\n",
       "      <th>relig</th>\n",
       "      <th>death</th>\n",
       "      <th>informal</th>\n",
       "      <th>swear</th>\n",
       "      <th>netspeak</th>\n",
       "      <th>assent</th>\n",
       "      <th>nonflu</th>\n",
       "      <th>filler</th>\n",
       "    </tr>\n",
       "  </thead>\n",
       "  <tbody>\n",
       "    <tr>\n",
       "      <th>0</th>\n",
       "      <td>he</td>\n",
       "      <td>1</td>\n",
       "      <td>1</td>\n",
       "      <td>1</td>\n",
       "      <td>0</td>\n",
       "      <td>0</td>\n",
       "      <td>0</td>\n",
       "      <td>1</td>\n",
       "      <td>0</td>\n",
       "      <td>0</td>\n",
       "      <td>...</td>\n",
       "      <td>0</td>\n",
       "      <td>0</td>\n",
       "      <td>0</td>\n",
       "      <td>0</td>\n",
       "      <td>0</td>\n",
       "      <td>0</td>\n",
       "      <td>0</td>\n",
       "      <td>0</td>\n",
       "      <td>0</td>\n",
       "      <td>0</td>\n",
       "    </tr>\n",
       "    <tr>\n",
       "      <th>1</th>\n",
       "      <td>he'd</td>\n",
       "      <td>1</td>\n",
       "      <td>1</td>\n",
       "      <td>1</td>\n",
       "      <td>0</td>\n",
       "      <td>0</td>\n",
       "      <td>0</td>\n",
       "      <td>1</td>\n",
       "      <td>0</td>\n",
       "      <td>0</td>\n",
       "      <td>...</td>\n",
       "      <td>0</td>\n",
       "      <td>0</td>\n",
       "      <td>0</td>\n",
       "      <td>0</td>\n",
       "      <td>0</td>\n",
       "      <td>0</td>\n",
       "      <td>0</td>\n",
       "      <td>0</td>\n",
       "      <td>0</td>\n",
       "      <td>0</td>\n",
       "    </tr>\n",
       "    <tr>\n",
       "      <th>2</th>\n",
       "      <td>he's</td>\n",
       "      <td>1</td>\n",
       "      <td>1</td>\n",
       "      <td>1</td>\n",
       "      <td>0</td>\n",
       "      <td>0</td>\n",
       "      <td>0</td>\n",
       "      <td>1</td>\n",
       "      <td>0</td>\n",
       "      <td>0</td>\n",
       "      <td>...</td>\n",
       "      <td>0</td>\n",
       "      <td>0</td>\n",
       "      <td>0</td>\n",
       "      <td>0</td>\n",
       "      <td>0</td>\n",
       "      <td>0</td>\n",
       "      <td>0</td>\n",
       "      <td>0</td>\n",
       "      <td>0</td>\n",
       "      <td>0</td>\n",
       "    </tr>\n",
       "    <tr>\n",
       "      <th>3</th>\n",
       "      <td>her</td>\n",
       "      <td>1</td>\n",
       "      <td>1</td>\n",
       "      <td>1</td>\n",
       "      <td>0</td>\n",
       "      <td>0</td>\n",
       "      <td>0</td>\n",
       "      <td>1</td>\n",
       "      <td>0</td>\n",
       "      <td>0</td>\n",
       "      <td>...</td>\n",
       "      <td>0</td>\n",
       "      <td>0</td>\n",
       "      <td>0</td>\n",
       "      <td>0</td>\n",
       "      <td>0</td>\n",
       "      <td>0</td>\n",
       "      <td>0</td>\n",
       "      <td>0</td>\n",
       "      <td>0</td>\n",
       "      <td>0</td>\n",
       "    </tr>\n",
       "    <tr>\n",
       "      <th>4</th>\n",
       "      <td>herself</td>\n",
       "      <td>1</td>\n",
       "      <td>1</td>\n",
       "      <td>1</td>\n",
       "      <td>0</td>\n",
       "      <td>0</td>\n",
       "      <td>0</td>\n",
       "      <td>1</td>\n",
       "      <td>0</td>\n",
       "      <td>0</td>\n",
       "      <td>...</td>\n",
       "      <td>0</td>\n",
       "      <td>0</td>\n",
       "      <td>0</td>\n",
       "      <td>0</td>\n",
       "      <td>0</td>\n",
       "      <td>0</td>\n",
       "      <td>0</td>\n",
       "      <td>0</td>\n",
       "      <td>0</td>\n",
       "      <td>0</td>\n",
       "    </tr>\n",
       "  </tbody>\n",
       "</table>\n",
       "<p>5 rows × 74 columns</p>\n",
       "</div>"
      ],
      "text/plain": [
       "      Word  function  pronoun  ppron  i  we  you  shehe  they  ipron   ...    \\\n",
       "0       he         1        1      1  0   0    0      1     0      0   ...     \n",
       "1     he'd         1        1      1  0   0    0      1     0      0   ...     \n",
       "2     he's         1        1      1  0   0    0      1     0      0   ...     \n",
       "3      her         1        1      1  0   0    0      1     0      0   ...     \n",
       "4  herself         1        1      1  0   0    0      1     0      0   ...     \n",
       "\n",
       "   home  money  relig  death  informal  swear  netspeak  assent  nonflu  \\\n",
       "0     0      0      0      0         0      0         0       0       0   \n",
       "1     0      0      0      0         0      0         0       0       0   \n",
       "2     0      0      0      0         0      0         0       0       0   \n",
       "3     0      0      0      0         0      0         0       0       0   \n",
       "4     0      0      0      0         0      0         0       0       0   \n",
       "\n",
       "   filler  \n",
       "0       0  \n",
       "1       0  \n",
       "2       0  \n",
       "3       0  \n",
       "4       0  \n",
       "\n",
       "[5 rows x 74 columns]"
      ]
     },
     "execution_count": 9,
     "metadata": {},
     "output_type": "execute_result"
    }
   ],
   "source": [
    "train_LIWC.head()"
   ]
  },
  {
   "cell_type": "code",
   "execution_count": 10,
   "metadata": {},
   "outputs": [
    {
     "name": "stdout",
     "output_type": "stream",
     "text": [
      "<class 'pandas.core.frame.DataFrame'>\n",
      "RangeIndex: 3447 entries, 0 to 3446\n",
      "Data columns (total 74 columns):\n",
      "Word            3447 non-null object\n",
      "function        3447 non-null int64\n",
      "pronoun         3447 non-null int64\n",
      "ppron           3447 non-null int64\n",
      "i               3447 non-null int64\n",
      "we              3447 non-null int64\n",
      "you             3447 non-null int64\n",
      "shehe           3447 non-null int64\n",
      "they            3447 non-null int64\n",
      "ipron           3447 non-null int64\n",
      "article         3447 non-null int64\n",
      "prep            3447 non-null int64\n",
      "auxverb         3447 non-null int64\n",
      "adverb          3447 non-null int64\n",
      "conj            3447 non-null int64\n",
      "negate          3447 non-null int64\n",
      "verb            3447 non-null int64\n",
      "adj             3447 non-null int64\n",
      "compare         3447 non-null int64\n",
      "interrog        3447 non-null int64\n",
      "number          3447 non-null int64\n",
      "quant           3447 non-null int64\n",
      "affect          3447 non-null int64\n",
      "posemo          3447 non-null int64\n",
      "negemo          3447 non-null int64\n",
      "anx             3447 non-null int64\n",
      "anger           3447 non-null int64\n",
      "sad             3447 non-null int64\n",
      "social          3447 non-null int64\n",
      "family          3447 non-null int64\n",
      "friend          3447 non-null int64\n",
      "female          3447 non-null int64\n",
      "male            3447 non-null int64\n",
      "cogproc         3447 non-null int64\n",
      "insight         3447 non-null int64\n",
      "cause           3447 non-null int64\n",
      "discrep         3447 non-null int64\n",
      "tentat          3447 non-null int64\n",
      "certain         3447 non-null int64\n",
      "differ          3447 non-null int64\n",
      "percept         3447 non-null int64\n",
      "see             3447 non-null int64\n",
      "hear            3447 non-null int64\n",
      "feel            3447 non-null int64\n",
      "bio             3447 non-null int64\n",
      "body            3447 non-null int64\n",
      "health          3447 non-null int64\n",
      "sexual          3447 non-null int64\n",
      "ingest          3447 non-null int64\n",
      "drives          3447 non-null int64\n",
      "affiliation     3447 non-null int64\n",
      "achieve         3447 non-null int64\n",
      "power           3447 non-null int64\n",
      "reward          3447 non-null int64\n",
      "risk            3447 non-null int64\n",
      "focuspast       3447 non-null int64\n",
      "focuspresent    3447 non-null int64\n",
      "focusfuture     3447 non-null int64\n",
      "relativ         3447 non-null int64\n",
      "motion          3447 non-null int64\n",
      "space           3447 non-null int64\n",
      "time            3447 non-null int64\n",
      "work            3447 non-null int64\n",
      "leisure         3447 non-null int64\n",
      "home            3447 non-null int64\n",
      "money           3447 non-null int64\n",
      "relig           3447 non-null int64\n",
      "death           3447 non-null int64\n",
      "informal        3447 non-null int64\n",
      "swear           3447 non-null int64\n",
      "netspeak        3447 non-null int64\n",
      "assent          3447 non-null int64\n",
      "nonflu          3447 non-null int64\n",
      "filler          3447 non-null float64\n",
      "dtypes: float64(1), int64(72), object(1)\n",
      "memory usage: 1.9+ MB\n"
     ]
    }
   ],
   "source": [
    "test_LIWC.info()"
   ]
  },
  {
   "cell_type": "markdown",
   "metadata": {},
   "source": [
    "## IV. Quick Look at Data"
   ]
  },
  {
   "cell_type": "code",
   "execution_count": 11,
   "metadata": {},
   "outputs": [
    {
     "data": {
      "text/plain": [
       "\"women arrested  three times is melania trump   cnn a lady resembling presidents trump's wife was arrested on multiple occasions when she was discovered without her makeup on the us secret service near the south grounds of the us treasury building was alerted to a women who looked like the presidents wife running away from the house it didn't take long for the washington metropolitan police department spokesman to announce that it was melania again and they escorted her back to her husband without incident\""
      ]
     },
     "execution_count": 11,
     "metadata": {},
     "output_type": "execute_result"
    }
   ],
   "source": [
    "train_data['news_all_clean'].iloc[1]"
   ]
  },
  {
   "cell_type": "code",
   "execution_count": 12,
   "metadata": {},
   "outputs": [
    {
     "name": "stdout",
     "output_type": "stream",
     "text": [
      "full perez size:  (480, 9)\n",
      "train size:  (384,)\n"
     ]
    }
   ],
   "source": [
    "print(\"full perez size: \", perez_full.shape)\n",
    "print(\"train size: \",train_labels.shape)"
   ]
  },
  {
   "cell_type": "code",
   "execution_count": 13,
   "metadata": {},
   "outputs": [
    {
     "data": {
      "image/png": "[encoded data removed]",
      "text/plain": [
       "<matplotlib.figure.Figure at 0x105d86940>"
      ]
     },
     "metadata": {},
     "output_type": "display_data"
    }
   ],
   "source": [
    "sns.catplot(x=\"news_category\", kind = \"count\", hue=\"is_fake\", data=perez_full)\n",
    "plt.show()"
   ]
  },
  {
   "cell_type": "code",
   "execution_count": 14,
   "metadata": {},
   "outputs": [
    {
     "data": {
      "text/plain": [
       "news_category  is_fake\n",
       "biz            0          40\n",
       "               1          40\n",
       "edu            0          40\n",
       "               1          40\n",
       "entmt          0          40\n",
       "               1          40\n",
       "polit          0          40\n",
       "               1          40\n",
       "sports         0          40\n",
       "               1          40\n",
       "tech           0          40\n",
       "               1          40\n",
       "dtype: int64"
      ]
     },
     "execution_count": 14,
     "metadata": {},
     "output_type": "execute_result"
    }
   ],
   "source": [
    "perez_full.groupby(['news_category','is_fake']).size()"
   ]
  },
  {
   "cell_type": "markdown",
   "metadata": {},
   "source": [
    "## V. Create Feature-Enriched Training/Testing Datasets"
   ]
  },
  {
   "cell_type": "markdown",
   "metadata": {},
   "source": [
    "## A. Implement Feature Creating Functions"
   ]
  },
  {
   "cell_type": "markdown",
   "metadata": {},
   "source": [
    "#### 1. Ngram & Punctuation"
   ]
  },
  {
   "cell_type": "code",
   "execution_count": 170,
   "metadata": {},
   "outputs": [
    {
     "name": "stdout",
     "output_type": "stream",
     "text": [
      "Traing data info:\n",
      "- Vocabulary len: 39803\n",
      "- Longest phrase: becomeincreasingly difficult\n",
      "- Smallest 10 phrases: ['\"', \"'\", '.', ':', '(', ')', ',', '?', '!', 'is']\n",
      "- Sample of features: ['!' '! !' '! \"' ... 'zombie apocalypse' 'zuckerberg' 'zuckerberg ,']\n",
      "train shape: (384, 39803)\n"
     ]
    }
   ],
   "source": [
    "train_data_vectorized, test_data_vectorized, ngram_punct_names = tfidf_vectorizer_custom(\n",
    "    train_data['news_all'], test_data['news_all'], ngram_range = (1,2))\n",
    "print(\"train shape:\",train_data_vectorized.shape)"
   ]
  },
  {
   "cell_type": "markdown",
   "metadata": {},
   "source": [
    "#### 2. Psycholinguistic features"
   ]
  },
  {
   "cell_type": "code",
   "execution_count": 197,
   "metadata": {},
   "outputs": [],
   "source": [
    "train_data_LIWC, train_LIWC_vars = LIWC_counter(train_data, train_LIWC, train_LIWC)\n",
    "test_data_LIWC, test_LIWC_vars = LIWC_counter(test_data, test_LIWC, train_LIWC)"
   ]
  },
  {
   "cell_type": "markdown",
   "metadata": {},
   "source": [
    "#### 3. Readability"
   ]
  },
  {
   "cell_type": "code",
   "execution_count": 202,
   "metadata": {},
   "outputs": [],
   "source": [
    "train_data_readability, train_readability_vars = readability_enricher(train_data)\n",
    "test_data_readability, test_readability_vars = readability_enricher(test_data)"
   ]
  },
  {
   "cell_type": "markdown",
   "metadata": {},
   "source": [
    "#### 4. Syntax"
   ]
  },
  {
   "cell_type": "code",
   "execution_count": 18,
   "metadata": {},
   "outputs": [
    {
     "name": "stdout",
     "output_type": "stream",
     "text": [
      "Traing data info:\n",
      "- Vocabulary len: 1178\n",
      "- Longest phrase: vbz nns rbr\n",
      "- Smallest 10 phrases: [\"'\", 'jj', 'nn', 'to', 'vb', 'cd', 'in', 'rb', 'md', 'cc']\n",
      "- Sample of features: [\"'\" \"' '\" \"' ' in\" ... 'wrb vbg vbp' 'wrb vbz' 'wrb vbz nn']\n",
      "Traing data info:\n",
      "- Vocabulary len: 4500\n",
      "- Longest phrase: nns vbp vbg\n",
      "- Smallest 10 phrases: [\"'\", 'nn', 'jj', 'rb', 'in', 'dt', 'cc', 'md', 'vb', 'to']\n",
      "- Sample of features: [\"'\" \"' '\" \"' ' cc\" ... 'wrb vbz' 'wrb vbz cd' 'wrb vbz jj']\n"
     ]
    }
   ],
   "source": [
    "train_POS_init = POS_enricher(train_data)\n",
    "test_POS_init = POS_enricher(test_data)\n",
    "\n",
    "POS_headline_train_data_vectorized, POS_headline_test_data_vectorized = tfidf_vectorizer_custom(\n",
    "    train_POS_init['news_headline_POS'], test_POS_init['news_headline_POS'], ngram_range = (1,3))\n",
    "\n",
    "POS_content_train_data_vectorized, POS_content_test_data_vectorized = tfidf_vectorizer_custom(\n",
    "    train_POS_init['news_content_POS'], test_POS_init['news_content_POS'], ngram_range = (1,3))\n",
    "\n",
    "train_POS = hstack([POS_headline_train_data_vectorized, POS_content_train_data_vectorized])\n",
    "test_POS = hstack([POS_headline_test_data_vectorized, POS_content_test_data_vectorized])"
   ]
  },
  {
   "cell_type": "markdown",
   "metadata": {},
   "source": [
    "### B. Unify All Features in Single Dataset"
   ]
  },
  {
   "cell_type": "code",
   "execution_count": 182,
   "metadata": {},
   "outputs": [],
   "source": [
    "def add_feature(sparse, df_to_sparse, df_ignore):\n",
    "    \"\"\"\n",
    "    Returns sparse feature matrix with added feature.\n",
    "    \"\"\"\n",
    "    return hstack([coo_matrix(df_to_sparse.drop(df_ignore.columns.values, axis = 1)),sparse])\n",
    "\n",
    "def add_categorical_feature(train_sparse, test_sparse, train_data, test_data, categorical_column):\n",
    "    \"\"\"\n",
    "    Returns sparse feature matrix with added feature by creating a countvectorizer of feature.\n",
    "    \"\"\"\n",
    "    vectcat = CountVectorizer()\n",
    "    vectcat.fit(train_data[categorical_column].str.replace(' ', ''))\n",
    "    train_category_vec = vectcat.transform(train_data[categorical_column])\n",
    "    test_category_vec  = vectcat.transform(test_data[categorical_column])\n",
    "    train_final = hstack([train_sparse, train_category_vec])\n",
    "    test_final =  hstack([test_sparse, test_category_vec])\n",
    "    return train_final, test_final, vectcat.get_feature_names()"
   ]
  },
  {
   "cell_type": "code",
   "execution_count": 203,
   "metadata": {},
   "outputs": [],
   "source": [
    "#1. Combine ngram and LIWC\n",
    "train_ngram_LIWC = add_feature(train_data_vectorized, train_data_LIWC, train_data)\n",
    "test_ngram_LIWC = add_feature(test_data_vectorized, test_data_LIWC, test_data)\n",
    "\n",
    "#2. Combine readability with ngram and LIWC\n",
    "train_ngram_LIWC_read = add_feature(train_ngram_LIWC, train_data_readability.drop([\"text_standard\"],axis = 1), train_data)\n",
    "test_ngram_LIWC_read = add_feature(test_ngram_LIWC, test_data_readability.drop([\"text_standard\"],axis = 1), test_data)\n",
    "train_ngram_LIWC_read, test_ngram_LIWC_read, text_standard_names = add_categorical_feature(\n",
    "    train_ngram_LIWC_read, test_ngram_LIWC_read, train_data_readability, test_data_readability, \"text_standard\")\n",
    "\n",
    "#3. Combine syntax with readability, ngram, and LIWC\n",
    "train_allfeats = hstack([train_ngram_LIWC_read, train_POS])\n",
    "test_allfeats = hstack([test_ngram_LIWC_read, test_POS])\n",
    "\n",
    "#4. Add news category\n",
    "train_final, test_final, news_category_names = add_categorical_feature(train_ngram_LIWC_read, test_ngram_LIWC_read, \n",
    "                                                  train_data, test_data, \"news_category\")"
   ]
  },
  {
   "cell_type": "code",
   "execution_count": 204,
   "metadata": {},
   "outputs": [
    {
     "name": "stdout",
     "output_type": "stream",
     "text": [
      "train_ngram_LIWC (384, 39876)\n",
      "train_ngram_LIWC_read (384, 39928)\n",
      "train_allfeats (384, 45606)\n",
      "train_final (384, 39934)\n"
     ]
    }
   ],
   "source": [
    "print(\"train_ngram_LIWC\", train_ngram_LIWC.shape)\n",
    "print(\"train_ngram_LIWC_read\", train_ngram_LIWC_read.shape)\n",
    "print(\"train_allfeats\", train_allfeats.shape)\n",
    "print(\"train_final\", train_final.shape)"
   ]
  },
  {
   "cell_type": "markdown",
   "metadata": {},
   "source": [
    "## V. Classification Models with Automated Machine Learning (TPOT)"
   ]
  },
  {
   "cell_type": "markdown",
   "metadata": {},
   "source": [
    "#### 1. Run TPOT Optimizer"
   ]
  },
  {
   "cell_type": "code",
   "execution_count": 47,
   "metadata": {},
   "outputs": [
    {
     "name": "stderr",
     "output_type": "stream",
     "text": [
      "\r",
      "Optimization Progress:   0%|          | 0/330 [00:00<?, ?pipeline/s]\r",
      "Optimization Progress:   0%|          | 1/330 [00:01<07:20,  1.34s/pipeline]\r",
      "Optimization Progress:   1%|          | 2/330 [00:08<16:48,  3.07s/pipeline]\r",
      "Optimization Progress:   2%|▏         | 7/330 [00:08<11:37,  2.16s/pipeline]\r",
      "Optimization Progress:   2%|▏         | 8/330 [00:20<11:35,  2.16s/pipeline]\r",
      "Optimization Progress:   3%|▎         | 9/330 [01:25<1:09:43, 13.03s/pipeline]\r",
      "Optimization Progress:   3%|▎         | 10/330 [01:33<1:02:11, 11.66s/pipeline]\r",
      "Optimization Progress:   3%|▎         | 11/330 [01:40<53:20, 10.03s/pipeline]  \r",
      "Optimization Progress:   4%|▎         | 12/330 [01:43<41:55,  7.91s/pipeline]\r",
      "Optimization Progress:   4%|▍         | 14/330 [01:44<30:41,  5.83s/pipeline]\r",
      "Optimization Progress:   5%|▍         | 15/330 [01:45<22:45,  4.34s/pipeline]\r",
      "Optimization Progress:   5%|▌         | 17/330 [01:46<16:30,  3.16s/pipeline]\r",
      "Optimization Progress:   5%|▌         | 18/330 [01:47<13:07,  2.52s/pipeline]\r",
      "Optimization Progress:   6%|▋         | 21/330 [01:48<09:14,  1.80s/pipeline]\r",
      "Optimization Progress:   7%|▋         | 22/330 [01:54<16:04,  3.13s/pipeline]\r",
      "Optimization Progress:   7%|▋         | 24/330 [01:57<13:53,  2.72s/pipeline]\r",
      "Optimization Progress:   8%|▊         | 25/330 [01:59<11:39,  2.29s/pipeline]\r",
      "Optimization Progress:   8%|▊         | 26/330 [02:21<42:46,  8.44s/pipeline]\r",
      "Optimization Progress:   8%|▊         | 28/330 [02:22<29:50,  5.93s/pipeline]\r",
      "Optimization Progress:   9%|▉         | 29/330 [02:23<22:35,  4.50s/pipeline]\r",
      "Optimization Progress:   9%|▉         | 30/330 [03:08<1:23:38, 16.73s/pipeline]\r",
      "Optimization Progress:  10%|▉         | 32/330 [03:09<58:53, 11.86s/pipeline]  \r",
      "Optimization Progress:  10%|█         | 34/330 [03:09<41:11,  8.35s/pipeline]\r",
      "Optimization Progress:  11%|█         | 37/330 [03:10<28:42,  5.88s/pipeline]\r",
      "Optimization Progress:  12%|█▏        | 38/330 [03:29<48:10,  9.90s/pipeline]\r",
      "Optimization Progress:  12%|█▏        | 40/330 [03:33<36:27,  7.54s/pipeline]\r",
      "Optimization Progress:  12%|█▏        | 41/330 [03:33<25:50,  5.37s/pipeline]\r",
      "Optimization Progress:  13%|█▎        | 43/330 [03:39<21:52,  4.57s/pipeline]\r",
      "Optimization Progress:  13%|█▎        | 44/330 [03:50<31:57,  6.71s/pipeline]\r",
      "Optimization Progress:  14%|█▎        | 45/330 [03:51<22:34,  4.75s/pipeline]\r",
      "Optimization Progress:  14%|█▍        | 46/330 [03:51<16:00,  3.38s/pipeline]\r",
      "Optimization Progress:  15%|█▍        | 48/330 [04:36<42:48,  9.11s/pipeline]\r",
      "Optimization Progress:  15%|█▍        | 49/330 [04:39<35:05,  7.49s/pipeline]\r",
      "Optimization Progress:  17%|█▋        | 55/330 [04:40<24:04,  5.25s/pipeline]\r",
      "Optimization Progress:  17%|█▋        | 57/330 [04:46<21:18,  4.68s/pipeline]\r",
      "Optimization Progress:  18%|█▊        | 58/330 [04:49<19:03,  4.20s/pipeline]\r",
      "Optimization Progress:  18%|█▊        | 59/330 [04:50<13:42,  3.03s/pipeline]\r",
      "                                                                             \r",
      "\r",
      "Optimization Progress:  18%|█▊        | 60/330 [04:50<13:38,  3.03s/pipeline]"
     ]
    },
    {
     "name": "stdout",
     "output_type": "stream",
     "text": [
      "Generation 1 - Current best internal CV score: 0.7392204286941129\n"
     ]
    },
    {
     "name": "stderr",
     "output_type": "stream",
     "text": [
      "\r",
      "Optimization Progress:  18%|█▊        | 60/330 [04:50<09:59,  2.22s/pipeline]\r",
      "Optimization Progress:  18%|█▊        | 61/330 [04:51<08:04,  1.80s/pipeline]\r",
      "Optimization Progress:  19%|█▉        | 62/330 [04:55<11:20,  2.54s/pipeline]\r",
      "Optimization Progress:  20%|█▉        | 65/330 [04:55<07:57,  1.80s/pipeline]\r",
      "Optimization Progress:  20%|██        | 66/330 [04:55<05:46,  1.31s/pipeline]\r",
      "Optimization Progress:  21%|██        | 68/330 [04:57<04:51,  1.11s/pipeline]\r",
      "Optimization Progress:  21%|██        | 70/330 [04:57<03:35,  1.20pipeline/s]\r",
      "Optimization Progress:  22%|██▏       | 71/330 [04:58<03:36,  1.20pipeline/s]\r",
      "Optimization Progress:  22%|██▏       | 72/330 [05:01<06:40,  1.55s/pipeline]\r",
      "Optimization Progress:  22%|██▏       | 73/330 [05:04<08:03,  1.88s/pipeline]\r",
      "Optimization Progress:  23%|██▎       | 75/330 [05:11<10:06,  2.38s/pipeline]\r",
      "Optimization Progress:  24%|██▎       | 78/330 [05:11<07:05,  1.69s/pipeline]\r",
      "Optimization Progress:  24%|██▍       | 79/330 [05:13<06:38,  1.59s/pipeline]\r",
      "Optimization Progress:  25%|██▍       | 81/330 [05:18<07:49,  1.88s/pipeline]\r",
      "Optimization Progress:  25%|██▍       | 82/330 [05:18<05:48,  1.40s/pipeline]\r",
      "Optimization Progress:  25%|██▌       | 84/330 [05:18<04:05,  1.00pipeline/s]\r",
      "Optimization Progress:  26%|██▌       | 85/330 [05:18<03:10,  1.29pipeline/s]\r",
      "Optimization Progress:  26%|██▌       | 86/330 [05:21<05:59,  1.47s/pipeline]\r",
      "Optimization Progress:  26%|██▋       | 87/330 [05:41<28:04,  6.93s/pipeline]\r",
      "Optimization Progress:  27%|██▋       | 88/330 [05:42<20:36,  5.11s/pipeline]\r",
      "Optimization Progress:  27%|██▋       | 89/330 [05:47<21:02,  5.24s/pipeline]\r",
      "Optimization Progress:  27%|██▋       | 90/330 [06:13<45:18, 11.33s/pipeline]\r",
      "                                                                             \r",
      "\r",
      "Optimization Progress:  27%|██▋       | 90/330 [06:13<45:18, 11.33s/pipeline]"
     ]
    },
    {
     "name": "stdout",
     "output_type": "stream",
     "text": [
      "Generation 2 - Current best internal CV score: 0.7392204286941129\n"
     ]
    },
    {
     "name": "stderr",
     "output_type": "stream",
     "text": [
      "\r",
      "Optimization Progress:  28%|██▊       | 91/330 [06:15<34:13,  8.59s/pipeline]\r",
      "Optimization Progress:  28%|██▊       | 92/330 [06:33<44:57, 11.33s/pipeline]\r",
      "Optimization Progress:  28%|██▊       | 94/330 [06:34<31:58,  8.13s/pipeline]\r",
      "Optimization Progress:  29%|██▉       | 95/330 [06:35<23:17,  5.95s/pipeline]\r",
      "Optimization Progress:  29%|██▉       | 97/330 [06:37<17:28,  4.50s/pipeline]\r",
      "Optimization Progress:  30%|███       | 99/330 [06:51<19:58,  5.19s/pipeline]\r",
      "Optimization Progress:  30%|███       | 100/330 [06:54<16:55,  4.41s/pipeline]\r",
      "Optimization Progress:  31%|███       | 102/330 [06:57<13:47,  3.63s/pipeline]\r",
      "Optimization Progress:  31%|███       | 103/330 [07:15<29:53,  7.90s/pipeline]\r",
      "Optimization Progress:  32%|███▏      | 105/330 [08:20<57:26, 15.32s/pipeline]\r",
      "Optimization Progress:  32%|███▏      | 107/330 [08:26<42:51, 11.53s/pipeline]\r",
      "Optimization Progress:  33%|███▎      | 108/330 [08:53<59:41, 16.13s/pipeline]\r",
      "Optimization Progress:  33%|███▎      | 109/330 [08:53<42:32, 11.55s/pipeline]\r",
      "Optimization Progress:  34%|███▎      | 111/330 [08:54<29:59,  8.22s/pipeline]\r",
      "Optimization Progress:  34%|███▍      | 112/330 [08:59<25:48,  7.10s/pipeline]\r",
      "Optimization Progress:  34%|███▍      | 113/330 [09:00<18:53,  5.22s/pipeline]\r",
      "Optimization Progress:  35%|███▍      | 114/330 [09:01<14:14,  3.95s/pipeline]\r",
      "Optimization Progress:  35%|███▍      | 115/330 [09:34<45:20, 12.66s/pipeline]\r",
      "Optimization Progress:  35%|███▌      | 116/330 [09:37<35:25,  9.93s/pipeline]\r",
      "Optimization Progress:  35%|███▌      | 117/330 [09:38<25:40,  7.23s/pipeline]\r",
      "Optimization Progress:  36%|███▌      | 119/330 [09:39<18:16,  5.20s/pipeline]\r",
      "Optimization Progress:  36%|███▋      | 120/330 [09:42<16:15,  4.65s/pipeline]\r",
      "                                                                              \r",
      "\r",
      "Optimization Progress:  36%|███▋      | 120/330 [09:42<16:15,  4.65s/pipeline]"
     ]
    },
    {
     "name": "stdout",
     "output_type": "stream",
     "text": [
      "Generation 3 - Current best internal CV score: 0.7392204286941129\n"
     ]
    },
    {
     "name": "stderr",
     "output_type": "stream",
     "text": [
      "\r",
      "Optimization Progress:  37%|███▋      | 121/330 [09:44<13:25,  3.85s/pipeline]\r",
      "Optimization Progress:  37%|███▋      | 122/330 [09:44<09:27,  2.73s/pipeline]\r",
      "Optimization Progress:  37%|███▋      | 123/330 [09:53<15:47,  4.58s/pipeline]\r",
      "Optimization Progress:  38%|███▊      | 124/330 [09:58<15:29,  4.51s/pipeline]\r",
      "Optimization Progress:  38%|███▊      | 125/330 [09:58<10:56,  3.20s/pipeline]\r",
      "Optimization Progress:  38%|███▊      | 126/330 [10:06<15:37,  4.60s/pipeline]\r",
      "Optimization Progress:  38%|███▊      | 127/330 [10:53<59:10, 17.49s/pipeline]\r",
      "Optimization Progress:  39%|███▉      | 128/330 [11:13<1:01:21, 18.22s/pipeline]\r",
      "Optimization Progress:  39%|███▉      | 130/330 [11:15<43:15, 12.98s/pipeline]  \r",
      "Optimization Progress:  40%|████      | 132/330 [11:46<45:16, 13.72s/pipeline]\r",
      "Optimization Progress:  40%|████      | 133/330 [11:58<43:54, 13.37s/pipeline]\r",
      "Optimization Progress:  41%|████      | 134/330 [12:20<52:16, 16.00s/pipeline]\r",
      "Optimization Progress:  41%|████      | 136/330 [12:21<36:24, 11.26s/pipeline]\r",
      "Optimization Progress:  42%|████▏     | 139/330 [12:29<27:35,  8.67s/pipeline]\r",
      "Optimization Progress:  42%|████▏     | 140/330 [12:53<42:09, 13.32s/pipeline]\r",
      "Optimization Progress:  43%|████▎     | 141/330 [12:53<29:41,  9.43s/pipeline]\r",
      "Optimization Progress:  43%|████▎     | 142/330 [13:42<1:06:29, 21.22s/pipeline]\r",
      "Optimization Progress:  43%|████▎     | 143/330 [14:10<1:13:07, 23.46s/pipeline]\r",
      "Optimization Progress:  44%|████▎     | 144/330 [14:16<55:53, 18.03s/pipeline]  \r",
      "Optimization Progress:  44%|████▍     | 145/330 [14:35<56:54, 18.46s/pipeline]\r",
      "Optimization Progress:  44%|████▍     | 146/330 [14:40<44:03, 14.37s/pipeline]\r",
      "Optimization Progress:  45%|████▍     | 147/330 [14:40<30:56, 10.15s/pipeline]\r",
      "Optimization Progress:  45%|████▍     | 148/330 [14:51<31:34, 10.41s/pipeline]\r",
      "                                                                              \r",
      "\r",
      "Optimization Progress:  45%|████▌     | 150/330 [14:51<31:13, 10.41s/pipeline]\r",
      "Optimization Progress:  45%|████▌     | 150/330 [14:52<21:58,  7.33s/pipeline]"
     ]
    },
    {
     "name": "stdout",
     "output_type": "stream",
     "text": [
      "Generation 4 - Current best internal CV score: 0.7392204286941129\n"
     ]
    },
    {
     "name": "stderr",
     "output_type": "stream",
     "text": [
      "\r",
      "Optimization Progress:  46%|████▌     | 152/330 [14:55<16:32,  5.57s/pipeline]\r",
      "Optimization Progress:  47%|████▋     | 154/330 [14:55<11:40,  3.98s/pipeline]\r",
      "Optimization Progress:  47%|████▋     | 155/330 [15:34<42:18, 14.51s/pipeline]\r",
      "Optimization Progress:  47%|████▋     | 156/330 [15:37<32:10, 11.09s/pipeline]\r",
      "Optimization Progress:  48%|████▊     | 157/330 [15:49<32:14, 11.18s/pipeline]\r",
      "Optimization Progress:  48%|████▊     | 158/330 [15:54<26:59,  9.41s/pipeline]\r",
      "Optimization Progress:  48%|████▊     | 159/330 [15:57<21:02,  7.38s/pipeline]\r",
      "Optimization Progress:  48%|████▊     | 160/330 [16:42<52:44, 18.61s/pipeline]\r",
      "Optimization Progress:  49%|████▉     | 161/330 [16:42<37:26, 13.29s/pipeline]\r",
      "Optimization Progress:  49%|████▉     | 162/330 [16:43<26:40,  9.52s/pipeline]\r",
      "Optimization Progress:  49%|████▉     | 163/330 [17:02<34:20, 12.34s/pipeline]\r",
      "Optimization Progress:  50%|████▉     | 164/330 [17:09<29:43, 10.74s/pipeline]\r",
      "Optimization Progress:  50%|█████     | 166/330 [17:21<25:38,  9.38s/pipeline]\r",
      "Optimization Progress:  51%|█████     | 167/330 [17:27<22:08,  8.15s/pipeline]\r",
      "Optimization Progress:  51%|█████     | 168/330 [17:50<34:01, 12.60s/pipeline]\r",
      "Optimization Progress:  51%|█████     | 169/330 [17:52<25:27,  9.49s/pipeline]\r",
      "Optimization Progress:  52%|█████▏    | 171/330 [18:12<25:31,  9.63s/pipeline]\r",
      "Optimization Progress:  52%|█████▏    | 172/330 [18:13<18:19,  6.96s/pipeline]\r",
      "Optimization Progress:  52%|█████▏    | 173/330 [18:14<14:07,  5.40s/pipeline]\r",
      "Optimization Progress:  53%|█████▎    | 174/330 [18:15<10:41,  4.11s/pipeline]\r",
      "Optimization Progress:  53%|█████▎    | 175/330 [18:19<10:24,  4.03s/pipeline]\r",
      "Optimization Progress:  54%|█████▍    | 178/330 [18:53<15:34,  6.15s/pipeline]\r",
      "Optimization Progress:  54%|█████▍    | 179/330 [18:57<14:31,  5.77s/pipeline]\r",
      "Optimization Progress:  55%|█████▍    | 180/330 [19:24<29:58, 11.99s/pipeline]\r",
      "                                                                              \r",
      "\r",
      "Optimization Progress:  55%|█████▍    | 180/330 [19:24<29:58, 11.99s/pipeline]"
     ]
    },
    {
     "name": "stdout",
     "output_type": "stream",
     "text": [
      "Generation 5 - Current best internal CV score: 0.7392204286941129\n"
     ]
    },
    {
     "name": "stderr",
     "output_type": "stream",
     "text": [
      "\r",
      "Optimization Progress:  55%|█████▍    | 181/330 [19:27<22:59,  9.26s/pipeline]\r",
      "Optimization Progress:  55%|█████▌    | 183/330 [19:30<16:59,  6.93s/pipeline]\r",
      "Optimization Progress:  56%|█████▌    | 184/330 [19:48<25:15, 10.38s/pipeline]\r",
      "Optimization Progress:  57%|█████▋    | 187/330 [20:11<22:50,  9.58s/pipeline]\r",
      "Optimization Progress:  57%|█████▋    | 188/330 [20:21<22:51,  9.66s/pipeline]\r",
      "Optimization Progress:  58%|█████▊    | 190/330 [20:40<22:25,  9.61s/pipeline]\r",
      "Optimization Progress:  58%|█████▊    | 191/330 [20:41<15:52,  6.85s/pipeline]\r",
      "Optimization Progress:  58%|█████▊    | 192/330 [21:13<33:05, 14.39s/pipeline]\r",
      "Optimization Progress:  58%|█████▊    | 193/330 [21:14<23:53, 10.46s/pipeline]\r",
      "Optimization Progress:  59%|█████▉    | 195/330 [21:27<20:43,  9.21s/pipeline]\r",
      "Optimization Progress:  59%|█████▉    | 196/330 [21:45<26:40, 11.94s/pipeline]\r",
      "Optimization Progress:  60%|█████▉    | 197/330 [21:45<18:43,  8.45s/pipeline]\r",
      "Optimization Progress:  60%|██████    | 198/330 [21:47<14:27,  6.57s/pipeline]\r",
      "Optimization Progress:  60%|██████    | 199/330 [22:09<24:27, 11.20s/pipeline]\r",
      "Optimization Progress:  61%|██████    | 200/330 [22:10<17:23,  8.03s/pipeline]\r",
      "Optimization Progress:  61%|██████    | 202/330 [22:52<25:30, 11.95s/pipeline]\r",
      "Optimization Progress:  62%|██████▏   | 203/330 [22:54<19:00,  8.98s/pipeline]\r",
      "Optimization Progress:  62%|██████▏   | 204/330 [23:18<28:01, 13.35s/pipeline]\r",
      "Optimization Progress:  62%|██████▏   | 205/330 [23:23<22:50, 10.96s/pipeline]\r",
      "Optimization Progress:  62%|██████▏   | 206/330 [23:29<19:38,  9.51s/pipeline]\r",
      "Optimization Progress:  63%|██████▎   | 207/330 [24:20<44:56, 21.92s/pipeline]\r",
      "Optimization Progress:  63%|██████▎   | 208/330 [24:57<53:49, 26.47s/pipeline]\r",
      "Optimization Progress:  63%|██████▎   | 209/330 [25:01<39:27, 19.56s/pipeline]\r",
      "Optimization Progress:  64%|██████▎   | 210/330 [25:11<33:51, 16.93s/pipeline]\r",
      "                                                                              \r",
      "\r",
      "Optimization Progress:  64%|██████▎   | 210/330 [25:11<33:51, 16.93s/pipeline]"
     ]
    },
    {
     "name": "stdout",
     "output_type": "stream",
     "text": [
      "Generation 6 - Current best internal CV score: 0.7417845312582155\n"
     ]
    },
    {
     "name": "stderr",
     "output_type": "stream",
     "text": [
      "\r",
      "Optimization Progress:  64%|██████▍   | 211/330 [25:16<26:02, 13.13s/pipeline]\r",
      "Optimization Progress:  64%|██████▍   | 212/330 [25:20<20:28, 10.41s/pipeline]\r",
      "Optimization Progress:  65%|██████▍   | 213/330 [25:40<25:54, 13.28s/pipeline]\r",
      "Optimization Progress:  65%|██████▌   | 215/330 [25:46<19:27, 10.15s/pipeline]\r",
      "Optimization Progress:  65%|██████▌   | 216/330 [26:08<26:20, 13.87s/pipeline]\r",
      "Optimization Progress:  66%|██████▌   | 217/330 [26:11<19:57, 10.59s/pipeline]\r",
      "Optimization Progress:  66%|██████▌   | 218/330 [26:12<14:36,  7.82s/pipeline]\r",
      "Optimization Progress:  66%|██████▋   | 219/330 [26:13<10:25,  5.63s/pipeline]\r",
      "Optimization Progress:  67%|██████▋   | 220/330 [26:14<07:41,  4.20s/pipeline]\r",
      "Optimization Progress:  67%|██████▋   | 221/330 [26:30<14:16,  7.85s/pipeline]\r",
      "Optimization Progress:  67%|██████▋   | 222/330 [26:35<12:17,  6.83s/pipeline]\r",
      "Optimization Progress:  68%|██████▊   | 223/330 [26:37<09:40,  5.42s/pipeline]\r",
      "Optimization Progress:  68%|██████▊   | 224/330 [26:40<08:32,  4.84s/pipeline]\r",
      "Optimization Progress:  68%|██████▊   | 225/330 [27:00<16:19,  9.33s/pipeline]\r",
      "Optimization Progress:  68%|██████▊   | 226/330 [27:12<17:47, 10.27s/pipeline]\r",
      "Optimization Progress:  69%|██████▉   | 227/330 [27:58<35:39, 20.77s/pipeline]\r",
      "Optimization Progress:  69%|██████▉   | 228/330 [28:22<37:19, 21.95s/pipeline]\r",
      "Optimization Progress:  69%|██████▉   | 229/330 [28:43<36:16, 21.55s/pipeline]\r",
      "Optimization Progress:  70%|██████▉   | 230/330 [32:15<2:11:11, 78.71s/pipeline]\r",
      "Optimization Progress:  70%|███████   | 231/330 [32:40<1:43:14, 62.57s/pipeline]\r",
      "Optimization Progress:  70%|███████   | 232/330 [32:59<1:20:55, 49.55s/pipeline]\r",
      "Optimization Progress:  71%|███████   | 233/330 [33:00<56:26, 34.91s/pipeline]  \r",
      "Optimization Progress:  71%|███████   | 234/330 [33:43<59:58, 37.49s/pipeline]\r",
      "Optimization Progress:  71%|███████   | 235/330 [33:51<45:21, 28.65s/pipeline]\r",
      "Optimization Progress:  72%|███████▏  | 236/330 [34:12<41:11, 26.29s/pipeline]\r",
      "Optimization Progress:  72%|███████▏  | 237/330 [34:14<29:10, 18.82s/pipeline]\r",
      "Optimization Progress:  72%|███████▏  | 239/330 [34:14<20:07, 13.27s/pipeline]\r",
      "Optimization Progress:  73%|███████▎  | 240/330 [34:37<24:20, 16.23s/pipeline]\r",
      "                                                                              \r",
      "\r",
      "Optimization Progress:  73%|███████▎  | 240/330 [34:37<24:20, 16.23s/pipeline]"
     ]
    },
    {
     "name": "stdout",
     "output_type": "stream",
     "text": [
      "Generation 7 - Current best internal CV score: 0.7417845312582155\n"
     ]
    },
    {
     "name": "stderr",
     "output_type": "stream",
     "text": [
      "\r",
      "Optimization Progress:  73%|███████▎  | 241/330 [34:45<20:03, 13.52s/pipeline]\r",
      "Optimization Progress:  73%|███████▎  | 242/330 [35:26<31:53, 21.75s/pipeline]\r",
      "Optimization Progress:  74%|███████▎  | 243/330 [35:27<22:44, 15.69s/pipeline]\r",
      "Optimization Progress:  74%|███████▍  | 244/330 [35:33<18:23, 12.83s/pipeline]\r",
      "Optimization Progress:  74%|███████▍  | 245/330 [35:38<14:53, 10.52s/pipeline]\r",
      "Optimization Progress:  75%|███████▍  | 246/330 [35:56<17:42, 12.65s/pipeline]\r",
      "Optimization Progress:  75%|███████▍  | 247/330 [36:28<25:27, 18.41s/pipeline]\r",
      "Optimization Progress:  75%|███████▌  | 248/330 [36:39<21:59, 16.09s/pipeline]\r",
      "Optimization Progress:  75%|███████▌  | 249/330 [36:59<23:30, 17.41s/pipeline]\r",
      "Optimization Progress:  76%|███████▌  | 250/330 [37:06<19:05, 14.32s/pipeline]\r",
      "Optimization Progress:  76%|███████▋  | 252/330 [37:08<13:19, 10.25s/pipeline]\r",
      "Optimization Progress:  77%|███████▋  | 253/330 [37:09<09:33,  7.45s/pipeline]\r",
      "Optimization Progress:  77%|███████▋  | 254/330 [37:13<08:12,  6.48s/pipeline]\r",
      "Optimization Progress:  77%|███████▋  | 255/330 [37:13<05:55,  4.73s/pipeline]\r",
      "Optimization Progress:  78%|███████▊  | 257/330 [37:18<04:46,  3.92s/pipeline]\r",
      "Optimization Progress:  78%|███████▊  | 258/330 [37:24<05:31,  4.61s/pipeline]\r",
      "Optimization Progress:  78%|███████▊  | 259/330 [37:40<09:43,  8.22s/pipeline]\r",
      "Optimization Progress:  79%|███████▉  | 261/330 [37:41<06:39,  5.79s/pipeline]\r",
      "Optimization Progress:  79%|███████▉  | 262/330 [37:41<04:51,  4.28s/pipeline]\r",
      "Optimization Progress:  80%|███████▉  | 263/330 [37:42<03:33,  3.19s/pipeline]\r",
      "Optimization Progress:  80%|████████  | 265/330 [37:59<05:11,  4.79s/pipeline]\r",
      "Optimization Progress:  81%|████████  | 266/330 [38:10<07:10,  6.72s/pipeline]\r",
      "Optimization Progress:  81%|████████  | 267/330 [38:12<05:21,  5.10s/pipeline]\r",
      "Optimization Progress:  81%|████████  | 268/330 [38:15<04:42,  4.55s/pipeline]\r",
      "Optimization Progress:  82%|████████▏ | 269/330 [39:00<17:02, 16.76s/pipeline]\r",
      "                                                                              \r",
      "\r",
      "Optimization Progress:  82%|████████▏ | 270/330 [39:00<16:45, 16.76s/pipeline]"
     ]
    },
    {
     "name": "stdout",
     "output_type": "stream",
     "text": [
      "Generation 8 - Current best internal CV score: 0.7417845312582155\n"
     ]
    },
    {
     "name": "stderr",
     "output_type": "stream",
     "text": [
      "\r",
      "Optimization Progress:  82%|████████▏ | 270/330 [39:00<11:49, 11.83s/pipeline]\r",
      "Optimization Progress:  82%|████████▏ | 271/330 [39:27<16:01, 16.30s/pipeline]\r",
      "Optimization Progress:  82%|████████▏ | 272/330 [39:38<14:07, 14.61s/pipeline]\r",
      "Optimization Progress:  83%|████████▎ | 273/330 [39:42<10:50, 11.41s/pipeline]\r",
      "Optimization Progress:  83%|████████▎ | 274/330 [39:50<09:51, 10.56s/pipeline]\r",
      "Optimization Progress:  83%|████████▎ | 275/330 [40:36<19:18, 21.06s/pipeline]\r",
      "Optimization Progress:  84%|████████▎ | 276/330 [41:01<20:04, 22.30s/pipeline]\r",
      "Optimization Progress:  84%|████████▍ | 278/330 [41:11<14:52, 17.16s/pipeline]\r",
      "Optimization Progress:  85%|████████▍ | 279/330 [41:12<10:25, 12.27s/pipeline]\r",
      "Optimization Progress:  85%|████████▍ | 280/330 [42:57<33:19, 39.99s/pipeline]\r",
      "Optimization Progress:  85%|████████▌ | 281/330 [43:02<24:03, 29.45s/pipeline]\r",
      "Optimization Progress:  85%|████████▌ | 282/330 [43:21<21:03, 26.33s/pipeline]\r",
      "Optimization Progress:  86%|████████▌ | 283/330 [43:21<14:29, 18.49s/pipeline]\r",
      "Optimization Progress:  86%|████████▌ | 284/330 [43:30<11:53, 15.51s/pipeline]\r",
      "Optimization Progress:  86%|████████▋ | 285/330 [43:31<08:21, 11.14s/pipeline]\r",
      "Optimization Progress:  87%|████████▋ | 286/330 [43:41<07:54, 10.79s/pipeline]\r",
      "Optimization Progress:  87%|████████▋ | 287/330 [43:42<05:37,  7.86s/pipeline]\r",
      "Optimization Progress:  87%|████████▋ | 288/330 [44:14<10:42, 15.30s/pipeline]\r",
      "Optimization Progress:  88%|████████▊ | 289/330 [46:48<38:45, 56.73s/pipeline]\r",
      "Optimization Progress:  88%|████████▊ | 291/330 [46:49<25:55, 39.90s/pipeline]\r",
      "Optimization Progress:  88%|████████▊ | 292/330 [47:32<25:57, 40.99s/pipeline]\r",
      "Optimization Progress:  89%|████████▉ | 293/330 [47:57<22:14, 36.08s/pipeline]\r",
      "Optimization Progress:  89%|████████▉ | 294/330 [47:58<15:18, 25.50s/pipeline]\r",
      "Optimization Progress:  89%|████████▉ | 295/330 [48:41<17:59, 30.84s/pipeline]\r",
      "Optimization Progress:  90%|████████▉ | 296/330 [48:53<14:15, 25.17s/pipeline]\r",
      "Optimization Progress:  90%|█████████ | 297/330 [49:15<13:13, 24.04s/pipeline]\r",
      "Optimization Progress:  90%|█████████ | 298/330 [49:16<09:16, 17.39s/pipeline]\r",
      "Optimization Progress:  91%|█████████ | 299/330 [49:35<09:08, 17.70s/pipeline]\r",
      "Optimization Progress:  91%|█████████ | 300/330 [49:38<06:37, 13.24s/pipeline]\r",
      "                                                                              \r",
      "\r",
      "Optimization Progress:  91%|█████████ | 300/330 [49:38<06:37, 13.24s/pipeline]"
     ]
    },
    {
     "name": "stdout",
     "output_type": "stream",
     "text": [
      "Generation 9 - Current best internal CV score: 0.7418844313581155\n"
     ]
    },
    {
     "name": "stderr",
     "output_type": "stream",
     "text": [
      "\r",
      "Optimization Progress:  91%|█████████ | 301/330 [49:42<05:08, 10.64s/pipeline]\r",
      "Optimization Progress:  92%|█████████▏| 302/330 [49:44<03:39,  7.84s/pipeline]\r",
      "Optimization Progress:  92%|█████████▏| 304/330 [49:57<03:13,  7.44s/pipeline]\r",
      "Optimization Progress:  92%|█████████▏| 305/330 [49:58<02:18,  5.53s/pipeline]\r",
      "Optimization Progress:  93%|█████████▎| 306/330 [53:35<27:35, 69.00s/pipeline]\r",
      "Optimization Progress:  93%|█████████▎| 308/330 [54:51<21:54, 59.74s/pipeline]\r",
      "Optimization Progress:  94%|█████████▎| 309/330 [54:53<14:51, 42.44s/pipeline]\r",
      "Optimization Progress:  94%|█████████▍| 310/330 [55:02<10:49, 32.48s/pipeline]\r",
      "Optimization Progress:  94%|█████████▍| 311/330 [57:19<20:13, 63.87s/pipeline]\r",
      "Optimization Progress:  95%|█████████▍| 312/330 [57:34<14:41, 48.97s/pipeline]\r",
      "Optimization Progress:  95%|█████████▍| 313/330 [57:51<11:13, 39.63s/pipeline]\r",
      "Optimization Progress:  95%|█████████▌| 314/330 [57:57<07:49, 29.36s/pipeline]\r",
      "Optimization Progress:  95%|█████████▌| 315/330 [57:59<05:17, 21.17s/pipeline]\r",
      "Optimization Progress:  96%|█████████▌| 316/330 [59:53<11:24, 48.93s/pipeline]\r",
      "Optimization Progress:  96%|█████████▌| 317/330 [59:56<07:36, 35.15s/pipeline]\r",
      "Optimization Progress:  96%|█████████▋| 318/330 [1:00:18<06:14, 31.19s/pipeline]\r",
      "Optimization Progress:  97%|█████████▋| 319/330 [1:00:27<04:32, 24.79s/pipeline]\r",
      "Optimization Progress:  97%|█████████▋| 320/330 [1:00:28<02:55, 17.53s/pipeline]\r",
      "Optimization Progress:  98%|█████████▊| 322/330 [1:00:46<01:59, 14.96s/pipeline]\r",
      "Optimization Progress:  98%|█████████▊| 323/330 [1:01:20<02:24, 20.66s/pipeline]\r",
      "Optimization Progress:  99%|█████████▉| 326/330 [1:01:31<01:02, 15.55s/pipeline]\r",
      "Optimization Progress:  99%|█████████▉| 327/330 [1:01:33<00:34, 11.43s/pipeline]\r",
      "Optimization Progress:  99%|█████████▉| 328/330 [1:01:33<00:16,  8.04s/pipeline]\r",
      "Optimization Progress: 100%|██████████| 330/330 [1:02:31<00:00, 14.33s/pipeline]\r",
      "                                                                                \r",
      "\r",
      "Optimization Progress: 100%|██████████| 330/330 [1:02:31<00:00, 14.33s/pipeline]\r",
      "                                                                                \r"
     ]
    },
    {
     "name": "stdout",
     "output_type": "stream",
     "text": [
      "Generation 10 - Current best internal CV score: 0.7470468128362866\n",
      "\n",
      "Best pipeline: RandomForestClassifier(RFE(input_matrix, criterion=entropy, max_features=0.3, n_estimators=100, step=0.9500000000000001), bootstrap=True, criterion=entropy, max_features=0.35000000000000003, min_samples_leaf=5, min_samples_split=4, n_estimators=100)\n"
     ]
    },
    {
     "data": {
      "text/plain": [
       "TPOTClassifier(config_dict={'tpot.builtins.OneHotEncoder': {'minimum_fraction': [0.05, 0.1, 0.15, 0.2, 0.25]}, 'sklearn.neighbors.KNeighborsClassifier': {'n_neighbors': range(1, 101), 'weights': ['uniform', 'distance'], 'p': [1, 2]}, 'sklearn.ensemble.RandomForestClassifier': {'n_estimators': [100], 'criterion': [...0.65, 0.7 , 0.75, 0.8 , 0.85, 0.9 , 0.95, 1.  ]), 'min_child_weight': range(1, 21), 'nthread': [1]}},\n",
       "        crossover_rate=0.1, cv=5, disable_update_check=False,\n",
       "        early_stop=None, generations=10, max_eval_time_mins=5,\n",
       "        max_time_mins=None, memory=None, mutation_rate=0.9, n_jobs=1,\n",
       "        offspring_size=30, periodic_checkpoint_folder=None,\n",
       "        population_size=30, random_state=42, scoring=None, subsample=1.0,\n",
       "        verbosity=2, warm_start=False)"
      ]
     },
     "execution_count": 47,
     "metadata": {},
     "output_type": "execute_result"
    }
   ],
   "source": [
    "pipeline_optimizer = TPOTClassifier(generations=10, population_size=30,\n",
    "                                    random_state=42, verbosity=2,\n",
    "                                   config_dict = \"TPOT sparse\")\n",
    "pipeline_optimizer.fit(train_final, train_labels) #This takes a couple hours to run"
   ]
  },
  {
   "cell_type": "markdown",
   "metadata": {},
   "source": [
    "#### 2. Output TPOT Algorithm"
   ]
  },
  {
   "cell_type": "code",
   "execution_count": 48,
   "metadata": {},
   "outputs": [
    {
     "data": {
      "text/plain": [
       "True"
      ]
     },
     "execution_count": 48,
     "metadata": {},
     "output_type": "execute_result"
    }
   ],
   "source": [
    "pipeline_optimizer.export('tpot_all_feats-nosyntax.py')"
   ]
  },
  {
   "cell_type": "markdown",
   "metadata": {},
   "source": [
    "#### 3. Implement TPOT Algorithm"
   ]
  },
  {
   "cell_type": "code",
   "execution_count": 208,
   "metadata": {},
   "outputs": [
    {
     "name": "stdout",
     "output_type": "stream",
     "text": [
      "accuracy on original test set:  0.7708333333333334\n"
     ]
    }
   ],
   "source": [
    "import numpy as np\n",
    "import pandas as pd\n",
    "from sklearn.ensemble import RandomForestClassifier\n",
    "from sklearn.model_selection import train_test_split\n",
    "\n",
    "exported_pipeline = RandomForestClassifier(bootstrap=True, criterion=\"gini\", \n",
    "                                           max_features=1.0, min_samples_leaf=15, \n",
    "                                           min_samples_split=6, n_estimators=300,\n",
    "                                          random_state = 1)\n",
    "\n",
    "exported_pipeline.fit(train_final, train_labels)\n",
    "ORIG_results = exported_pipeline.predict(test_final)\n",
    "ORIG_proba = exported_pipeline.predict_proba(test_final)\n",
    "print(\"accuracy on original test set: \",np.mean(ORIG_results == test_labels))"
   ]
  },
  {
   "cell_type": "markdown",
   "metadata": {},
   "source": [
    "#### 4. Output TPOT Model Report"
   ]
  },
  {
   "cell_type": "code",
   "execution_count": 209,
   "metadata": {},
   "outputs": [
    {
     "name": "stdout",
     "output_type": "stream",
     "text": [
      "Original Test Set Report\n",
      "---------\n",
      "             precision    recall  f1-score   support\n",
      "\n",
      "          0       0.76      0.80      0.78        49\n",
      "          1       0.78      0.74      0.76        47\n",
      "\n",
      "avg / total       0.77      0.77      0.77        96\n",
      "\n"
     ]
    },
    {
     "data": {
      "image/png": "[encoded data removed]",
      "text/plain": [
       "<matplotlib.figure.Figure at 0x1a3663acc0>"
      ]
     },
     "metadata": {},
     "output_type": "display_data"
    },
    {
     "data": {
      "image/png": "[encoded data removed]",
      "text/plain": [
       "<matplotlib.figure.Figure at 0x1a14cb46a0>"
      ]
     },
     "metadata": {},
     "output_type": "display_data"
    }
   ],
   "source": [
    "model_report(\"Original Test Set Report\", test_labels, ORIG_results, ORIG_proba[:,1])"
   ]
  },
  {
   "cell_type": "markdown",
   "metadata": {},
   "source": [
    "#### 5. Analyze Correct/Incorrect Predictions"
   ]
  },
  {
   "cell_type": "code",
   "execution_count": 216,
   "metadata": {},
   "outputs": [],
   "source": [
    "review_test = test_data\n",
    "review_test['actual'] = test_labels\n",
    "review_test['predicted'] = ORIG_results\n",
    "review_test[\"correct_prediction?\"] = review_test.actual == review_test.predicted"
   ]
  },
  {
   "cell_type": "code",
   "execution_count": 217,
   "metadata": {},
   "outputs": [
    {
     "data": {
      "image/png": "[encoded data removed]",
      "text/plain": [
       "<matplotlib.figure.Figure at 0x1a3423da20>"
      ]
     },
     "metadata": {},
     "output_type": "display_data"
    }
   ],
   "source": [
    "sns.catplot(x=\"news_category\", kind = \"count\", hue=\"correct_prediction?\", data = review_test)\n",
    "plt.show()"
   ]
  },
  {
   "cell_type": "markdown",
   "metadata": {},
   "source": [
    "#### 6. Analyze Feature Importance"
   ]
  },
  {
   "cell_type": "code",
   "execution_count": 224,
   "metadata": {},
   "outputs": [
    {
     "name": "stdout",
     "output_type": "stream",
     "text": [
      "Feature Names: 39934\n",
      "Tracked Feature Name Shape: 39934\n",
      "Training Data Shape: (384, 39934)\n"
     ]
    }
   ],
   "source": [
    "print(\"Feature Names:\", \n",
    "      len(ngram_punct_names) + \n",
    "      len(train_LIWC_vars.tolist()) + \n",
    "      len(train_readability_vars.tolist()) +\n",
    "      len(text_standard_names) +\n",
    "      len(news_category_names))\n",
    "feature_names = ngram_punct_names + train_LIWC_vars.tolist() + train_readability_vars.tolist() +text_standard_names + news_category_names\n",
    "print(\"Tracked Feature Name Shape:\", len(feature_names))\n",
    "print(\"Training Data Shape:\", train_final.shape)"
   ]
  },
  {
   "cell_type": "code",
   "execution_count": 231,
   "metadata": {},
   "outputs": [
    {
     "name": "stdout",
     "output_type": "stream",
     "text": [
      "Feature ranking:\n",
      "1. , bombardier (0.220131)\n",
      "2. ! like (0.194007)\n",
      "3. \" ' (0.047374)\n",
      "4. ! here (0.038496)\n",
      "5. salary (0.032420)\n",
      "6. on imdb (0.030742)\n",
      "7. ! ' (0.019694)\n",
      "8. ' champion (0.018042)\n",
      "9. it stands (0.016990)\n",
      "10. ! as (0.015826)\n",
      "11. \" button (0.013073)\n",
      "12. \" bonehead (0.011573)\n",
      "13. be little (0.011448)\n",
      "14. \" any (0.009361)\n",
      "15. have second (0.008667)\n",
      "16. ! (0.008243)\n",
      "17. for everybody (0.007975)\n",
      "18. \" : (0.007957)\n",
      "19. \" brexit (0.007894)\n",
      "20. alumni (0.007690)\n",
      "21. \" appreciate (0.007104)\n",
      "22. ! \" (0.007039)\n",
      "23. \" brewdog (0.006923)\n",
      "24. \" dumb (0.006514)\n",
      "25. ! it (0.006331)\n",
      "26. \" actress (0.006276)\n",
      "27. \" brands (0.005949)\n",
      "28. \" an (0.005655)\n",
      "29. order to (0.005509)\n",
      "30. ! ! (0.005189)\n",
      "31. \" amazing (0.005143)\n",
      "32. in center (0.005118)\n",
      "33. \" british (0.005114)\n",
      "34. \" among (0.004889)\n",
      "35. ! we (0.004864)\n",
      "36. the artwork (0.004765)\n",
      "37. \" at (0.004759)\n",
      "38. with fun (0.004673)\n",
      "39. to body (0.004672)\n",
      "40. \" bury (0.004441)\n",
      "41. \" alien (0.004087)\n",
      "42. is followed (0.003952)\n",
      "43. \" actionable (0.003946)\n",
      "44. one sign (0.003793)\n",
      "45. \" big (0.003767)\n",
      "46. . bruno (0.003650)\n",
      "47. \" \" (0.003567)\n",
      "48. ! more (0.003394)\n",
      "49. of canceling (0.003384)\n",
      "50. this route (0.003193)\n"
     ]
    }
   ],
   "source": [
    "importances = exported_pipeline.feature_importances_\n",
    "std = np.std([tree.feature_importances_ for tree in exported_pipeline.estimators_],\n",
    "             axis=0)\n",
    "indices = np.argsort(importances)[::-1]\n",
    "\n",
    "# Print the feature ranking\n",
    "print(\"Feature ranking:\")\n",
    "\n",
    "for f in range(50):\n",
    "    print(\"%d. %s (%f)\" % (f + 1, feature_names[indices[f]], importances[indices[f]]))"
   ]
  },
  {
   "cell_type": "code",
   "execution_count": null,
   "metadata": {},
   "outputs": [],
   "source": []
  }
 ],
 "metadata": {
  "kernelspec": {
   "display_name": "Python 3",
   "language": "python",
   "name": "python3"
  },
  "language_info": {
   "codemirror_mode": {
    "name": "ipython",
    "version": 3
   },
   "file_extension": ".py",
   "mimetype": "text/x-python",
   "name": "python",
   "nbconvert_exporter": "python",
   "pygments_lexer": "ipython3",
   "version": "3.6.3"
  }
 },
 "nbformat": 4,
 "nbformat_minor": 2
}
