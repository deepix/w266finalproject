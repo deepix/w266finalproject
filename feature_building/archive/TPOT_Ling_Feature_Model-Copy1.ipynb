{
 "cells": [
  {
   "cell_type": "markdown",
   "metadata": {},
   "source": [
    "## I. Import Libraries and Data"
   ]
  },
  {
   "cell_type": "code",
   "execution_count": 1,
   "metadata": {},
   "outputs": [],
   "source": [
    "import re\n",
    "import pandas as pd\n",
    "import numpy as np\n",
    "import os\n",
    "from sklearn.model_selection import train_test_split\n",
    "from sklearn.metrics import confusion_matrix\n",
    "from tpot import TPOTClassifier\n",
    "from sklearn.feature_extraction.text import CountVectorizer\n",
    "from scipy.sparse import coo_matrix, hstack\n",
    "from scipy.sparse import csr_matrix, hstack\n",
    "\n",
    "from sklearn.metrics import classification_report\n",
    "from sklearn import metrics\n",
    "from sklearn.feature_extraction.text import TfidfVectorizer\n",
    "import matplotlib.pyplot as plt\n",
    "import seaborn as sns\n",
    "import re\n",
    "from collections import Counter\n",
    "\n",
    "#readability\n",
    "import textstat\n",
    "\n",
    "#sytax\n",
    "import nltk"
   ]
  },
  {
   "cell_type": "markdown",
   "metadata": {},
   "source": [
    "## II. Define Functions"
   ]
  },
  {
   "cell_type": "markdown",
   "metadata": {},
   "source": [
    "## A. Cleaning and Read Functions"
   ]
  },
  {
   "cell_type": "code",
   "execution_count": 2,
   "metadata": {},
   "outputs": [],
   "source": [
    "def cleanArticle(string):\n",
    "    strip_special_chars = re.compile(\"[^A-Za-z0-9' ]+\")\n",
    "    string = string.lower().replace(\"<br />\", \" \")\n",
    "    return re.sub(strip_special_chars, \"\", string.lower())\n",
    "\n",
    "def read_perez_dataset(dataset_name):\n",
    "    \n",
    "    def remove_numbers(in_str):\n",
    "        return re.sub(r'[0-9]+', '', in_str)\n",
    "    \n",
    "    print(\"Reading dataset\")\n",
    "    result_data_list = []\n",
    "    data_dir = PEREZ_DATASET_PATH\n",
    "    for news_type in ['fake', 'legit']:\n",
    "        folder = '%s/%s/%s' % (data_dir, dataset_name, news_type)\n",
    "        for fname in os.listdir(folder):\n",
    "            result_data = {}\n",
    "            result_data['dataset_name'] = dataset_name\n",
    "            result_data['news_type'] = news_type\n",
    "            if news_type == 'fake':\n",
    "                result_data['is_fake'] = 1\n",
    "            else:\n",
    "                result_data['is_fake'] = 0\n",
    "            if dataset_name == 'fakeNewsDataset':\n",
    "                result_data['news_category'] = remove_numbers(fname.split('.')[0])\n",
    "            result_data['file_name'] = fname\n",
    "            filepath = os.path.join(folder, fname)\n",
    "            with open(filepath, 'r', encoding=\"utf8\") as f:\n",
    "                file_data = f.read().split('\\n')\n",
    "                # Some articles don't have a headline, but only article body.\n",
    "                if len(file_data) > 1:\n",
    "                    news_content_data = ' '.join(file_data[2:])\n",
    "                    result_data['news_headline'] = file_data[0]\n",
    "                else:\n",
    "                    news_content_data = file_data[0]\n",
    "                    result_data['news_headline'] = ''\n",
    "                result_data['news_content'] = news_content_data\n",
    "                result_data['news_all'] = ' '.join(file_data[0:])\n",
    "                result_data_list.append(result_data)\n",
    "                \n",
    "    df = pd.DataFrame(result_data_list)\n",
    "    \n",
    "    df['news_all_clean'] = df['news_all'].apply(lambda a: cleanArticle(a))\n",
    "    \n",
    "    X_train, X_test, y_train, y_test = train_test_split(df.drop(['is_fake',\n",
    "                                                               'news_type','file_name'],\n",
    "                                                               axis = 1), \n",
    "                                                        df['is_fake'], \n",
    "                                                        test_size=.2, random_state=RANDOM_SEED)\n",
    "    \n",
    "    print(\"Finished reading dataset\")\n",
    "    return df, X_train.reset_index(drop = True), y_train.reset_index(drop = True), X_test.reset_index(drop = True), y_test.reset_index(drop = True)\n",
    "\n",
    "def model_report(title, y_test, predictions, predictions_proba):\n",
    "\n",
    "    \"\"\"\n",
    "    Output: Classification report, confusion matrix, and ROC curve\n",
    "    \"\"\"\n",
    "    print(title)\n",
    "    print(\"---------\")\n",
    "    print(classification_report(y_test, predictions))\n",
    "\n",
    "    cm = metrics.confusion_matrix(y_test, predictions)\n",
    "    plt.figure(figsize=(3,3))\n",
    "    sns.heatmap(cm, annot=True, fmt=\".0f\", linewidths=.5, square = True, cmap = 'Blues_r');\n",
    "    plt.ylabel('Actual label');\n",
    "    plt.xlabel('Predicted label');\n",
    "    all_sample_title = 'Accuracy: {0}'.format(round(metrics.accuracy_score(y_test, predictions),2))\n",
    "    plt.title(all_sample_title, size = 15)\n",
    "    plt.show()\n",
    "    \n",
    "    fpr, tpr, threshold = metrics.roc_curve(y_test, predictions_proba)\n",
    "    roc_auc = metrics.auc(fpr, tpr)\n",
    "\n",
    "    plt.title('Receiver Operating Characteristic')\n",
    "    plt.plot(fpr, tpr, 'b', label = 'AUC = %0.2f' % roc_auc)\n",
    "    plt.legend(loc = 'lower right')\n",
    "    plt.plot([0, 1], [0, 1],'r--')\n",
    "    plt.xlim([0, 1])\n",
    "    plt.ylim([0, 1])\n",
    "    plt.ylabel('True Positive Rate')\n",
    "    plt.xlabel('False Positive Rate')\n",
    "    plt.show()"
   ]
  },
  {
   "cell_type": "markdown",
   "metadata": {},
   "source": [
    "## B. Linguistic-based feature creators"
   ]
  },
  {
   "cell_type": "markdown",
   "metadata": {},
   "source": [
    "### 1. Ngram & Punctuation"
   ]
  },
  {
   "cell_type": "code",
   "execution_count": 3,
   "metadata": {},
   "outputs": [],
   "source": [
    "def pad_punct(s):\n",
    "    \"\"\"\n",
    "    Add padding around specified punctuation.\n",
    "    \"\"\"\n",
    "    s = re.sub('([.,!?():])', r' \\1 ', s)\n",
    "    s = re.sub('\\s{2,}', ' ', s)\n",
    "    return s\n",
    "def tfidf_vectorizer_custom(train, test, ngram_range):\n",
    "    \"\"\"\n",
    "    Create a tfidf vectorized set for train and test data that counts punctuation.\n",
    "    Ngram range = (1,3)\n",
    "    \"\"\"\n",
    "    train = train.apply(pad_punct)\n",
    "    test = test.apply(pad_punct)\n",
    "    vect = TfidfVectorizer(token_pattern=r\"(?u)\\b\\w\\w+\\b|!|\\.|,|\\)|\\(|\\:|\\?|\\\"|\\'\", #pattern keep punctuation in vectorizer\n",
    "                          ngram_range = ngram_range).fit(train)\n",
    "    vocab = vect.vocabulary_.keys()\n",
    "    vocab = sorted(vocab, key=len)\n",
    "    print(\"Traing data info:\")\n",
    "    print('- Vocabulary len:', len(vect.get_feature_names()))\n",
    "    print('- Longest phrase:', max(vect.vocabulary_, key=len))\n",
    "    print('- Smallest 10 phrases:', vocab[0:10])\n",
    "    print('- Sample of features:',np.array(vect.get_feature_names()))\n",
    "    train_vectorized = vect.transform(train)\n",
    "    test_vectorized = vect.transform(test)\n",
    "    return train_vectorized, test_vectorized"
   ]
  },
  {
   "cell_type": "markdown",
   "metadata": {},
   "source": [
    "### 2. Psycholinguistic features"
   ]
  },
  {
   "cell_type": "code",
   "execution_count": 4,
   "metadata": {},
   "outputs": [],
   "source": [
    "def LIWC_counter(df1, df_LIWC, train_LIWC):\n",
    "    \"\"\"\n",
    "    Inputs: - Data set with field: news_all_clean\n",
    "            - Preprocessed LIWC lookup table\n",
    "    Ouput:  - Data set with 73 additional fields for LIWC count results (normalized over string word count)\n",
    "    \"\"\"\n",
    "    df = df1.copy()\n",
    "    LIWC_vars = train_LIWC.drop('Word', axis = 1).columns.values\n",
    "    for i in LIWC_vars:\n",
    "        df[i] = 0\n",
    "        words = df_LIWC[df_LIWC[i] == 1]['Word']\n",
    "        for a in words:\n",
    "            df[i] = (df[i] + \n",
    "                df.news_all_clean.str.count(str(\" \" + a + \" \"))  + #free floating word\n",
    "                df.news_all_clean.str.count(str(\"^\" + a + \" \")) +  #start word\n",
    "                df.news_all_clean.str.count(str(\" \" + a + \"$\")))   #end word\n",
    "        df[i] = df[i] / df.news_all_clean.str.count(\" \") #normalize over word count\n",
    "    return df"
   ]
  },
  {
   "cell_type": "markdown",
   "metadata": {},
   "source": [
    "### 3. Readability"
   ]
  },
  {
   "cell_type": "code",
   "execution_count": 5,
   "metadata": {},
   "outputs": [],
   "source": [
    "def readability_enricher(df1):\n",
    "    \"\"\"\n",
    "    Input: a dataframe with column \"news_all\" to be analyzed for a variety of readbility metrics.\n",
    "    Output: the inputted dataframe, enriched with all readbility metrics (there are a total of 10, one of which is categorical).\n",
    "    \"\"\"\n",
    "    df = df1.copy()\n",
    "    df[\"flesch_reading_ease\"]=0.0\n",
    "    df[\"smog_index\"]=0.0\n",
    "    df[\"flesch_kincaid_grade\"]=0.0\n",
    "    df[\"coleman_liau_index\"]=0.0\n",
    "    df[\"automated_readability_index\"]=0.0\n",
    "    df[\"dale_chall_readability_score\"]=0.0\n",
    "    df[\"difficult_words\"]=0.0\n",
    "    df[\"linsear_write_formula\"]=0.0\n",
    "    df[\"gunning_fog\"]=0.0\n",
    "    df[\"text_standard\"]=0.0\n",
    "\n",
    "    for i in range(df.shape[0]):\n",
    "        text = df['news_all'].iloc[i]\n",
    "        df.loc[i,(\"flesch_reading_ease\")]= textstat.flesch_reading_ease(text)\n",
    "        df.loc[i,(\"smog_index\")]= textstat.smog_index(text)\n",
    "        df.loc[i,(\"flesch_kincaid_grade\")]= textstat.flesch_kincaid_grade(text)\n",
    "        df.loc[i,(\"coleman_liau_index\")]= textstat.coleman_liau_index(text)\n",
    "        df.loc[i,(\"automated_readability_index\")]= textstat.automated_readability_index(text)\n",
    "        df.loc[i,(\"dale_chall_readability_score\")]= textstat.dale_chall_readability_score(text)\n",
    "        df.loc[i,(\"difficult_words\")]= textstat.difficult_words(text)\n",
    "        df.loc[i,(\"linsear_write_formula\")]= textstat.linsear_write_formula(text)\n",
    "        df.loc[i,(\"gunning_fog\")]= textstat.gunning_fog(text)\n",
    "        df.loc[i,(\"text_standard\")]= textstat.text_standard(text)\n",
    "    \n",
    "    return df"
   ]
  },
  {
   "cell_type": "markdown",
   "metadata": {},
   "source": [
    "### 4. Syntax"
   ]
  },
  {
   "cell_type": "code",
   "execution_count": 6,
   "metadata": {},
   "outputs": [],
   "source": [
    "def POS_tagger(text):\n",
    "    \"\"\"\n",
    "    Tag POS using nltk. Return a single \"sentence\" with the POS of each word treated like a \"word.\"\n",
    "    \"\"\"\n",
    "    tokens = nltk.word_tokenize(text)\n",
    "    text = nltk.Text(tokens)\n",
    "    tags = nltk.pos_tag(text)\n",
    "    return \" \".join([i[1] for i in tags])\n",
    "\n",
    "def POS_enricher(df1):\n",
    "    \"\"\"\n",
    "    Input: a dataframe with column \"news_headline\" and \"news_content\".\n",
    "    Output: the inputted dataframe, with the columns \"news_headline_POS\" and \"news_content_POS\" created which are a single sentence with the \n",
    "    POS of each word represented as word in that same position.\n",
    "    \"\"\"\n",
    "    df = df1.copy()\n",
    "    df[\"news_headline_POS\"]=\"\"\n",
    "    df[\"news_content_POS\"]=\"\"\n",
    "    \n",
    "    for i in range(df.shape[0]):\n",
    "        text_headline = cleanArticle(POS_tagger(df['news_headline'].apply(lambda a: cleanArticle(a)).iloc[i]))\n",
    "        text_content = cleanArticle(POS_tagger(df['news_content'].apply(lambda a: cleanArticle(a)).iloc[i]))\n",
    "        \n",
    "        df.loc[i,(\"news_headline_POS\")]= text_headline\n",
    "        df.loc[i,(\"news_content_POS\")]= text_content\n",
    "    \n",
    "    return df"
   ]
  },
  {
   "cell_type": "markdown",
   "metadata": {},
   "source": [
    "## III. Read in Data, Define Test/Train Set"
   ]
  },
  {
   "cell_type": "code",
   "execution_count": 7,
   "metadata": {},
   "outputs": [
    {
     "name": "stdout",
     "output_type": "stream",
     "text": [
      "Reading dataset\n",
      "Finished reading dataset\n"
     ]
    },
    {
     "data": {
      "text/html": [
       "<div>\n",
       "<style scoped>\n",
       "    .dataframe tbody tr th:only-of-type {\n",
       "        vertical-align: middle;\n",
       "    }\n",
       "\n",
       "    .dataframe tbody tr th {\n",
       "        vertical-align: top;\n",
       "    }\n",
       "\n",
       "    .dataframe thead th {\n",
       "        text-align: right;\n",
       "    }\n",
       "</style>\n",
       "<table border=\"1\" class=\"dataframe\">\n",
       "  <thead>\n",
       "    <tr style=\"text-align: right;\">\n",
       "      <th></th>\n",
       "      <th>dataset_name</th>\n",
       "      <th>news_all</th>\n",
       "      <th>news_content</th>\n",
       "      <th>news_headline</th>\n",
       "      <th>news_all_clean</th>\n",
       "    </tr>\n",
       "  </thead>\n",
       "  <tbody>\n",
       "    <tr>\n",
       "      <th>0</th>\n",
       "      <td>celebrityDataset</td>\n",
       "      <td>Malia Obama Has Barack And Michelle Worried – ...</td>\n",
       "      <td>Malia Obama, 18, is adjusting to her new life ...</td>\n",
       "      <td>Malia Obama Has Barack And Michelle Worried – ...</td>\n",
       "      <td>malia obama has barack and michelle worried  c...</td>\n",
       "    </tr>\n",
       "    <tr>\n",
       "      <th>1</th>\n",
       "      <td>celebrityDataset</td>\n",
       "      <td>Scarlett Johansson's New Man Has Confirmed The...</td>\n",
       "      <td>From the editors of HelloGiggles  There’s been...</td>\n",
       "      <td>Scarlett Johansson's New Man Has Confirmed The...</td>\n",
       "      <td>scarlett johansson's new man has confirmed the...</td>\n",
       "    </tr>\n",
       "    <tr>\n",
       "      <th>2</th>\n",
       "      <td>celebrityDataset</td>\n",
       "      <td>Tyga To Reveal The Ugly Truth About Kylie Jenn...</td>\n",
       "      <td>Tyga and Kylie Jenner have made it to Splitsvi...</td>\n",
       "      <td>Tyga To Reveal The Ugly Truth About Kylie Jenn...</td>\n",
       "      <td>tyga to reveal the ugly truth about kylie jenn...</td>\n",
       "    </tr>\n",
       "    <tr>\n",
       "      <th>3</th>\n",
       "      <td>celebrityDataset</td>\n",
       "      <td>How Janet Jackson lost 70 pounds  The 51-year-...</td>\n",
       "      <td>The 51-year-old new mom is sporting a sleek ph...</td>\n",
       "      <td>How Janet Jackson lost 70 pounds</td>\n",
       "      <td>how janet jackson lost 70 pounds  the 51yearol...</td>\n",
       "    </tr>\n",
       "    <tr>\n",
       "      <th>4</th>\n",
       "      <td>celebrityDataset</td>\n",
       "      <td>Halle Berry Jokes About Pregnancy Rumors  UPDA...</td>\n",
       "      <td>UPDATE: Halle Berry joked about the pregnancy ...</td>\n",
       "      <td>Halle Berry Jokes About Pregnancy Rumors</td>\n",
       "      <td>halle berry jokes about pregnancy rumors  upda...</td>\n",
       "    </tr>\n",
       "  </tbody>\n",
       "</table>\n",
       "</div>"
      ],
      "text/plain": [
       "       dataset_name                                           news_all  \\\n",
       "0  celebrityDataset  Malia Obama Has Barack And Michelle Worried – ...   \n",
       "1  celebrityDataset  Scarlett Johansson's New Man Has Confirmed The...   \n",
       "2  celebrityDataset  Tyga To Reveal The Ugly Truth About Kylie Jenn...   \n",
       "3  celebrityDataset  How Janet Jackson lost 70 pounds  The 51-year-...   \n",
       "4  celebrityDataset  Halle Berry Jokes About Pregnancy Rumors  UPDA...   \n",
       "\n",
       "                                        news_content  \\\n",
       "0  Malia Obama, 18, is adjusting to her new life ...   \n",
       "1  From the editors of HelloGiggles  There’s been...   \n",
       "2  Tyga and Kylie Jenner have made it to Splitsvi...   \n",
       "3  The 51-year-old new mom is sporting a sleek ph...   \n",
       "4  UPDATE: Halle Berry joked about the pregnancy ...   \n",
       "\n",
       "                                       news_headline  \\\n",
       "0  Malia Obama Has Barack And Michelle Worried – ...   \n",
       "1  Scarlett Johansson's New Man Has Confirmed The...   \n",
       "2  Tyga To Reveal The Ugly Truth About Kylie Jenn...   \n",
       "3                   How Janet Jackson lost 70 pounds   \n",
       "4           Halle Berry Jokes About Pregnancy Rumors   \n",
       "\n",
       "                                      news_all_clean  \n",
       "0  malia obama has barack and michelle worried  c...  \n",
       "1  scarlett johansson's new man has confirmed the...  \n",
       "2  tyga to reveal the ugly truth about kylie jenn...  \n",
       "3  how janet jackson lost 70 pounds  the 51yearol...  \n",
       "4  halle berry jokes about pregnancy rumors  upda...  "
      ]
     },
     "execution_count": 7,
     "metadata": {},
     "output_type": "execute_result"
    }
   ],
   "source": [
    "RANDOM_SEED = 42\n",
    "PEREZ_DATASET_PATH = \"../data/fakeNewsDatasets_Perez-Rosas2018\"\n",
    "np.random.seed(RANDOM_SEED)\n",
    "perez_full, train_data, train_labels, test_data, test_labels = read_perez_dataset('celebrityDataset')\n",
    "train_data.head()"
   ]
  },
  {
   "cell_type": "markdown",
   "metadata": {},
   "source": [
    "## IV. Run Train/Test Set through LIWC Rented License\n",
    "\n",
    "We rented the LIWC dataset (for 30 days), as seen here: https://store5.esellerate.net/store/checkout/CustomLayout.aspx?s=STR6622550055&pc=&page=OnePageMoreInfo.htm&SkuRefNum=SKU48070077205\n",
    "\n",
    "We downloaded the software, outputted the train/test set, ran the train/test set through the LIWC software, and uploaded the LIWC results.\n",
    "The software marks words to 73 LIWC categories in a binary format (with an 'X')"
   ]
  },
  {
   "cell_type": "code",
   "execution_count": 13,
   "metadata": {},
   "outputs": [
    {
     "name": "stderr",
     "output_type": "stream",
     "text": [
      "/anaconda3/lib/python3.6/site-packages/IPython/core/interactiveshell.py:2698: DtypeWarning: Columns (7,8,10) have mixed types. Specify dtype option on import or set low_memory=False.\n",
      "  interactivity=interactivity, compiler=compiler, result=result)\n"
     ]
    }
   ],
   "source": [
    "train_data['news_all'].to_csv(\"train_data_news_all_forLIWC_celeb.txt\")\n",
    "test_data['news_all'].to_csv(\"test_data_news_all_forLIWC_celeb.txt\")\n",
    "train_LIWC = pd.read_csv(\n",
    "    \"LIWC2015 Results (train_data_news_all_forLIWC_celeb).csv\").fillna(0).drop('Unnamed: 74', axis = 1).replace('X',1)\n",
    "test_LIWC = pd.read_csv(\n",
    "    \"LIWC2015 Results (test_data_news_all_forLIWC_celeb).csv\").fillna(0).drop('Unnamed: 74', axis = 1).replace('X',1)"
   ]
  },
  {
   "cell_type": "code",
   "execution_count": 14,
   "metadata": {},
   "outputs": [
    {
     "data": {
      "text/html": [
       "<div>\n",
       "<style scoped>\n",
       "    .dataframe tbody tr th:only-of-type {\n",
       "        vertical-align: middle;\n",
       "    }\n",
       "\n",
       "    .dataframe tbody tr th {\n",
       "        vertical-align: top;\n",
       "    }\n",
       "\n",
       "    .dataframe thead th {\n",
       "        text-align: right;\n",
       "    }\n",
       "</style>\n",
       "<table border=\"1\" class=\"dataframe\">\n",
       "  <thead>\n",
       "    <tr style=\"text-align: right;\">\n",
       "      <th></th>\n",
       "      <th>Word</th>\n",
       "      <th>function</th>\n",
       "      <th>pronoun</th>\n",
       "      <th>ppron</th>\n",
       "      <th>i</th>\n",
       "      <th>we</th>\n",
       "      <th>you</th>\n",
       "      <th>shehe</th>\n",
       "      <th>they</th>\n",
       "      <th>ipron</th>\n",
       "      <th>...</th>\n",
       "      <th>home</th>\n",
       "      <th>money</th>\n",
       "      <th>relig</th>\n",
       "      <th>death</th>\n",
       "      <th>informal</th>\n",
       "      <th>swear</th>\n",
       "      <th>netspeak</th>\n",
       "      <th>assent</th>\n",
       "      <th>nonflu</th>\n",
       "      <th>filler</th>\n",
       "    </tr>\n",
       "  </thead>\n",
       "  <tbody>\n",
       "    <tr>\n",
       "      <th>0</th>\n",
       "      <td>0</td>\n",
       "      <td>0</td>\n",
       "      <td>0</td>\n",
       "      <td>0</td>\n",
       "      <td>0</td>\n",
       "      <td>0</td>\n",
       "      <td>0</td>\n",
       "      <td>0</td>\n",
       "      <td>0</td>\n",
       "      <td>0</td>\n",
       "      <td>...</td>\n",
       "      <td>0</td>\n",
       "      <td>0</td>\n",
       "      <td>0</td>\n",
       "      <td>0</td>\n",
       "      <td>0</td>\n",
       "      <td>0</td>\n",
       "      <td>0</td>\n",
       "      <td>0</td>\n",
       "      <td>0</td>\n",
       "      <td>0</td>\n",
       "    </tr>\n",
       "    <tr>\n",
       "      <th>1</th>\n",
       "      <td>malia</td>\n",
       "      <td>0</td>\n",
       "      <td>0</td>\n",
       "      <td>0</td>\n",
       "      <td>0</td>\n",
       "      <td>0</td>\n",
       "      <td>0</td>\n",
       "      <td>0</td>\n",
       "      <td>0</td>\n",
       "      <td>0</td>\n",
       "      <td>...</td>\n",
       "      <td>0</td>\n",
       "      <td>0</td>\n",
       "      <td>0</td>\n",
       "      <td>0</td>\n",
       "      <td>0</td>\n",
       "      <td>0</td>\n",
       "      <td>0</td>\n",
       "      <td>0</td>\n",
       "      <td>0</td>\n",
       "      <td>0</td>\n",
       "    </tr>\n",
       "    <tr>\n",
       "      <th>2</th>\n",
       "      <td>obama</td>\n",
       "      <td>0</td>\n",
       "      <td>0</td>\n",
       "      <td>0</td>\n",
       "      <td>0</td>\n",
       "      <td>0</td>\n",
       "      <td>0</td>\n",
       "      <td>0</td>\n",
       "      <td>0</td>\n",
       "      <td>0</td>\n",
       "      <td>...</td>\n",
       "      <td>0</td>\n",
       "      <td>0</td>\n",
       "      <td>0</td>\n",
       "      <td>0</td>\n",
       "      <td>0</td>\n",
       "      <td>0</td>\n",
       "      <td>0</td>\n",
       "      <td>0</td>\n",
       "      <td>0</td>\n",
       "      <td>0</td>\n",
       "    </tr>\n",
       "    <tr>\n",
       "      <th>3</th>\n",
       "      <td>has</td>\n",
       "      <td>1</td>\n",
       "      <td>0</td>\n",
       "      <td>0</td>\n",
       "      <td>0</td>\n",
       "      <td>0</td>\n",
       "      <td>0</td>\n",
       "      <td>0</td>\n",
       "      <td>0</td>\n",
       "      <td>0</td>\n",
       "      <td>...</td>\n",
       "      <td>0</td>\n",
       "      <td>0</td>\n",
       "      <td>0</td>\n",
       "      <td>0</td>\n",
       "      <td>0</td>\n",
       "      <td>0</td>\n",
       "      <td>0</td>\n",
       "      <td>0</td>\n",
       "      <td>0</td>\n",
       "      <td>0</td>\n",
       "    </tr>\n",
       "    <tr>\n",
       "      <th>4</th>\n",
       "      <td>barack</td>\n",
       "      <td>0</td>\n",
       "      <td>0</td>\n",
       "      <td>0</td>\n",
       "      <td>0</td>\n",
       "      <td>0</td>\n",
       "      <td>0</td>\n",
       "      <td>0</td>\n",
       "      <td>0</td>\n",
       "      <td>0</td>\n",
       "      <td>...</td>\n",
       "      <td>0</td>\n",
       "      <td>0</td>\n",
       "      <td>0</td>\n",
       "      <td>0</td>\n",
       "      <td>0</td>\n",
       "      <td>0</td>\n",
       "      <td>0</td>\n",
       "      <td>0</td>\n",
       "      <td>0</td>\n",
       "      <td>0</td>\n",
       "    </tr>\n",
       "  </tbody>\n",
       "</table>\n",
       "<p>5 rows × 74 columns</p>\n",
       "</div>"
      ],
      "text/plain": [
       "     Word  function  pronoun  ppron  i  we  you  shehe  they  ipron   ...    \\\n",
       "0       0         0        0      0  0   0    0      0     0      0   ...     \n",
       "1   malia         0        0      0  0   0    0      0     0      0   ...     \n",
       "2   obama         0        0      0  0   0    0      0     0      0   ...     \n",
       "3     has         1        0      0  0   0    0      0     0      0   ...     \n",
       "4  barack         0        0      0  0   0    0      0     0      0   ...     \n",
       "\n",
       "   home  money  relig  death  informal  swear  netspeak  assent  nonflu  \\\n",
       "0     0      0      0      0         0      0         0       0       0   \n",
       "1     0      0      0      0         0      0         0       0       0   \n",
       "2     0      0      0      0         0      0         0       0       0   \n",
       "3     0      0      0      0         0      0         0       0       0   \n",
       "4     0      0      0      0         0      0         0       0       0   \n",
       "\n",
       "   filler  \n",
       "0       0  \n",
       "1       0  \n",
       "2       0  \n",
       "3       0  \n",
       "4       0  \n",
       "\n",
       "[5 rows x 74 columns]"
      ]
     },
     "execution_count": 14,
     "metadata": {},
     "output_type": "execute_result"
    }
   ],
   "source": [
    "train_LIWC.head()"
   ]
  },
  {
   "cell_type": "code",
   "execution_count": 15,
   "metadata": {},
   "outputs": [
    {
     "name": "stdout",
     "output_type": "stream",
     "text": [
      "<class 'pandas.core.frame.DataFrame'>\n",
      "RangeIndex: 6945 entries, 0 to 6944\n",
      "Data columns (total 74 columns):\n",
      "Word            6945 non-null object\n",
      "function        6945 non-null int64\n",
      "pronoun         6945 non-null int64\n",
      "ppron           6945 non-null int64\n",
      "i               6945 non-null int64\n",
      "we              6945 non-null int64\n",
      "you             6945 non-null int64\n",
      "shehe           6945 non-null int64\n",
      "they            6945 non-null int64\n",
      "ipron           6945 non-null int64\n",
      "article         6945 non-null int64\n",
      "prep            6945 non-null int64\n",
      "auxverb         6945 non-null int64\n",
      "adverb          6945 non-null int64\n",
      "conj            6945 non-null int64\n",
      "negate          6945 non-null int64\n",
      "verb            6945 non-null int64\n",
      "adj             6945 non-null int64\n",
      "compare         6945 non-null int64\n",
      "interrog        6945 non-null int64\n",
      "number          6945 non-null int64\n",
      "quant           6945 non-null int64\n",
      "affect          6945 non-null int64\n",
      "posemo          6945 non-null int64\n",
      "negemo          6945 non-null int64\n",
      "anx             6945 non-null int64\n",
      "anger           6945 non-null int64\n",
      "sad             6945 non-null int64\n",
      "social          6945 non-null int64\n",
      "family          6945 non-null int64\n",
      "friend          6945 non-null int64\n",
      "female          6945 non-null int64\n",
      "male            6945 non-null int64\n",
      "cogproc         6945 non-null int64\n",
      "insight         6945 non-null int64\n",
      "cause           6945 non-null int64\n",
      "discrep         6945 non-null int64\n",
      "tentat          6945 non-null int64\n",
      "certain         6945 non-null int64\n",
      "differ          6945 non-null int64\n",
      "percept         6945 non-null int64\n",
      "see             6945 non-null int64\n",
      "hear            6945 non-null int64\n",
      "feel            6945 non-null int64\n",
      "bio             6945 non-null int64\n",
      "body            6945 non-null int64\n",
      "health          6945 non-null int64\n",
      "sexual          6945 non-null int64\n",
      "ingest          6945 non-null int64\n",
      "drives          6945 non-null int64\n",
      "affiliation     6945 non-null int64\n",
      "achieve         6945 non-null int64\n",
      "power           6945 non-null int64\n",
      "reward          6945 non-null int64\n",
      "risk            6945 non-null int64\n",
      "focuspast       6945 non-null int64\n",
      "focuspresent    6945 non-null int64\n",
      "focusfuture     6945 non-null int64\n",
      "relativ         6945 non-null int64\n",
      "motion          6945 non-null int64\n",
      "space           6945 non-null int64\n",
      "time            6945 non-null int64\n",
      "work            6945 non-null int64\n",
      "leisure         6945 non-null int64\n",
      "home            6945 non-null int64\n",
      "money           6945 non-null int64\n",
      "relig           6945 non-null int64\n",
      "death           6945 non-null int64\n",
      "informal        6945 non-null int64\n",
      "swear           6945 non-null int64\n",
      "netspeak        6945 non-null int64\n",
      "assent          6945 non-null int64\n",
      "nonflu          6945 non-null int64\n",
      "filler          6945 non-null int64\n",
      "dtypes: int64(73), object(1)\n",
      "memory usage: 3.9+ MB\n"
     ]
    }
   ],
   "source": [
    "test_LIWC.info()"
   ]
  },
  {
   "cell_type": "markdown",
   "metadata": {},
   "source": [
    "## IV. Quick Look at Data"
   ]
  },
  {
   "cell_type": "code",
   "execution_count": 16,
   "metadata": {},
   "outputs": [
    {
     "data": {
      "text/plain": [
       "\"scarlett johansson's new man has confirmed they are dating  from the editors of hellogiggles  theres been word that saturday night lives weekend update host colin jost is dating scarlett johansson while hollywood dating rumors often turn out to be true we kinda assumed this cool couple might have been a passing phase and wed never hear of it again  turns out jost and johansson are so serious that johansson was actually going to accompany jost as his date to the emmys tbh had they stepped out as a couple we would have died  shes wonderful shes working so otherwise shed be here colin told entertainment tonight on the emmys red carpet shes pretty coolits hard to have a lot of complaints shes pretty awesome  jost explained that they met on the set of snl  the first time she hosted was the first year i was a writer on the show colin said so weve kind of known each other since thenshes the best im very happy im very lucky  snl was nominated for a slew of cast performance awards plus outstanding variety show which they won and outstanding writing for a variety show which is why jost was in attendance  according to peoplecom jost and johansson were first linked back in may when they were spotted kissing at snls season finale afterparty  johansson separated from her now exhusband romain dauriac last summer after two years of marriage jost was most notably linked with actress rashida jones the internet seems to be a bit murky on this relationship but suspects it was sometime around 2013  best wishes to jost and johansson  hopefully they make it work \""
      ]
     },
     "execution_count": 16,
     "metadata": {},
     "output_type": "execute_result"
    }
   ],
   "source": [
    "train_data['news_all_clean'].iloc[1]"
   ]
  },
  {
   "cell_type": "code",
   "execution_count": 17,
   "metadata": {},
   "outputs": [
    {
     "name": "stdout",
     "output_type": "stream",
     "text": [
      "full perez size:  (500, 8)\n",
      "train size:  (400,)\n"
     ]
    }
   ],
   "source": [
    "print(\"full perez size: \", perez_full.shape)\n",
    "print(\"train size: \",train_labels.shape)"
   ]
  },
  {
   "cell_type": "code",
   "execution_count": 19,
   "metadata": {},
   "outputs": [],
   "source": [
    "#sns.catplot(x=\"news_category\", kind = \"count\", hue=\"is_fake\", data=perez_full)\n",
    "#plt.show()"
   ]
  },
  {
   "cell_type": "code",
   "execution_count": 14,
   "metadata": {},
   "outputs": [
    {
     "data": {
      "text/plain": [
       "news_category  is_fake\n",
       "biz            0          40\n",
       "               1          40\n",
       "edu            0          40\n",
       "               1          40\n",
       "entmt          0          40\n",
       "               1          40\n",
       "polit          0          40\n",
       "               1          40\n",
       "sports         0          40\n",
       "               1          40\n",
       "tech           0          40\n",
       "               1          40\n",
       "dtype: int64"
      ]
     },
     "execution_count": 14,
     "metadata": {},
     "output_type": "execute_result"
    }
   ],
   "source": [
    "#perez_full.groupby(['news_category','is_fake']).size()"
   ]
  },
  {
   "cell_type": "markdown",
   "metadata": {},
   "source": [
    "## V. Create Feature-Enriched Training/Testing Datasets"
   ]
  },
  {
   "cell_type": "markdown",
   "metadata": {},
   "source": [
    "## A. Implement Feature Creating Functions"
   ]
  },
  {
   "cell_type": "markdown",
   "metadata": {},
   "source": [
    "#### 1. Ngram & Punctuation"
   ]
  },
  {
   "cell_type": "code",
   "execution_count": 20,
   "metadata": {},
   "outputs": [
    {
     "name": "stdout",
     "output_type": "stream",
     "text": [
      "Traing data info:\n",
      "- Vocabulary len: 98647\n",
      "- Longest phrase: 3333333333333333333333333333333333333 triplets\n",
      "- Smallest 10 phrases: ['?', ',', '.', ':', \"'\", '(', ')', '!', '\"', 'in']\n",
      "- Sample of features: ['!' '! !' '! \"' ... 'zwang ,' 'über' 'über talented']\n"
     ]
    }
   ],
   "source": [
    "train_data_vectorized, test_data_vectorized = tfidf_vectorizer_custom(\n",
    "    train_data['news_all'], test_data['news_all'], ngram_range = (1,2))"
   ]
  },
  {
   "cell_type": "markdown",
   "metadata": {},
   "source": [
    "#### 2. Psycholinguistic features"
   ]
  },
  {
   "cell_type": "code",
   "execution_count": 21,
   "metadata": {},
   "outputs": [],
   "source": [
    "train_data_LIWC = LIWC_counter(train_data, train_LIWC, train_LIWC)\n",
    "test_data_LIWC = LIWC_counter(test_data, test_LIWC, train_LIWC)"
   ]
  },
  {
   "cell_type": "markdown",
   "metadata": {},
   "source": [
    "### 3. Readability"
   ]
  },
  {
   "cell_type": "code",
   "execution_count": 22,
   "metadata": {},
   "outputs": [],
   "source": [
    "train_data_readability = readability_enricher(train_data)\n",
    "test_data_readability = readability_enricher(test_data)"
   ]
  },
  {
   "cell_type": "markdown",
   "metadata": {},
   "source": [
    "### 4. Syntax"
   ]
  },
  {
   "cell_type": "code",
   "execution_count": 23,
   "metadata": {},
   "outputs": [
    {
     "name": "stdout",
     "output_type": "stream",
     "text": [
      "Traing data info:\n",
      "- Vocabulary len: 1581\n",
      "- Longest phrase: vbz vbn prp\n",
      "- Smallest 10 phrases: [\"'\", 'nn', 'cc', 'md', 'vb', 'rb', 'in', 'jj', 'to', 'dt']\n",
      "- Sample of features: [\"'\" \"' '\" \"' ' cc\" ... 'wrb prp vbz' 'wrb to' 'wrb to vb']\n",
      "Traing data info:\n",
      "- Vocabulary len: 7852\n",
      "- Longest phrase: vbz prp nns\n",
      "- Smallest 10 phrases: [\"'\", 'cd', 'to', 'jj', 'nn', 'in', 'dt', 'cc', 'rb', 'vb']\n",
      "- Sample of features: [\"'\" \"' '\" \"' ' cc\" ... 'wrb vbz vbn' 'wrb wrb' 'wrb wrb prp']\n"
     ]
    }
   ],
   "source": [
    "train_POS_init = POS_enricher(train_data)\n",
    "test_POS_init = POS_enricher(test_data)\n",
    "\n",
    "POS_headline_train_data_vectorized, POS_headline_test_data_vectorized = tfidf_vectorizer_custom(\n",
    "    train_POS_init['news_headline_POS'], test_POS_init['news_headline_POS'], ngram_range = (1,3))\n",
    "\n",
    "POS_content_train_data_vectorized, POS_content_test_data_vectorized = tfidf_vectorizer_custom(\n",
    "    train_POS_init['news_content_POS'], test_POS_init['news_content_POS'], ngram_range = (1,3))\n",
    "\n",
    "train_POS = hstack([POS_headline_train_data_vectorized, POS_content_train_data_vectorized])\n",
    "test_POS = hstack([POS_headline_test_data_vectorized, POS_content_test_data_vectorized])"
   ]
  },
  {
   "cell_type": "markdown",
   "metadata": {},
   "source": [
    "### B. Unify All Features in Single Dataset"
   ]
  },
  {
   "cell_type": "code",
   "execution_count": 45,
   "metadata": {},
   "outputs": [],
   "source": [
    "def add_feature(sparse, df_to_sparse, df_ignore):\n",
    "    \"\"\"\n",
    "    Returns sparse feature matrix with added feature.\n",
    "    \"\"\"\n",
    "    return hstack([coo_matrix(df_to_sparse.drop(df_ignore.columns.values, axis = 1)),sparse])\n",
    "\n",
    "def add_categorical_feature(train_sparse, test_sparse, train_data, test_data, categorical_column):\n",
    "    \"\"\"\n",
    "    Returns sparse feature matrix with added feature by creating a countvectorizer of feature.\n",
    "    \"\"\"\n",
    "    vectorizer = CountVectorizer()\n",
    "    vectorizer.fit(train_data[categorical_column])\n",
    "    #print(vectorizer.get_feature_names())\n",
    "    train_category_vec = vectorizer.transform(train_data[categorical_column])\n",
    "    test_category_vec  = vectorizer.transform(test_data[categorical_column])\n",
    "    train_final = hstack([train_sparse, train_category_vec])\n",
    "    test_final =  hstack([test_sparse, test_category_vec])\n",
    "    return train_final, test_final"
   ]
  },
  {
   "cell_type": "code",
   "execution_count": 20,
   "metadata": {},
   "outputs": [
    {
     "data": {
      "text/plain": [
       "array(['dataset_name', 'news_all', 'news_category', 'news_content',\n",
       "       'news_headline', 'news_all_clean'], dtype=object)"
      ]
     },
     "execution_count": 20,
     "metadata": {},
     "output_type": "execute_result"
    }
   ],
   "source": [
    "#x = train_data_readability.drop([\"text_standard\"],axis = 1)\n",
    "train_data.columns.values"
   ]
  },
  {
   "cell_type": "code",
   "execution_count": 47,
   "metadata": {},
   "outputs": [
    {
     "ename": "KeyError",
     "evalue": "\"['actual'] not found in axis\"",
     "output_type": "error",
     "traceback": [
      "\u001b[0;31m---------------------------------------------------------------------------\u001b[0m",
      "\u001b[0;31mKeyError\u001b[0m                                  Traceback (most recent call last)",
      "\u001b[0;32m<ipython-input-47-4e3f29bee411>\u001b[0m in \u001b[0;36m<module>\u001b[0;34m()\u001b[0m\n\u001b[1;32m      1\u001b[0m \u001b[0;31m#1. Combine ngram and LIWC\u001b[0m\u001b[0;34m\u001b[0m\u001b[0;34m\u001b[0m\u001b[0m\n\u001b[1;32m      2\u001b[0m \u001b[0mtrain_ngram_LIWC\u001b[0m \u001b[0;34m=\u001b[0m \u001b[0madd_feature\u001b[0m\u001b[0;34m(\u001b[0m\u001b[0mtrain_data_vectorized\u001b[0m\u001b[0;34m,\u001b[0m \u001b[0mtrain_data_LIWC\u001b[0m\u001b[0;34m,\u001b[0m \u001b[0mtrain_data\u001b[0m\u001b[0;34m)\u001b[0m\u001b[0;34m\u001b[0m\u001b[0m\n\u001b[0;32m----> 3\u001b[0;31m \u001b[0mtest_ngram_LIWC\u001b[0m \u001b[0;34m=\u001b[0m \u001b[0madd_feature\u001b[0m\u001b[0;34m(\u001b[0m\u001b[0mtest_data_vectorized\u001b[0m\u001b[0;34m,\u001b[0m \u001b[0mtest_data_LIWC\u001b[0m\u001b[0;34m,\u001b[0m \u001b[0mtest_data\u001b[0m\u001b[0;34m)\u001b[0m\u001b[0;34m\u001b[0m\u001b[0m\n\u001b[0m\u001b[1;32m      4\u001b[0m \u001b[0;34m\u001b[0m\u001b[0m\n\u001b[1;32m      5\u001b[0m \u001b[0;31m#2. Combine readability with ngram and LIWC\u001b[0m\u001b[0;34m\u001b[0m\u001b[0;34m\u001b[0m\u001b[0m\n",
      "\u001b[0;32m<ipython-input-45-8dbac6538d1e>\u001b[0m in \u001b[0;36madd_feature\u001b[0;34m(sparse, df_to_sparse, df_ignore)\u001b[0m\n\u001b[1;32m      3\u001b[0m     \u001b[0mReturns\u001b[0m \u001b[0msparse\u001b[0m \u001b[0mfeature\u001b[0m \u001b[0mmatrix\u001b[0m \u001b[0;32mwith\u001b[0m \u001b[0madded\u001b[0m \u001b[0mfeature\u001b[0m\u001b[0;34m.\u001b[0m\u001b[0;34m\u001b[0m\u001b[0m\n\u001b[1;32m      4\u001b[0m     \"\"\"\n\u001b[0;32m----> 5\u001b[0;31m     \u001b[0;32mreturn\u001b[0m \u001b[0mhstack\u001b[0m\u001b[0;34m(\u001b[0m\u001b[0;34m[\u001b[0m\u001b[0mcoo_matrix\u001b[0m\u001b[0;34m(\u001b[0m\u001b[0mdf_to_sparse\u001b[0m\u001b[0;34m.\u001b[0m\u001b[0mdrop\u001b[0m\u001b[0;34m(\u001b[0m\u001b[0mdf_ignore\u001b[0m\u001b[0;34m.\u001b[0m\u001b[0mcolumns\u001b[0m\u001b[0;34m.\u001b[0m\u001b[0mvalues\u001b[0m\u001b[0;34m,\u001b[0m \u001b[0maxis\u001b[0m \u001b[0;34m=\u001b[0m \u001b[0;36m1\u001b[0m\u001b[0;34m)\u001b[0m\u001b[0;34m)\u001b[0m\u001b[0;34m,\u001b[0m\u001b[0msparse\u001b[0m\u001b[0;34m]\u001b[0m\u001b[0;34m)\u001b[0m\u001b[0;34m\u001b[0m\u001b[0m\n\u001b[0m\u001b[1;32m      6\u001b[0m \u001b[0;34m\u001b[0m\u001b[0m\n\u001b[1;32m      7\u001b[0m \u001b[0;32mdef\u001b[0m \u001b[0madd_categorical_feature\u001b[0m\u001b[0;34m(\u001b[0m\u001b[0mtrain_sparse\u001b[0m\u001b[0;34m,\u001b[0m \u001b[0mtest_sparse\u001b[0m\u001b[0;34m,\u001b[0m \u001b[0mtrain_data\u001b[0m\u001b[0;34m,\u001b[0m \u001b[0mtest_data\u001b[0m\u001b[0;34m,\u001b[0m \u001b[0mcategorical_column\u001b[0m\u001b[0;34m)\u001b[0m\u001b[0;34m:\u001b[0m\u001b[0;34m\u001b[0m\u001b[0m\n",
      "\u001b[0;32m/anaconda3/lib/python3.6/site-packages/pandas/core/frame.py\u001b[0m in \u001b[0;36mdrop\u001b[0;34m(self, labels, axis, index, columns, level, inplace, errors)\u001b[0m\n\u001b[1;32m   3695\u001b[0m                                            \u001b[0mindex\u001b[0m\u001b[0;34m=\u001b[0m\u001b[0mindex\u001b[0m\u001b[0;34m,\u001b[0m \u001b[0mcolumns\u001b[0m\u001b[0;34m=\u001b[0m\u001b[0mcolumns\u001b[0m\u001b[0;34m,\u001b[0m\u001b[0;34m\u001b[0m\u001b[0m\n\u001b[1;32m   3696\u001b[0m                                            \u001b[0mlevel\u001b[0m\u001b[0;34m=\u001b[0m\u001b[0mlevel\u001b[0m\u001b[0;34m,\u001b[0m \u001b[0minplace\u001b[0m\u001b[0;34m=\u001b[0m\u001b[0minplace\u001b[0m\u001b[0;34m,\u001b[0m\u001b[0;34m\u001b[0m\u001b[0m\n\u001b[0;32m-> 3697\u001b[0;31m                                            errors=errors)\n\u001b[0m\u001b[1;32m   3698\u001b[0m \u001b[0;34m\u001b[0m\u001b[0m\n\u001b[1;32m   3699\u001b[0m     @rewrite_axis_style_signature('mapper', [('copy', True),\n",
      "\u001b[0;32m/anaconda3/lib/python3.6/site-packages/pandas/core/generic.py\u001b[0m in \u001b[0;36mdrop\u001b[0;34m(self, labels, axis, index, columns, level, inplace, errors)\u001b[0m\n\u001b[1;32m   3109\u001b[0m         \u001b[0;32mfor\u001b[0m \u001b[0maxis\u001b[0m\u001b[0;34m,\u001b[0m \u001b[0mlabels\u001b[0m \u001b[0;32min\u001b[0m \u001b[0maxes\u001b[0m\u001b[0;34m.\u001b[0m\u001b[0mitems\u001b[0m\u001b[0;34m(\u001b[0m\u001b[0;34m)\u001b[0m\u001b[0;34m:\u001b[0m\u001b[0;34m\u001b[0m\u001b[0m\n\u001b[1;32m   3110\u001b[0m             \u001b[0;32mif\u001b[0m \u001b[0mlabels\u001b[0m \u001b[0;32mis\u001b[0m \u001b[0;32mnot\u001b[0m \u001b[0;32mNone\u001b[0m\u001b[0;34m:\u001b[0m\u001b[0;34m\u001b[0m\u001b[0m\n\u001b[0;32m-> 3111\u001b[0;31m                 \u001b[0mobj\u001b[0m \u001b[0;34m=\u001b[0m \u001b[0mobj\u001b[0m\u001b[0;34m.\u001b[0m\u001b[0m_drop_axis\u001b[0m\u001b[0;34m(\u001b[0m\u001b[0mlabels\u001b[0m\u001b[0;34m,\u001b[0m \u001b[0maxis\u001b[0m\u001b[0;34m,\u001b[0m \u001b[0mlevel\u001b[0m\u001b[0;34m=\u001b[0m\u001b[0mlevel\u001b[0m\u001b[0;34m,\u001b[0m \u001b[0merrors\u001b[0m\u001b[0;34m=\u001b[0m\u001b[0merrors\u001b[0m\u001b[0;34m)\u001b[0m\u001b[0;34m\u001b[0m\u001b[0m\n\u001b[0m\u001b[1;32m   3112\u001b[0m \u001b[0;34m\u001b[0m\u001b[0m\n\u001b[1;32m   3113\u001b[0m         \u001b[0;32mif\u001b[0m \u001b[0minplace\u001b[0m\u001b[0;34m:\u001b[0m\u001b[0;34m\u001b[0m\u001b[0m\n",
      "\u001b[0;32m/anaconda3/lib/python3.6/site-packages/pandas/core/generic.py\u001b[0m in \u001b[0;36m_drop_axis\u001b[0;34m(self, labels, axis, level, errors)\u001b[0m\n\u001b[1;32m   3141\u001b[0m                 \u001b[0mnew_axis\u001b[0m \u001b[0;34m=\u001b[0m \u001b[0maxis\u001b[0m\u001b[0;34m.\u001b[0m\u001b[0mdrop\u001b[0m\u001b[0;34m(\u001b[0m\u001b[0mlabels\u001b[0m\u001b[0;34m,\u001b[0m \u001b[0mlevel\u001b[0m\u001b[0;34m=\u001b[0m\u001b[0mlevel\u001b[0m\u001b[0;34m,\u001b[0m \u001b[0merrors\u001b[0m\u001b[0;34m=\u001b[0m\u001b[0merrors\u001b[0m\u001b[0;34m)\u001b[0m\u001b[0;34m\u001b[0m\u001b[0m\n\u001b[1;32m   3142\u001b[0m             \u001b[0;32melse\u001b[0m\u001b[0;34m:\u001b[0m\u001b[0;34m\u001b[0m\u001b[0m\n\u001b[0;32m-> 3143\u001b[0;31m                 \u001b[0mnew_axis\u001b[0m \u001b[0;34m=\u001b[0m \u001b[0maxis\u001b[0m\u001b[0;34m.\u001b[0m\u001b[0mdrop\u001b[0m\u001b[0;34m(\u001b[0m\u001b[0mlabels\u001b[0m\u001b[0;34m,\u001b[0m \u001b[0merrors\u001b[0m\u001b[0;34m=\u001b[0m\u001b[0merrors\u001b[0m\u001b[0;34m)\u001b[0m\u001b[0;34m\u001b[0m\u001b[0m\n\u001b[0m\u001b[1;32m   3144\u001b[0m             \u001b[0mresult\u001b[0m \u001b[0;34m=\u001b[0m \u001b[0mself\u001b[0m\u001b[0;34m.\u001b[0m\u001b[0mreindex\u001b[0m\u001b[0;34m(\u001b[0m\u001b[0;34m**\u001b[0m\u001b[0;34m{\u001b[0m\u001b[0maxis_name\u001b[0m\u001b[0;34m:\u001b[0m \u001b[0mnew_axis\u001b[0m\u001b[0;34m}\u001b[0m\u001b[0;34m)\u001b[0m\u001b[0;34m\u001b[0m\u001b[0m\n\u001b[1;32m   3145\u001b[0m \u001b[0;34m\u001b[0m\u001b[0m\n",
      "\u001b[0;32m/anaconda3/lib/python3.6/site-packages/pandas/core/indexes/base.py\u001b[0m in \u001b[0;36mdrop\u001b[0;34m(self, labels, errors)\u001b[0m\n\u001b[1;32m   4402\u001b[0m             \u001b[0;32mif\u001b[0m \u001b[0merrors\u001b[0m \u001b[0;34m!=\u001b[0m \u001b[0;34m'ignore'\u001b[0m\u001b[0;34m:\u001b[0m\u001b[0;34m\u001b[0m\u001b[0m\n\u001b[1;32m   4403\u001b[0m                 raise KeyError(\n\u001b[0;32m-> 4404\u001b[0;31m                     '{} not found in axis'.format(labels[mask]))\n\u001b[0m\u001b[1;32m   4405\u001b[0m             \u001b[0mindexer\u001b[0m \u001b[0;34m=\u001b[0m \u001b[0mindexer\u001b[0m\u001b[0;34m[\u001b[0m\u001b[0;34m~\u001b[0m\u001b[0mmask\u001b[0m\u001b[0;34m]\u001b[0m\u001b[0;34m\u001b[0m\u001b[0m\n\u001b[1;32m   4406\u001b[0m         \u001b[0;32mreturn\u001b[0m \u001b[0mself\u001b[0m\u001b[0;34m.\u001b[0m\u001b[0mdelete\u001b[0m\u001b[0;34m(\u001b[0m\u001b[0mindexer\u001b[0m\u001b[0;34m)\u001b[0m\u001b[0;34m\u001b[0m\u001b[0m\n",
      "\u001b[0;31mKeyError\u001b[0m: \"['actual'] not found in axis\""
     ]
    }
   ],
   "source": [
    "#1. Combine ngram and LIWC\n",
    "train_ngram_LIWC = add_feature(train_data_vectorized, train_data_LIWC, train_data)\n",
    "test_ngram_LIWC = add_feature(test_data_vectorized, test_data_LIWC, test_data)\n",
    "\n",
    "#2. Combine readability with ngram and LIWC\n",
    "train_ngram_LIWC_read = add_feature(train_ngram_LIWC, train_data_readability.drop([\"text_standard\"],axis = 1), train_data)\n",
    "test_ngram_LIWC_read = add_feature(test_ngram_LIWC, test_data_readability.drop([\"text_standard\"],axis = 1), test_data)\n",
    "train_ngram_LIWC_read, test_ngram_LIWC_read = add_categorical_feature(\n",
    "    train_ngram_LIWC_read, test_ngram_LIWC_read, train_data_readability, test_data_readability, \"text_standard\")\n",
    "\n",
    "#3. Combine syntax with readability, ngram, and LIWC\n",
    "train_allfeats = hstack([train_ngram_LIWC_read, train_POS])\n",
    "test_allfeats = hstack([test_ngram_LIWC_read, test_POS])\n",
    "\n",
    "#5. Add news category\n",
    "train_final, test_final = add_categorical_feature(train_ngram_LIWC_read, test_ngram_LIWC_read, \n",
    "                                                  train_data, test_data, \"dataset_name\")"
   ]
  },
  {
   "cell_type": "code",
   "execution_count": 44,
   "metadata": {},
   "outputs": [
    {
     "name": "stdout",
     "output_type": "stream",
     "text": [
      "train_ngram_LIWC (400, 98720)\n",
      "train_ngram_LIWC_read (400, 98801)\n",
      "train_allfeats (400, 108234)\n",
      "train_final (400, 98802)\n"
     ]
    }
   ],
   "source": [
    "print(\"train_ngram_LIWC\", train_ngram_LIWC.shape)\n",
    "print(\"train_ngram_LIWC_read\", train_ngram_LIWC_read.shape)\n",
    "print(\"train_allfeats\", train_allfeats.shape)\n",
    "print(\"train_final\", train_final.shape)"
   ]
  },
  {
   "cell_type": "markdown",
   "metadata": {},
   "source": [
    "## V. Classification Models with Automated Machine Learning (TPOT)"
   ]
  },
  {
   "cell_type": "markdown",
   "metadata": {},
   "source": [
    "#### 1. Run TPOT Optimizer"
   ]
  },
  {
   "cell_type": "code",
   "execution_count": 29,
   "metadata": {},
   "outputs": [
    {
     "name": "stderr",
     "output_type": "stream",
     "text": [
      "\r",
      "Optimization Progress:   0%|          | 0/330 [00:00<?, ?pipeline/s]\r",
      "Optimization Progress:   0%|          | 1/330 [00:04<24:46,  4.52s/pipeline]\r",
      "Optimization Progress:   1%|          | 2/330 [00:23<48:30,  8.87s/pipeline]\r",
      "Optimization Progress:   2%|▏         | 5/330 [00:23<33:44,  6.23s/pipeline]\r",
      "Optimization Progress:   2%|▏         | 8/330 [00:24<23:38,  4.40s/pipeline]\r",
      "Optimization Progress:   3%|▎         | 9/330 [03:30<5:15:42, 59.01s/pipeline]\r",
      "Optimization Progress:   3%|▎         | 10/330 [03:53<4:16:58, 48.18s/pipeline]\r",
      "Optimization Progress:   3%|▎         | 11/330 [04:10<3:26:15, 38.79s/pipeline]\r",
      "Optimization Progress:   4%|▎         | 12/330 [04:18<2:36:04, 29.45s/pipeline]\r",
      "Optimization Progress:   4%|▍         | 14/330 [04:22<1:52:24, 21.34s/pipeline]\r",
      "Optimization Progress:   5%|▍         | 15/330 [04:24<1:20:15, 15.29s/pipeline]\r",
      "Optimization Progress:   5%|▌         | 17/330 [04:25<56:49, 10.89s/pipeline]  \r",
      "Optimization Progress:   5%|▌         | 18/330 [04:28<44:28,  8.55s/pipeline]\r",
      "Optimization Progress:   6%|▌         | 20/330 [04:28<31:03,  6.01s/pipeline]\r",
      "Optimization Progress:   6%|▋         | 21/330 [04:28<22:02,  4.28s/pipeline]\r",
      "Optimization Progress:   7%|▋         | 22/330 [04:45<40:40,  7.93s/pipeline]\r",
      "Optimization Progress:   7%|▋         | 24/330 [04:54<35:27,  6.95s/pipeline]\r",
      "Optimization Progress:   8%|▊         | 25/330 [04:58<31:19,  6.16s/pipeline]\r",
      "Optimization Progress:   8%|▊         | 26/330 [05:54<1:46:31, 21.02s/pipeline]\r",
      "Optimization Progress:   8%|▊         | 27/330 [05:54<1:14:33, 14.77s/pipeline]\r",
      "Optimization Progress:   9%|▉         | 29/330 [05:57<54:01, 10.77s/pipeline]  \r",
      "Optimization Progress:   9%|▉         | 30/330 [07:57<3:37:47, 43.56s/pipeline]\r",
      "Optimization Progress:  10%|▉         | 32/330 [07:58<2:32:07, 30.63s/pipeline]\r",
      "Optimization Progress:  10%|█         | 33/330 [07:58<1:46:18, 21.48s/pipeline]\r",
      "Optimization Progress:  10%|█         | 34/330 [07:59<1:15:09, 15.24s/pipeline]\r",
      "Optimization Progress:  11%|█         | 36/330 [07:59<52:20, 10.68s/pipeline]  \r",
      "Optimization Progress:  11%|█         | 37/330 [08:00<37:28,  7.68s/pipeline]\r",
      "Optimization Progress:  12%|█▏        | 38/330 [08:46<1:34:16, 19.37s/pipeline]\r",
      "Optimization Progress:  12%|█▏        | 40/330 [08:57<1:12:51, 15.08s/pipeline]\r",
      "Optimization Progress:  12%|█▏        | 41/330 [08:57<51:48, 10.76s/pipeline]  \r",
      "Optimization Progress:  13%|█▎        | 43/330 [09:09<44:36,  9.32s/pipeline]\r",
      "Optimization Progress:  13%|█▎        | 44/330 [09:40<1:15:31, 15.85s/pipeline]\r",
      "Optimization Progress:  14%|█▎        | 45/330 [09:40<53:00, 11.16s/pipeline]  \r",
      "Optimization Progress:  14%|█▍        | 46/330 [09:41<37:44,  7.97s/pipeline]\r",
      "Optimization Progress:  15%|█▍        | 48/330 [11:42<1:51:11, 23.66s/pipeline]\r",
      "Optimization Progress:  15%|█▍        | 49/330 [11:51<1:31:05, 19.45s/pipeline]\r",
      "Optimization Progress:  16%|█▌        | 53/330 [11:51<1:02:55, 13.63s/pipeline]\r",
      "Optimization Progress:  17%|█▋        | 56/330 [12:06<50:29, 11.06s/pipeline]  \r",
      "Optimization Progress:  17%|█▋        | 57/330 [12:08<36:51,  8.10s/pipeline]\r",
      "Optimization Progress:  18%|█▊        | 58/330 [12:16<36:58,  8.16s/pipeline]\r",
      "Optimization Progress:  18%|█▊        | 59/330 [12:17<26:47,  5.93s/pipeline]\r",
      "                                                                             \r",
      "\r",
      "Optimization Progress:  18%|█▊        | 60/330 [12:17<26:41,  5.93s/pipeline]"
     ]
    },
    {
     "name": "stdout",
     "output_type": "stream",
     "text": [
      "Generation 1 - Current best internal CV score: 0.81245507110486\n"
     ]
    },
    {
     "name": "stderr",
     "output_type": "stream",
     "text": [
      "\r",
      "Optimization Progress:  18%|█▊        | 60/330 [12:18<20:09,  4.48s/pipeline]\r",
      "Optimization Progress:  19%|█▉        | 62/330 [12:19<14:30,  3.25s/pipeline]\r",
      "Optimization Progress:  19%|█▉        | 63/330 [12:20<11:37,  2.61s/pipeline]\r",
      "Optimization Progress:  19%|█▉        | 64/330 [12:20<08:59,  2.03s/pipeline]\r",
      "Optimization Progress:  20%|██        | 66/330 [12:47<24:06,  5.48s/pipeline]\r",
      "Optimization Progress:  21%|██        | 69/330 [12:48<16:46,  3.86s/pipeline]\r",
      "Optimization Progress:  21%|██        | 70/330 [13:00<27:44,  6.40s/pipeline]\r",
      "Optimization Progress:  22%|██▏       | 71/330 [13:19<43:51, 10.16s/pipeline]\r",
      "Optimization Progress:  22%|██▏       | 72/330 [13:22<35:00,  8.14s/pipeline]\r",
      "Optimization Progress:  23%|██▎       | 75/330 [16:02<1:32:03, 21.66s/pipeline]\r",
      "Optimization Progress:  23%|██▎       | 76/330 [16:02<1:04:22, 15.21s/pipeline]\r",
      "Optimization Progress:  23%|██▎       | 77/330 [16:03<46:20, 10.99s/pipeline]  \r",
      "Optimization Progress:  24%|██▎       | 78/330 [16:04<33:48,  8.05s/pipeline]\r",
      "Optimization Progress:  24%|██▍       | 79/330 [16:05<24:23,  5.83s/pipeline]\r",
      "Optimization Progress:  24%|██▍       | 80/330 [16:06<17:53,  4.29s/pipeline]\r",
      "Optimization Progress:  25%|██▍       | 81/330 [16:18<27:54,  6.73s/pipeline]\r",
      "Optimization Progress:  25%|██▍       | 82/330 [16:19<19:54,  4.82s/pipeline]\r",
      "Optimization Progress:  25%|██▌       | 83/330 [16:19<14:20,  3.48s/pipeline]\r",
      "Optimization Progress:  25%|██▌       | 84/330 [16:23<15:17,  3.73s/pipeline]\r",
      "Optimization Progress:  26%|██▌       | 86/330 [16:23<10:42,  2.63s/pipeline]\r",
      "Optimization Progress:  26%|██▋       | 87/330 [16:24<07:40,  1.89s/pipeline]\r",
      "Optimization Progress:  27%|██▋       | 88/330 [16:24<05:35,  1.38s/pipeline]\r",
      "Optimization Progress:  27%|██▋       | 90/330 [16:25<04:34,  1.15s/pipeline]\r",
      "                                                                             \r",
      "\r",
      "Optimization Progress:  27%|██▋       | 90/330 [16:25<04:34,  1.15s/pipeline]"
     ]
    },
    {
     "name": "stdout",
     "output_type": "stream",
     "text": [
      "Generation 2 - Current best internal CV score: 0.81245507110486\n"
     ]
    },
    {
     "name": "stderr",
     "output_type": "stream",
     "text": [
      "\r",
      "Optimization Progress:  28%|██▊       | 91/330 [16:28<06:28,  1.62s/pipeline]\r",
      "Optimization Progress:  28%|██▊       | 92/330 [16:29<05:53,  1.48s/pipeline]\r",
      "Optimization Progress:  28%|██▊       | 93/330 [16:30<05:35,  1.42s/pipeline]\r",
      "Optimization Progress:  29%|██▉       | 95/330 [16:31<04:39,  1.19s/pipeline]\r",
      "Optimization Progress:  29%|██▉       | 96/330 [16:51<26:14,  6.73s/pipeline]\r",
      "Optimization Progress:  29%|██▉       | 97/330 [17:35<1:09:32, 17.91s/pipeline]\r",
      "Optimization Progress:  30%|██▉       | 98/330 [18:22<1:42:26, 26.49s/pipeline]\r",
      "Optimization Progress:  30%|███       | 99/330 [18:58<1:53:31, 29.49s/pipeline]\r",
      "Optimization Progress:  30%|███       | 100/330 [18:58<1:19:16, 20.68s/pipeline]\r",
      "Optimization Progress:  31%|███       | 101/330 [19:43<1:46:43, 27.96s/pipeline]\r",
      "Optimization Progress:  31%|███       | 102/330 [19:44<1:15:52, 19.97s/pipeline]\r",
      "Optimization Progress:  31%|███       | 103/330 [19:47<55:24, 14.65s/pipeline]  \r",
      "Optimization Progress:  32%|███▏      | 106/330 [19:47<38:34, 10.33s/pipeline]\r",
      "Optimization Progress:  32%|███▏      | 107/330 [20:01<41:44, 11.23s/pipeline]\r",
      "Optimization Progress:  33%|███▎      | 108/330 [20:02<30:21,  8.21s/pipeline]\r",
      "Optimization Progress:  33%|███▎      | 109/330 [20:03<21:54,  5.95s/pipeline]\r",
      "Optimization Progress:  33%|███▎      | 110/330 [20:03<16:00,  4.37s/pipeline]\r",
      "Optimization Progress:  34%|███▎      | 111/330 [20:04<11:56,  3.27s/pipeline]\r",
      "Optimization Progress:  34%|███▍      | 112/330 [20:41<48:13, 13.27s/pipeline]\r",
      "Optimization Progress:  35%|███▍      | 114/330 [20:51<38:57, 10.82s/pipeline]\r",
      "Optimization Progress:  35%|███▍      | 115/330 [21:16<54:18, 15.16s/pipeline]\r",
      "Optimization Progress:  35%|███▌      | 116/330 [23:18<2:48:25, 47.22s/pipeline]\r",
      "Optimization Progress:  35%|███▌      | 117/330 [23:19<1:58:04, 33.26s/pipeline]\r",
      "Optimization Progress:  36%|███▌      | 118/330 [23:20<1:23:37, 23.67s/pipeline]\r",
      "Optimization Progress:  36%|███▌      | 119/330 [23:28<1:06:29, 18.91s/pipeline]\r",
      "                                                                                \r",
      "\r",
      "Optimization Progress:  36%|███▋      | 120/330 [23:28<1:06:10, 18.91s/pipeline]"
     ]
    },
    {
     "name": "stdout",
     "output_type": "stream",
     "text": [
      "Generation 3 - Current best internal CV score: 0.81245507110486\n"
     ]
    },
    {
     "name": "stderr",
     "output_type": "stream",
     "text": [
      "\r",
      "Optimization Progress:  36%|███▋      | 120/330 [23:29<47:04, 13.45s/pipeline]  \r",
      "Optimization Progress:  37%|███▋      | 121/330 [23:30<33:53,  9.73s/pipeline]\r",
      "Optimization Progress:  37%|███▋      | 122/330 [23:46<40:43, 11.75s/pipeline]\r",
      "Optimization Progress:  37%|███▋      | 123/330 [24:28<1:11:46, 20.80s/pipeline]\r",
      "Optimization Progress:  38%|███▊      | 124/330 [24:29<51:14, 14.92s/pipeline]  \r",
      "Optimization Progress:  38%|███▊      | 125/330 [26:17<2:25:53, 42.70s/pipeline]\r",
      "Optimization Progress:  38%|███▊      | 126/330 [28:33<4:00:22, 70.70s/pipeline]\r",
      "Optimization Progress:  38%|███▊      | 127/330 [29:32<3:47:34, 67.26s/pipeline]\r",
      "Optimization Progress:  39%|███▉      | 128/330 [29:33<2:39:42, 47.44s/pipeline]\r",
      "Optimization Progress:  39%|███▉      | 129/330 [29:48<2:06:18, 37.71s/pipeline]\r",
      "Optimization Progress:  39%|███▉      | 130/330 [29:49<1:28:41, 26.61s/pipeline]\r",
      "Optimization Progress:  40%|███▉      | 131/330 [29:50<1:02:53, 18.96s/pipeline]\r",
      "Optimization Progress:  40%|████      | 132/330 [29:51<44:24, 13.46s/pipeline]  \r",
      "Optimization Progress:  40%|████      | 133/330 [30:05<45:00, 13.71s/pipeline]\r",
      "Optimization Progress:  41%|████      | 134/330 [31:16<1:41:06, 30.95s/pipeline]\r",
      "Optimization Progress:  41%|████      | 135/330 [33:46<3:36:23, 66.58s/pipeline]\r",
      "Optimization Progress:  41%|████      | 136/330 [34:04<2:48:15, 52.04s/pipeline]\r",
      "Optimization Progress:  42%|████▏     | 137/330 [34:15<2:07:19, 39.58s/pipeline]\r",
      "Optimization Progress:  42%|████▏     | 138/330 [34:24<1:37:47, 30.56s/pipeline]\r",
      "Optimization Progress:  42%|████▏     | 139/330 [34:43<1:26:00, 27.02s/pipeline]\r",
      "Optimization Progress:  42%|████▏     | 140/330 [36:44<2:55:25, 55.40s/pipeline]\r",
      "Optimization Progress:  43%|████▎     | 141/330 [36:46<2:03:14, 39.12s/pipeline]\r",
      "Optimization Progress:  43%|████▎     | 142/330 [36:58<1:37:20, 31.07s/pipeline]\r",
      "Optimization Progress:  43%|████▎     | 143/330 [36:58<1:08:00, 21.82s/pipeline]\r",
      "Optimization Progress:  44%|████▎     | 144/330 [37:01<50:09, 16.18s/pipeline]  \r",
      "Optimization Progress:  44%|████▍     | 146/330 [37:04<36:03, 11.76s/pipeline]\r",
      "Optimization Progress:  45%|████▍     | 147/330 [38:03<1:19:23, 26.03s/pipeline]\r",
      "Optimization Progress:  45%|████▍     | 148/330 [41:11<3:46:13, 74.58s/pipeline]\r",
      "Optimization Progress:  45%|████▌     | 150/330 [41:19<2:40:11, 53.39s/pipeline]\r",
      "                                                                                \r",
      "\r",
      "Optimization Progress:  45%|████▌     | 150/330 [41:19<2:40:11, 53.39s/pipeline]"
     ]
    },
    {
     "name": "stdout",
     "output_type": "stream",
     "text": [
      "Generation 4 - Current best internal CV score: 0.81245507110486\n"
     ]
    },
    {
     "name": "stderr",
     "output_type": "stream",
     "text": [
      "\r",
      "Optimization Progress:  46%|████▌     | 151/330 [41:57<2:25:34, 48.79s/pipeline]\r",
      "Optimization Progress:  46%|████▌     | 152/330 [42:18<1:59:48, 40.38s/pipeline]\r",
      "Optimization Progress:  46%|████▋     | 153/330 [42:18<1:23:49, 28.41s/pipeline]\r",
      "Optimization Progress:  47%|████▋     | 154/330 [42:24<1:03:13, 21.55s/pipeline]\r",
      "Optimization Progress:  47%|████▋     | 155/330 [43:09<1:23:28, 28.62s/pipeline]\r",
      "Optimization Progress:  47%|████▋     | 156/330 [43:17<1:05:01, 22.42s/pipeline]\r",
      "Optimization Progress:  48%|████▊     | 158/330 [43:17<45:04, 15.73s/pipeline]  \r",
      "Optimization Progress:  48%|████▊     | 159/330 [43:51<59:57, 21.04s/pipeline]\r",
      "Optimization Progress:  49%|████▉     | 161/330 [44:13<51:06, 18.15s/pipeline]\r",
      "Optimization Progress:  49%|████▉     | 162/330 [44:26<46:11, 16.49s/pipeline]\r",
      "Optimization Progress:  49%|████▉     | 163/330 [44:38<41:48, 15.02s/pipeline]\r",
      "Optimization Progress:  50%|█████     | 165/330 [44:39<29:28, 10.72s/pipeline]\r",
      "Optimization Progress:  50%|█████     | 166/330 [45:44<1:13:40, 26.96s/pipeline]\r",
      "Optimization Progress:  51%|█████     | 167/330 [45:45<51:50, 19.08s/pipeline]  \r",
      "Optimization Progress:  51%|█████     | 168/330 [45:58<47:01, 17.42s/pipeline]\r",
      "Optimization Progress:  52%|█████▏    | 170/330 [46:08<36:29, 13.68s/pipeline]\r",
      "Optimization Progress:  52%|█████▏    | 171/330 [46:31<43:26, 16.39s/pipeline]\r",
      "Optimization Progress:  52%|█████▏    | 172/330 [47:44<1:28:18, 33.53s/pipeline]\r",
      "Optimization Progress:  52%|█████▏    | 173/330 [48:05<1:17:25, 29.59s/pipeline]\r",
      "Optimization Progress:  53%|█████▎    | 174/330 [48:23<1:07:53, 26.11s/pipeline]\r",
      "Optimization Progress:  53%|█████▎    | 175/330 [48:28<51:32, 19.95s/pipeline]  \r",
      "Optimization Progress:  53%|█████▎    | 176/330 [48:43<46:52, 18.26s/pipeline]\r",
      "Optimization Progress:  54%|█████▎    | 177/330 [49:22<1:02:52, 24.66s/pipeline]\r",
      "Optimization Progress:  54%|█████▍    | 178/330 [49:29<48:44, 19.24s/pipeline]  \r",
      "Optimization Progress:  55%|█████▍    | 180/330 [49:29<33:42, 13.48s/pipeline]\r",
      "                                                                              \r",
      "\r",
      "Optimization Progress:  55%|█████▍    | 180/330 [49:29<33:42, 13.48s/pipeline]"
     ]
    },
    {
     "name": "stdout",
     "output_type": "stream",
     "text": [
      "Generation 5 - Current best internal CV score: 0.81245507110486\n"
     ]
    },
    {
     "name": "stderr",
     "output_type": "stream",
     "text": [
      "\r",
      "Optimization Progress:  55%|█████▍    | 181/330 [49:32<25:37, 10.32s/pipeline]\r",
      "Optimization Progress:  55%|█████▌    | 183/330 [49:51<24:43, 10.09s/pipeline]\r",
      "Optimization Progress:  56%|█████▌    | 184/330 [50:15<34:37, 14.23s/pipeline]\r",
      "Optimization Progress:  56%|█████▌    | 185/330 [50:15<24:33, 10.16s/pipeline]\r",
      "Optimization Progress:  56%|█████▋    | 186/330 [51:47<1:22:45, 34.48s/pipeline]\r",
      "Optimization Progress:  57%|█████▋    | 187/330 [51:55<1:03:11, 26.51s/pipeline]\r",
      "Optimization Progress:  57%|█████▋    | 189/330 [52:08<48:24, 20.60s/pipeline]  \r",
      "Optimization Progress:  58%|█████▊    | 190/330 [52:25<45:07, 19.34s/pipeline]\r",
      "Optimization Progress:  58%|█████▊    | 191/330 [52:26<32:09, 13.88s/pipeline]\r",
      "Optimization Progress:  58%|█████▊    | 192/330 [53:46<1:17:42, 33.79s/pipeline]\r",
      "Optimization Progress:  58%|█████▊    | 193/330 [58:43<4:17:46, 112.89s/pipeline]\r",
      "Optimization Progress:  59%|█████▉    | 194/330 [59:04<3:12:46, 85.05s/pipeline] \r",
      "Optimization Progress:  59%|█████▉    | 195/330 [59:26<2:28:49, 66.14s/pipeline]\r",
      "Optimization Progress:  59%|█████▉    | 196/330 [59:43<1:55:15, 51.61s/pipeline]\r",
      "Optimization Progress:  60%|█████▉    | 197/330 [1:00:01<1:31:55, 41.47s/pipeline]\r",
      "Optimization Progress:  60%|██████    | 198/330 [1:01:13<1:51:18, 50.59s/pipeline]\r",
      "Optimization Progress:  60%|██████    | 199/330 [1:01:22<1:23:25, 38.21s/pipeline]\r",
      "Optimization Progress:  61%|██████    | 200/330 [1:01:49<1:15:01, 34.63s/pipeline]\r",
      "Optimization Progress:  61%|██████    | 202/330 [1:01:49<51:55, 24.34s/pipeline]  \r",
      "Optimization Progress:  62%|██████▏   | 203/330 [1:02:33<1:03:58, 30.22s/pipeline]\r",
      "Optimization Progress:  62%|██████▏   | 204/330 [1:03:15<1:10:50, 33.74s/pipeline]\r",
      "Optimization Progress:  62%|██████▏   | 205/330 [1:03:31<59:03, 28.35s/pipeline]  \r",
      "Optimization Progress:  62%|██████▏   | 206/330 [1:03:48<51:52, 25.10s/pipeline]\r",
      "Optimization Progress:  63%|██████▎   | 208/330 [1:05:27<1:05:40, 32.30s/pipeline]\r",
      "Optimization Progress:  63%|██████▎   | 209/330 [1:05:27<45:41, 22.66s/pipeline]  \r",
      "Optimization Progress:  64%|██████▎   | 210/330 [1:06:26<1:07:08, 33.57s/pipeline]\r",
      "                                                                                  \r",
      "\r",
      "Optimization Progress:  64%|██████▎   | 210/330 [1:06:26<1:07:08, 33.57s/pipeline]"
     ]
    },
    {
     "name": "stdout",
     "output_type": "stream",
     "text": [
      "Generation 6 - Current best internal CV score: 0.81245507110486\n"
     ]
    },
    {
     "name": "stderr",
     "output_type": "stream",
     "text": [
      "\r",
      "Optimization Progress:  64%|██████▍   | 211/330 [1:06:29<48:37, 24.51s/pipeline]  \r",
      "Optimization Progress:  64%|██████▍   | 212/330 [1:07:11<58:25, 29.71s/pipeline]\r",
      "Optimization Progress:  65%|██████▍   | 213/330 [1:08:22<1:22:12, 42.16s/pipeline]\r",
      "Optimization Progress:  65%|██████▍   | 214/330 [1:08:23<57:40, 29.83s/pipeline]  \r",
      "Optimization Progress:  65%|██████▌   | 215/330 [1:08:24<40:17, 21.02s/pipeline]\r",
      "Optimization Progress:  65%|██████▌   | 216/330 [1:09:07<52:28, 27.62s/pipeline]\r",
      "Optimization Progress:  66%|██████▌   | 218/330 [1:09:08<36:19, 19.46s/pipeline]\r",
      "Optimization Progress:  66%|██████▋   | 219/330 [1:09:54<50:55, 27.52s/pipeline]\r",
      "Optimization Progress:  67%|██████▋   | 220/330 [1:10:04<40:42, 22.21s/pipeline]\r",
      "Optimization Progress:  67%|██████▋   | 221/330 [1:10:40<48:17, 26.58s/pipeline]\r",
      "Optimization Progress:  67%|██████▋   | 222/330 [1:15:37<3:13:40, 107.60s/pipeline]\r",
      "Optimization Progress:  68%|██████▊   | 224/330 [1:16:43<2:30:39, 85.28s/pipeline] \r",
      "Optimization Progress:  68%|██████▊   | 226/330 [1:16:45<1:43:45, 59.86s/pipeline]\r",
      "Optimization Progress:  69%|██████▉   | 227/330 [1:16:45<1:11:59, 41.93s/pipeline]\r",
      "Optimization Progress:  69%|██████▉   | 228/330 [1:16:57<55:58, 32.92s/pipeline]  \r",
      "Optimization Progress:  69%|██████▉   | 229/330 [1:17:44<1:02:36, 37.19s/pipeline]\r",
      "Optimization Progress:  70%|███████   | 232/330 [1:21:00<1:14:39, 45.71s/pipeline]\r",
      "Optimization Progress:  71%|███████   | 233/330 [1:22:27<1:33:53, 58.08s/pipeline]\r",
      "Optimization Progress:  71%|███████   | 234/330 [1:22:47<1:14:32, 46.59s/pipeline]\r",
      "Optimization Progress:  71%|███████   | 235/330 [1:22:49<52:27, 33.13s/pipeline]  \r",
      "Optimization Progress:  72%|███████▏  | 237/330 [1:23:20<43:11, 27.87s/pipeline]\r",
      "Optimization Progress:  72%|███████▏  | 239/330 [1:23:45<35:10, 23.19s/pipeline]\r",
      "Optimization Progress:  73%|███████▎  | 240/330 [1:24:25<42:38, 28.43s/pipeline]\r",
      "                                                                                \r",
      "\r",
      "Optimization Progress:  73%|███████▎  | 240/330 [1:24:25<42:38, 28.43s/pipeline]"
     ]
    },
    {
     "name": "stdout",
     "output_type": "stream",
     "text": [
      "Generation 7 - Current best internal CV score: 0.81245507110486\n"
     ]
    },
    {
     "name": "stderr",
     "output_type": "stream",
     "text": [
      "\r",
      "Optimization Progress:  73%|███████▎  | 241/330 [1:25:48<1:06:20, 44.73s/pipeline]\r",
      "Optimization Progress:  73%|███████▎  | 242/330 [1:27:18<1:25:16, 58.14s/pipeline]\r",
      "Optimization Progress:  74%|███████▎  | 243/330 [1:27:18<59:21, 40.94s/pipeline]  \r",
      "Optimization Progress:  74%|███████▍  | 244/330 [1:27:29<45:39, 31.85s/pipeline]\r",
      "Optimization Progress:  74%|███████▍  | 245/330 [1:28:00<44:45, 31.59s/pipeline]\r",
      "Optimization Progress:  75%|███████▍  | 246/330 [1:33:00<2:36:59, 112.13s/pipeline]\r",
      "Optimization Progress:  75%|███████▌  | 248/330 [1:33:07<1:48:46, 79.59s/pipeline] \r",
      "Optimization Progress:  75%|███████▌  | 249/330 [1:33:08<1:15:38, 56.03s/pipeline]\r",
      "Optimization Progress:  76%|███████▌  | 250/330 [1:33:12<53:39, 40.24s/pipeline]  \r",
      "Optimization Progress:  76%|███████▌  | 251/330 [1:33:37<47:08, 35.80s/pipeline]\r",
      "Optimization Progress:  76%|███████▋  | 252/330 [1:38:37<2:29:39, 115.12s/pipeline]\r",
      "Optimization Progress:  77%|███████▋  | 254/330 [1:39:02<1:46:44, 84.27s/pipeline] \r",
      "Optimization Progress:  77%|███████▋  | 255/330 [1:39:04<1:14:22, 59.49s/pipeline]\r",
      "Optimization Progress:  78%|███████▊  | 256/330 [1:40:25<1:21:21, 65.96s/pipeline]\r",
      "Optimization Progress:  78%|███████▊  | 258/330 [1:40:26<55:41, 46.41s/pipeline]  \r",
      "Optimization Progress:  78%|███████▊  | 259/330 [1:40:40<43:13, 36.53s/pipeline]\r",
      "Optimization Progress:  79%|███████▉  | 260/330 [1:42:10<1:01:14, 52.49s/pipeline]\r",
      "Optimization Progress:  79%|███████▉  | 261/330 [1:42:30<49:20, 42.91s/pipeline]  \r",
      "Optimization Progress:  80%|████████  | 264/330 [1:42:31<33:11, 30.18s/pipeline]\r",
      "Optimization Progress:  80%|████████  | 265/330 [1:43:17<37:47, 34.89s/pipeline]\r",
      "Optimization Progress:  81%|████████  | 266/330 [1:43:34<31:25, 29.46s/pipeline]\r",
      "Optimization Progress:  81%|████████  | 267/330 [1:44:49<45:06, 42.97s/pipeline]\r",
      "Optimization Progress:  81%|████████  | 268/330 [1:46:35<1:04:09, 62.08s/pipeline]\r",
      "Optimization Progress:  82%|████████▏ | 269/330 [1:47:19<57:31, 56.57s/pipeline]  \r",
      "Optimization Progress:  82%|████████▏ | 270/330 [1:52:20<2:09:44, 129.75s/pipeline]\r",
      "Optimization Progress:  82%|████████▏ | 272/330 [1:53:14<1:35:39, 98.96s/pipeline] \r",
      "Optimization Progress:  83%|████████▎ | 273/330 [1:58:14<2:31:19, 159.29s/pipeline]\r",
      "                                                                                   \r",
      "\r",
      "Optimization Progress:  83%|████████▎ | 274/330 [1:58:14<2:28:40, 159.29s/pipeline]"
     ]
    },
    {
     "name": "stdout",
     "output_type": "stream",
     "text": [
      "Generation 8 - Current best internal CV score: 0.81245507110486\n"
     ]
    },
    {
     "name": "stderr",
     "output_type": "stream",
     "text": [
      "\r",
      "Optimization Progress:  83%|████████▎ | 274/330 [1:58:16<1:44:45, 112.23s/pipeline]\r",
      "Optimization Progress:  83%|████████▎ | 275/330 [2:02:42<2:25:14, 158.44s/pipeline]\r",
      "Optimization Progress:  84%|████████▎ | 276/330 [2:05:15<2:21:06, 156.79s/pipeline]\r",
      "Optimization Progress:  84%|████████▍ | 277/330 [2:05:42<1:44:00, 117.74s/pipeline]\r",
      "Optimization Progress:  84%|████████▍ | 278/330 [2:10:42<2:29:26, 172.44s/pipeline]\r",
      "Optimization Progress:  85%|████████▍ | 280/330 [2:11:13<1:44:27, 125.35s/pipeline]\r",
      "Optimization Progress:  85%|████████▌ | 281/330 [2:11:18<1:12:48, 89.15s/pipeline] \r",
      "Optimization Progress:  85%|████████▌ | 282/330 [2:11:52<58:05, 72.62s/pipeline]  \r",
      "Optimization Progress:  86%|████████▌ | 283/330 [2:12:38<50:33, 64.55s/pipeline]\r",
      "Optimization Progress:  86%|████████▌ | 284/330 [2:13:50<51:18, 66.93s/pipeline]\r",
      "Optimization Progress:  87%|████████▋ | 287/330 [2:14:24<35:58, 50.21s/pipeline]\r",
      "Optimization Progress:  87%|████████▋ | 288/330 [2:14:32<26:19, 37.61s/pipeline]\r",
      "Optimization Progress:  88%|████████▊ | 289/330 [2:19:32<1:19:29, 116.33s/pipeline]\r",
      "Optimization Progress:  88%|████████▊ | 291/330 [2:19:52<54:55, 84.49s/pipeline]   \r",
      "Optimization Progress:  88%|████████▊ | 292/330 [2:24:10<1:26:30, 136.58s/pipeline]\r",
      "Optimization Progress:  89%|████████▉ | 293/330 [2:24:11<59:01, 95.72s/pipeline]   \r",
      "Optimization Progress:  89%|████████▉ | 295/330 [2:25:32<46:14, 79.26s/pipeline]\r",
      "Optimization Progress:  90%|████████▉ | 296/330 [2:26:35<42:03, 74.22s/pipeline]\r",
      "Optimization Progress:  90%|█████████ | 297/330 [2:26:41<29:32, 53.72s/pipeline]\r",
      "Optimization Progress:  90%|█████████ | 298/330 [2:27:13<25:15, 47.37s/pipeline]\r",
      "Optimization Progress:  91%|█████████ | 300/330 [2:31:41<36:40, 73.34s/pipeline]\r",
      "Optimization Progress:  91%|█████████ | 301/330 [2:32:04<28:09, 58.24s/pipeline]\r",
      "Optimization Progress:  92%|█████████▏| 302/330 [2:33:40<32:29, 69.62s/pipeline]\r",
      "Optimization Progress:  92%|█████████▏| 303/330 [2:34:07<25:30, 56.67s/pipeline]\r",
      "Optimization Progress:  92%|█████████▏| 304/330 [2:34:22<19:13, 44.35s/pipeline]\r",
      "Optimization Progress:  92%|█████████▏| 305/330 [2:35:36<22:11, 53.27s/pipeline]\r",
      "Optimization Progress:  93%|█████████▎| 306/330 [2:35:55<17:07, 42.81s/pipeline]\r",
      "                                                                                \r",
      "\r",
      "Optimization Progress:  93%|█████████▎| 306/330 [2:35:55<17:07, 42.81s/pipeline]"
     ]
    },
    {
     "name": "stdout",
     "output_type": "stream",
     "text": [
      "Generation 9 - Current best internal CV score: 0.814954289732771\n"
     ]
    },
    {
     "name": "stderr",
     "output_type": "stream",
     "text": [
      "\r",
      "Optimization Progress:  93%|█████████▎| 307/330 [2:36:44<17:11, 44.83s/pipeline]\r",
      "Optimization Progress:  93%|█████████▎| 308/330 [2:39:07<27:11, 74.14s/pipeline]\r",
      "Optimization Progress:  94%|█████████▎| 309/330 [2:39:07<18:10, 51.94s/pipeline]\r",
      "Optimization Progress:  94%|█████████▍| 310/330 [2:40:04<17:50, 53.55s/pipeline]\r",
      "Optimization Progress:  94%|█████████▍| 311/330 [2:40:22<13:29, 42.61s/pipeline]\r",
      "Optimization Progress:  95%|█████████▍| 312/330 [2:41:59<17:45, 59.18s/pipeline]\r",
      "Optimization Progress:  95%|█████████▍| 313/330 [2:42:05<12:12, 43.10s/pipeline]\r",
      "Optimization Progress:  95%|█████████▌| 315/330 [2:42:37<08:44, 34.94s/pipeline]\r",
      "Optimization Progress:  96%|█████████▌| 316/330 [2:43:17<08:29, 36.40s/pipeline]\r",
      "Optimization Progress:  97%|█████████▋| 320/330 [2:43:35<04:28, 26.86s/pipeline]\r",
      "Optimization Progress:  97%|█████████▋| 321/330 [2:45:11<07:07, 47.55s/pipeline]\r",
      "Optimization Progress:  98%|█████████▊| 322/330 [2:45:20<04:48, 36.04s/pipeline]\r",
      "Optimization Progress:  98%|█████████▊| 323/330 [2:45:53<04:05, 35.08s/pipeline]\r",
      "Optimization Progress:  98%|█████████▊| 324/330 [2:45:54<02:29, 24.91s/pipeline]\r",
      "Optimization Progress:  98%|█████████▊| 325/330 [2:46:29<02:19, 27.89s/pipeline]\r",
      "Optimization Progress:  99%|█████████▉| 326/330 [2:46:59<01:53, 28.49s/pipeline]\r",
      "Optimization Progress:  99%|█████████▉| 327/330 [2:47:17<01:16, 25.34s/pipeline]\r",
      "Optimization Progress:  99%|█████████▉| 328/330 [2:47:45<00:52, 26.16s/pipeline]\r",
      "Optimization Progress: 100%|█████████▉| 329/330 [2:48:44<00:35, 35.99s/pipeline]\r",
      "Optimization Progress: 100%|██████████| 330/330 [2:48:53<00:00, 28.14s/pipeline]\r",
      "Optimization Progress: 331pipeline [2:49:11, 24.98s/pipeline]                   \r",
      "Optimization Progress: 332pipeline [2:49:15, 18.70s/pipeline]\r",
      "Optimization Progress: 333pipeline [2:49:51, 23.78s/pipeline]\r",
      "Optimization Progress: 334pipeline [2:49:52, 17.00s/pipeline]\r",
      "Optimization Progress: 335pipeline [2:50:19, 20.01s/pipeline]\r",
      "Optimization Progress: 336pipeline [2:51:38, 37.73s/pipeline]\r",
      "                                                             \r",
      "\r",
      "Optimization Progress: 336pipeline [2:51:38, 37.73s/pipeline]\r",
      "                                                             \r"
     ]
    },
    {
     "name": "stdout",
     "output_type": "stream",
     "text": [
      "Generation 10 - Current best internal CV score: 0.814954289732771\n",
      "\n",
      "Best pipeline: RandomForestClassifier(input_matrix, bootstrap=True, criterion=gini, max_features=0.05, min_samples_leaf=11, min_samples_split=3, n_estimators=100)\n"
     ]
    },
    {
     "data": {
      "text/plain": [
       "TPOTClassifier(config_dict={'tpot.builtins.OneHotEncoder': {'minimum_fraction': [0.05, 0.1, 0.15, 0.2, 0.25]}, 'sklearn.neighbors.KNeighborsClassifier': {'n_neighbors': range(1, 101), 'weights': ['uniform', 'distance'], 'p': [1, 2]}, 'sklearn.ensemble.RandomForestClassifier': {'n_estimators': [100], 'criterion': [...0.65, 0.7 , 0.75, 0.8 , 0.85, 0.9 , 0.95, 1.  ]), 'min_child_weight': range(1, 21), 'nthread': [1]}},\n",
       "        crossover_rate=0.1, cv=5, disable_update_check=False,\n",
       "        early_stop=None, generations=10, max_eval_time_mins=5,\n",
       "        max_time_mins=None, memory=None, mutation_rate=0.9, n_jobs=1,\n",
       "        offspring_size=30, periodic_checkpoint_folder=None,\n",
       "        population_size=30, random_state=42, scoring=None, subsample=1.0,\n",
       "        verbosity=2, warm_start=False)"
      ]
     },
     "execution_count": 29,
     "metadata": {},
     "output_type": "execute_result"
    }
   ],
   "source": [
    "pipeline_optimizer = TPOTClassifier(generations=10, population_size=30,\n",
    "                                    random_state=42, verbosity=2,\n",
    "                                   config_dict = \"TPOT sparse\")\n",
    "pipeline_optimizer.fit(train_final, train_labels) #This takes a couple hours to run"
   ]
  },
  {
   "cell_type": "markdown",
   "metadata": {},
   "source": [
    "#### 2. Output TPOT Algorithm"
   ]
  },
  {
   "cell_type": "code",
   "execution_count": 30,
   "metadata": {},
   "outputs": [
    {
     "data": {
      "text/plain": [
       "True"
      ]
     },
     "execution_count": 30,
     "metadata": {},
     "output_type": "execute_result"
    }
   ],
   "source": [
    "pipeline_optimizer.export('tpot_all_feats-nosyntax-celeb.py')"
   ]
  },
  {
   "cell_type": "markdown",
   "metadata": {},
   "source": [
    "#### 3. Implement TPOT Algorithm"
   ]
  },
  {
   "cell_type": "code",
   "execution_count": 43,
   "metadata": {},
   "outputs": [
    {
     "name": "stdout",
     "output_type": "stream",
     "text": [
      "accuracy on original test set:  0.81\n"
     ]
    }
   ],
   "source": [
    "import numpy as np\n",
    "import pandas as pd\n",
    "from sklearn.ensemble import RandomForestClassifier\n",
    "from sklearn.model_selection import train_test_split\n",
    "\n",
    "exported_pipeline = RandomForestClassifier(bootstrap=True, criterion=\"gini\", \n",
    "                                           max_features=0.05, min_samples_leaf=20, \n",
    "                                           min_samples_split=3, n_estimators=150,\n",
    "                                          random_state = 1)\n",
    "\n",
    "\n",
    "exported_pipeline.fit(train_final, train_labels)\n",
    "ORIG_results = exported_pipeline.predict(test_final)\n",
    "ORIG_proba = exported_pipeline.predict_proba(test_final)\n",
    "print(\"accuracy on original test set: \",np.mean(ORIG_results == test_labels))"
   ]
  },
  {
   "cell_type": "markdown",
   "metadata": {},
   "source": [
    "#### 4. Output TPOT Model Report"
   ]
  },
  {
   "cell_type": "code",
   "execution_count": 42,
   "metadata": {},
   "outputs": [
    {
     "name": "stdout",
     "output_type": "stream",
     "text": [
      "Original Test Set Report\n",
      "---------\n",
      "             precision    recall  f1-score   support\n",
      "\n",
      "          0       0.83      0.81      0.82        54\n",
      "          1       0.79      0.80      0.80        46\n",
      "\n",
      "avg / total       0.81      0.81      0.81       100\n",
      "\n"
     ]
    },
    {
     "data": {
      "image/png": "[encoded data removed]",
      "text/plain": [
       "<matplotlib.figure.Figure at 0x1a203ebf60>"
      ]
     },
     "metadata": {},
     "output_type": "display_data"
    },
    {
     "data": {
      "image/png": "[encoded data removed]",
      "text/plain": [
       "<matplotlib.figure.Figure at 0x1a20e59da0>"
      ]
     },
     "metadata": {},
     "output_type": "display_data"
    }
   ],
   "source": [
    "model_report(\"Original Test Set Report\", test_labels, ORIG_results, ORIG_proba[:,1])"
   ]
  },
  {
   "cell_type": "code",
   "execution_count": 31,
   "metadata": {},
   "outputs": [],
   "source": [
    "\n"
   ]
  },
  {
   "cell_type": "code",
   "execution_count": null,
   "metadata": {},
   "outputs": [],
   "source": []
  }
 ],
 "metadata": {
  "kernelspec": {
   "display_name": "Python 3",
   "language": "python",
   "name": "python3"
  },
  "language_info": {
   "codemirror_mode": {
    "name": "ipython",
    "version": 3
   },
   "file_extension": ".py",
   "mimetype": "text/x-python",
   "name": "python",
   "nbconvert_exporter": "python",
   "pygments_lexer": "ipython3",
   "version": "3.6.3"
  }
 },
 "nbformat": 4,
 "nbformat_minor": 2
}
