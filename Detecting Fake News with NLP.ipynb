{
 "cells": [
  {
   "cell_type": "markdown",
   "metadata": {},
   "source": [
    "# Detecting Fake News with Natural Language Processing"
   ]
  },
  {
   "cell_type": "code",
   "execution_count": 10,
   "metadata": {},
   "outputs": [],
   "source": [
    "# Load packages\n",
    "import numpy as np\n",
    "import pandas as pd\n",
    "import re\n",
    "import os"
   ]
  },
  {
   "cell_type": "markdown",
   "metadata": {},
   "source": [
    "We will use the GLoVe pre-trained word embedding data set to convert words into N-dimensional vectors. We will use 50 dimensional vectors for now. These vectors were trained on Wikipedia 2014 + Gigaword 5 and includes a 400,000 word vocabulary of uncased words. The file (glove.6B.50d.txt) can be downloaded here: https://nlp.stanford.edu/projects/glove/ . In order to run an LSTM, we will need every article to have the same number of words. Most of the news articles in the Fake News dataset are under 200 words long, including the headline and body. Most of the news articles in the Celebrity data set are under 750 words long. We will begin by capping the article length at 200 words. Articles that are shorter than this, will be padded with zeros (i.e. a random word) at the end."
   ]
  },
  {
   "cell_type": "code",
   "execution_count": null,
   "metadata": {},
   "outputs": [],
   "source": [
    "# Supply location of GloVe text file, location of data, and max word length of news article\n",
    "glove_filepath = 'models/embeddings/glove.6B.50d.txt'\n",
    "datapath = 'data/fakeNewsDatasets_Perez-Rosas2018'\n",
    "maxSeqLength = 200"
   ]
  },
  {
   "cell_type": "markdown",
   "metadata": {},
   "source": [
    "## Load GloVe Embedding Matrix"
   ]
  },
  {
   "cell_type": "code",
   "execution_count": 3,
   "metadata": {},
   "outputs": [],
   "source": [
    "# Function to load GloVe embedding data, and convert it to three useful formats\n",
    "def loadGloveModel(gloveFile):\n",
    "    print (\"Loading Glove Model\")\n",
    "    f = open(gloveFile,'r', encoding=\"utf8\")\n",
    "    model = {}\n",
    "    wordsList = []\n",
    "    embeddings = []\n",
    "    for line in f:\n",
    "        splitLine = line.split()\n",
    "        word = splitLine[0]\n",
    "        wordsList.append(word)\n",
    "        embedding = np.array([float(val) for val in splitLine[1:]])\n",
    "        model[word] = embedding\n",
    "        embeddings.append(embedding)\n",
    "    print (\"Done.\",len(model),\" words loaded!\")\n",
    "    f.close()\n",
    "    return wordsList, embeddings, model"
   ]
  },
  {
   "cell_type": "code",
   "execution_count": 4,
   "metadata": {},
   "outputs": [
    {
     "name": "stdout",
     "output_type": "stream",
     "text": [
      "Loading Glove Model\n",
      "Done. 400000  words loaded!\n"
     ]
    }
   ],
   "source": [
    "# We can access the position of a word in the embedding file using \"wordsList\"\n",
    "# We can access the embedding of a word using \"embeddings\". The position in this will match \"wordlist\".\n",
    "# We can access the embedding of a word using the dictionary \"model\". We will not actually use this, but useful to have.\n",
    "wordsList, embeddings, model = loadGloveModel(glove_filepath)"
   ]
  },
  {
   "cell_type": "markdown",
   "metadata": {},
   "source": [
    "## Load and Embed News Articles"
   ]
  },
  {
   "cell_type": "code",
   "execution_count": 7,
   "metadata": {},
   "outputs": [],
   "source": [
    "# Function that removes punctuation, parentheses, question marks, etc., and leaves only alphanumeric characters\n",
    "def cleanArticle(string):\n",
    "    strip_special_chars = re.compile(\"[^A-Za-z0-9 ]+\")\n",
    "    string = string.lower().replace(\"<br />\", \" \")\n",
    "    return re.sub(strip_special_chars, \"\", string.lower())\n",
    "\n",
    "# Function that takes a news article as an input.\n",
    "# It generates a fixed sequences of integers corresponding to the index of the embedding in the embedding lookup\n",
    "# It caps the number of embedded words (i.e. article length) at maxSeqLength\n",
    "# Words that do not exist in GloVe, will be assigned to a random embedding. In this case, the one at position 39999\n",
    "def getArticleMatrix(article):\n",
    "    articleMatrix = np.zeros(maxSeqLength, dtype='int32')\n",
    "    cleanedArticle = cleanArticle(article)\n",
    "    split = cleanedArticle.split()\n",
    "    for indexCounter,word in enumerate(split):\n",
    "        if indexCounter==maxSeqLength:\n",
    "            break\n",
    "        try:\n",
    "            articleMatrix[indexCounter] = wordsList.index(word)\n",
    "        except ValueError:\n",
    "            articleMatrix[indexCounter] = 399999 #Vector for unkown words\n",
    "    return articleMatrix"
   ]
  },
  {
   "cell_type": "code",
   "execution_count": 15,
   "metadata": {},
   "outputs": [],
   "source": [
    "# Function to load and embed news articles\n",
    "def tabulate_data(dataset_name):\n",
    "    \"\"\"Create a Pandas dataframe out of input Perez-Rosas dataset files\n",
    "    @param dataset_name: Name of the dataset (fakenews or celebrity)\n",
    "    @returns Pandas dataframe with columns:\n",
    "        dataset_name, news_type, news_category, news_headline, news_content\n",
    "    \"\"\"\n",
    "    def remove_numbers(in_str):\n",
    "        return re.sub(r'[0-9]+', '', in_str)\n",
    "\n",
    "    result_data_list = []\n",
    "    data_dir = datapath\n",
    "    for news_type in ['fake', 'legit']:\n",
    "        folder = '%s/%s/%s' % (data_dir, dataset_name, news_type)\n",
    "        for fname in os.listdir(folder):\n",
    "            result_data = {}\n",
    "            result_data['dataset_name'] = dataset_name\n",
    "            result_data['news_type'] = news_type\n",
    "            if news_type == 'fake':\n",
    "                result_data['is_fake'] = 1\n",
    "            else:\n",
    "                result_data['is_fake'] = 0\n",
    "            if dataset_name == 'fakeNewsDataset':\n",
    "                result_data['news_category'] = remove_numbers(fname.split('.')[0])\n",
    "            result_data['file_name'] = fname\n",
    "            filepath = os.path.join(folder, fname)\n",
    "            with open(filepath, 'r', encoding=\"utf8\") as f:\n",
    "                file_data = f.read().split('\\n')\n",
    "                # Some articles don't have a headline, but only article body.\n",
    "                if len(file_data) > 1:\n",
    "                    news_content_data = ' '.join(file_data[2:])\n",
    "                    result_data['news_headline'] = file_data[0]\n",
    "                else:\n",
    "                    news_content_data = file_data[0]\n",
    "                    result_data['news_headline'] = ''\n",
    "                result_data['news_content'] = news_content_data\n",
    "                result_data['news_all'] = ' '.join(file_data[0:])\n",
    "                result_data['news_embed'] = getArticleMatrix(result_data['news_all'])\n",
    "                result_data['num_embed_words'] = len(result_data['news_embed'])\n",
    "                result_data_list.append(result_data)\n",
    "    df = pd.DataFrame(result_data_list)\n",
    "    return df"
   ]
  },
  {
   "cell_type": "code",
   "execution_count": 16,
   "metadata": {},
   "outputs": [
    {
     "data": {
      "text/html": [
       "<div>\n",
       "<style scoped>\n",
       "    .dataframe tbody tr th:only-of-type {\n",
       "        vertical-align: middle;\n",
       "    }\n",
       "\n",
       "    .dataframe tbody tr th {\n",
       "        vertical-align: top;\n",
       "    }\n",
       "\n",
       "    .dataframe thead th {\n",
       "        text-align: right;\n",
       "    }\n",
       "</style>\n",
       "<table border=\"1\" class=\"dataframe\">\n",
       "  <thead>\n",
       "    <tr style=\"text-align: right;\">\n",
       "      <th></th>\n",
       "      <th>dataset_name</th>\n",
       "      <th>file_name</th>\n",
       "      <th>is_fake</th>\n",
       "      <th>news_all</th>\n",
       "      <th>news_category</th>\n",
       "      <th>news_content</th>\n",
       "      <th>news_embed</th>\n",
       "      <th>news_headline</th>\n",
       "      <th>news_type</th>\n",
       "      <th>num_embed_words</th>\n",
       "    </tr>\n",
       "  </thead>\n",
       "  <tbody>\n",
       "    <tr>\n",
       "      <th>0</th>\n",
       "      <td>fakeNewsDataset</td>\n",
       "      <td>polit19.fake.txt</td>\n",
       "      <td>1</td>\n",
       "      <td>FBI investigates computer link between Trump a...</td>\n",
       "      <td>polit</td>\n",
       "      <td>(CNN)Federal investigators and computer scie...</td>\n",
       "      <td>[2419, 20095, 951, 2858, 118, 10468, 5, 443, 3...</td>\n",
       "      <td>FBI investigates computer link between Trump a...</td>\n",
       "      <td>fake</td>\n",
       "      <td>200</td>\n",
       "    </tr>\n",
       "    <tr>\n",
       "      <th>1</th>\n",
       "      <td>fakeNewsDataset</td>\n",
       "      <td>tech028.fake.txt</td>\n",
       "      <td>1</td>\n",
       "      <td>Google steals user location information with a...</td>\n",
       "      <td>tech</td>\n",
       "      <td>Alphabet Inc's Google announced on Wednesday t...</td>\n",
       "      <td>[4361, 13753, 4832, 2044, 419, 17, 7, 12726, 1...</td>\n",
       "      <td>Google steals user location information with a...</td>\n",
       "      <td>fake</td>\n",
       "      <td>200</td>\n",
       "    </tr>\n",
       "    <tr>\n",
       "      <th>2</th>\n",
       "      <td>fakeNewsDataset</td>\n",
       "      <td>polit34.fake.txt</td>\n",
       "      <td>1</td>\n",
       "      <td>Biden: Trump was wiretapped, but not by US    ...</td>\n",
       "      <td>polit</td>\n",
       "      <td>Joe Biden said President Donald Trump was in...</td>\n",
       "      <td>[8725, 10468, 15, 62414, 34, 36, 21, 95, 1984,...</td>\n",
       "      <td>Biden: Trump was wiretapped, but not by US</td>\n",
       "      <td>fake</td>\n",
       "      <td>200</td>\n",
       "    </tr>\n",
       "    <tr>\n",
       "      <th>3</th>\n",
       "      <td>fakeNewsDataset</td>\n",
       "      <td>edu27.fake.txt</td>\n",
       "      <td>1</td>\n",
       "      <td>Harvard Law, Moving to Limit Applicant Pool, W...</td>\n",
       "      <td>edu</td>\n",
       "      <td>Harvard Law School, moving to close its door...</td>\n",
       "      <td>[3332, 264, 1233, 4, 2514, 19067, 3216, 43, 36...</td>\n",
       "      <td>Harvard Law, Moving to Limit Applicant Pool, W...</td>\n",
       "      <td>fake</td>\n",
       "      <td>200</td>\n",
       "    </tr>\n",
       "    <tr>\n",
       "      <th>4</th>\n",
       "      <td>fakeNewsDataset</td>\n",
       "      <td>edu14.fake.txt</td>\n",
       "      <td>1</td>\n",
       "      <td>Microsoft Aims to spread liberalism on the suc...</td>\n",
       "      <td>edu</td>\n",
       "      <td>With the launch of \"Minecraft\"  edition crea...</td>\n",
       "      <td>[2058, 4351, 4, 1635, 22142, 13, 0, 1045, 3, 1...</td>\n",
       "      <td>Microsoft Aims to spread liberalism on the suc...</td>\n",
       "      <td>fake</td>\n",
       "      <td>200</td>\n",
       "    </tr>\n",
       "  </tbody>\n",
       "</table>\n",
       "</div>"
      ],
      "text/plain": [
       "      dataset_name         file_name  is_fake  \\\n",
       "0  fakeNewsDataset  polit19.fake.txt        1   \n",
       "1  fakeNewsDataset  tech028.fake.txt        1   \n",
       "2  fakeNewsDataset  polit34.fake.txt        1   \n",
       "3  fakeNewsDataset    edu27.fake.txt        1   \n",
       "4  fakeNewsDataset    edu14.fake.txt        1   \n",
       "\n",
       "                                            news_all news_category  \\\n",
       "0  FBI investigates computer link between Trump a...         polit   \n",
       "1  Google steals user location information with a...          tech   \n",
       "2  Biden: Trump was wiretapped, but not by US    ...         polit   \n",
       "3  Harvard Law, Moving to Limit Applicant Pool, W...           edu   \n",
       "4  Microsoft Aims to spread liberalism on the suc...           edu   \n",
       "\n",
       "                                        news_content  \\\n",
       "0    (CNN)Federal investigators and computer scie...   \n",
       "1  Alphabet Inc's Google announced on Wednesday t...   \n",
       "2    Joe Biden said President Donald Trump was in...   \n",
       "3    Harvard Law School, moving to close its door...   \n",
       "4    With the launch of \"Minecraft\"  edition crea...   \n",
       "\n",
       "                                          news_embed  \\\n",
       "0  [2419, 20095, 951, 2858, 118, 10468, 5, 443, 3...   \n",
       "1  [4361, 13753, 4832, 2044, 419, 17, 7, 12726, 1...   \n",
       "2  [8725, 10468, 15, 62414, 34, 36, 21, 95, 1984,...   \n",
       "3  [3332, 264, 1233, 4, 2514, 19067, 3216, 43, 36...   \n",
       "4  [2058, 4351, 4, 1635, 22142, 13, 0, 1045, 3, 1...   \n",
       "\n",
       "                                       news_headline news_type  \\\n",
       "0  FBI investigates computer link between Trump a...      fake   \n",
       "1  Google steals user location information with a...      fake   \n",
       "2         Biden: Trump was wiretapped, but not by US      fake   \n",
       "3  Harvard Law, Moving to Limit Applicant Pool, W...      fake   \n",
       "4  Microsoft Aims to spread liberalism on the suc...      fake   \n",
       "\n",
       "   num_embed_words  \n",
       "0              200  \n",
       "1              200  \n",
       "2              200  \n",
       "3              200  \n",
       "4              200  "
      ]
     },
     "execution_count": 16,
     "metadata": {},
     "output_type": "execute_result"
    }
   ],
   "source": [
    "# Load fake news data set\n",
    "# Note: Embedded words used the article title and body. All embeddings should have a length of maxSeqLength.\n",
    "fakenews_df = tabulate_data('fakeNewsDataset')\n",
    "fakenews_df.head()"
   ]
  },
  {
   "cell_type": "code",
   "execution_count": 19,
   "metadata": {},
   "outputs": [],
   "source": [
    "# # Confirm embeddings worked properly. The index of the first 5 words should line up!\n",
    "# print(fakenews_df.loc[0]['news_all'])\n",
    "# print(fakenews_df.loc[0]['news_embed'])\n",
    "# print(wordsList.index(\"FBI\".lower()))\n",
    "# print(wordsList.index(\"investigates\".lower()))\n",
    "# print(wordsList.index(\"computer\".lower()))\n",
    "# print(wordsList.index(\"link\".lower()))\n",
    "# print(wordsList.index(\"between\".lower()))"
   ]
  },
  {
   "cell_type": "markdown",
   "metadata": {},
   "source": [
    "## Build Long Short Term Memory (LSTM) Model"
   ]
  },
  {
   "cell_type": "markdown",
   "metadata": {},
   "source": [
    "We will use TensorFlow to build and train a LSTM model which is capable if producing a binary classifier of fake or not fake, for each news artcile.\n",
    "\n",
    "Internal team note: The Oriole LSTM notebook (in /models/LSTM_Classification) has a great explaination of deep learning, recurrent neural networks, LSTMs, word embeddings etc. We can rely heavily on this if we want to explain things in detail in our paper. I recommend reading through that notebook."
   ]
  },
  {
   "cell_type": "code",
   "execution_count": null,
   "metadata": {},
   "outputs": [],
   "source": []
  }
 ],
 "metadata": {
  "kernelspec": {
   "display_name": "Python 3",
   "language": "python",
   "name": "python3"
  },
  "language_info": {
   "codemirror_mode": {
    "name": "ipython",
    "version": 3
   },
   "file_extension": ".py",
   "mimetype": "text/x-python",
   "name": "python",
   "nbconvert_exporter": "python",
   "pygments_lexer": "ipython3",
   "version": "3.6.5"
  }
 },
 "nbformat": 4,
 "nbformat_minor": 2
}
