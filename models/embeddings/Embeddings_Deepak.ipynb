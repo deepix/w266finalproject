{
 "cells": [
  {
   "cell_type": "markdown",
   "metadata": {},
   "source": [
    "### Generating and using embeddings\n",
    "\n",
    "We will use GLoVe pre-trained data set to convert some sentences into N-dimensional vectors.\n",
    "\n",
    "First, we will use the \"gensim\" package to load the dataset into an easily consumable model."
   ]
  },
  {
   "cell_type": "code",
   "execution_count": 1,
   "metadata": {},
   "outputs": [],
   "source": [
    "# Load pre-trained GloVe vectors\n",
    "import numpy as np\n",
    "\n",
    "import pandas as pd\n",
    "import csv\n",
    "\n",
    "def load_glove_model_v1(dim=50):\n",
    "    \"\"\"Load a Glove dataset into a Pandas dataframe\n",
    "    Returns: embedding\"\"\"\n",
    "    glove_data_file = 'glove.6B.%dd.txt' % dim\n",
    "    embedding_df = pd.read_table(glove_data_file, sep=\" \", index_col=0, \n",
    "                                 header=None, quoting=csv.QUOTE_NONE,\n",
    "                                 na_values=None, keep_default_na=False)\n",
    "    return embedding_df\n",
    "\n",
    "def load_glove_model_v2(dim=50):\n",
    "    \"\"\"Load a Glove model into a gensim model, converting it\n",
    "    into word2vec if necessary.\n",
    "    Adapted from: https://stackoverflow.com/a/47465278\n",
    "    \"\"\"\n",
    "    from gensim.scripts.glove2word2vec import glove2word2vec\n",
    "    from gensim.models.keyedvectors import KeyedVectors\n",
    "    from pathlib import Path\n",
    "\n",
    "    glove_data_file = 'glove.6B.%dd.txt' % dim\n",
    "    word2vec_output_file = '%s.w2v' % glove_data_file\n",
    "\n",
    "    if not Path(word2vec_output_file).exists():\n",
    "        glove2word2vec(glove_input_file=glove_data_file, word2vec_output_file=word2vec_output_file)\n",
    "    glove_model = KeyedVectors.load_word2vec_format(word2vec_output_file, binary=False)\n",
    "    return glove_model\n",
    "\n",
    "# We will use v2, because it is more versatile\n",
    "model = load_glove_model_v2()"
   ]
  },
  {
   "cell_type": "markdown",
   "metadata": {},
   "source": [
    "Let's try to run this embedding model on a sample sentence within TensorFlow."
   ]
  },
  {
   "cell_type": "code",
   "execution_count": null,
   "metadata": {},
   "outputs": [],
   "source": [
    "# Adapted from: http://adventuresinmachinelearning.com/gensim-word2vec-tutorial/\n",
    "\n",
    "import tensorflow  as tf\n",
    "\n",
    "tf.reset_default_graph()\n",
    "sentences = tf.placeholder(tf.int32, shape=[None,None])\n",
    "\n",
    "# Build an embedding matrix out of embedding vectors\n",
    "embedding_matrix = np.zeros((len(model.wv.vocab), dim))\n",
    "for i in range(len(model.wv.vocab)):\n",
    "    embedding_vector = model.wv[model.wv.index2word[i]]\n",
    "    if embedding_vector is not None:\n",
    "        embedding_matrix[i] = embedding_vector\n",
    "\n",
    "# Print a lookup for a sample sentence with word IDs [1, 5, 10]\n",
    "saved_embeddings = tf.constant(embedding_matrix)\n",
    "embedding = tf.Variable(initial_value=saved_embeddings, trainable=False)\n",
    "embedding_lookup = tf.nn.embedding_lookup(embedding, sentences)\n",
    "with tf.Session() as sess:\n",
    "        sess.run(tf.global_variables_initializer())\n",
    "        print(sess.run(embedding_lookup,\n",
    "                       feed_dict={sentences:[[1, 5, 10]]}))"
   ]
  },
  {
   "cell_type": "markdown",
   "metadata": {},
   "source": [
    "It works.  Next, we will convert our dataset into a form suitable for this training.  We should also experiment with [GoogleNews word2vec dataset](http://mccormickml.com/2016/04/12/googles-pretrained-word2vec-model-in-python/), because that is more relevant to a Fake News project.\n",
    "\n",
    "### TODO: Convert our dataset into embeddings"
   ]
  },
  {
   "cell_type": "code",
   "execution_count": null,
   "metadata": {},
   "outputs": [],
   "source": []
  }
 ],
 "metadata": {
  "kernelspec": {
   "display_name": "Python 3",
   "language": "python",
   "name": "python3"
  },
  "language_info": {
   "codemirror_mode": {
    "name": "ipython",
    "version": 3
   },
   "file_extension": ".py",
   "mimetype": "text/x-python",
   "name": "python",
   "nbconvert_exporter": "python",
   "pygments_lexer": "ipython3",
   "version": "3.6.5"
  }
 },
 "nbformat": 4,
 "nbformat_minor": 2
}
